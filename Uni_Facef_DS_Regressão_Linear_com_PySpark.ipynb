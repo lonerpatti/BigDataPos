{
  "nbformat": 4,
  "nbformat_minor": 0,
  "metadata": {
    "kernelspec": {
      "display_name": "Python 3",
      "language": "python",
      "name": "python3"
    },
    "language_info": {
      "codemirror_mode": {
        "name": "ipython",
        "version": 3
      },
      "file_extension": ".py",
      "mimetype": "text/x-python",
      "name": "python",
      "nbconvert_exporter": "python",
      "pygments_lexer": "ipython3",
      "version": "3.7.3"
    },
    "colab": {
      "name": "Uni-Facef - DS - Regressão Linear com PySpark.ipynb",
      "provenance": [],
      "include_colab_link": true
    }
  },
  "cells": [
    {
      "cell_type": "markdown",
      "metadata": {
        "id": "view-in-github",
        "colab_type": "text"
      },
      "source": [
        "<a href=\"https://colab.research.google.com/github/lonerpatti/BigDataPos/blob/main/Uni_Facef_DS_Regress%C3%A3o_Linear_com_PySpark.ipynb\" target=\"_parent\"><img src=\"https://colab.research.google.com/assets/colab-badge.svg\" alt=\"Open In Colab\"/></a>"
      ]
    },
    {
      "cell_type": "markdown",
      "metadata": {
        "id": "X00R6rja9hkt"
      },
      "source": [
        "# <font color='blue'>Uni-Facef - DS - Regressão Linear com Pyspark </font>"
      ]
    },
    {
      "cell_type": "code",
      "metadata": {
        "id": "SseQElOI99fS",
        "outputId": "2aa22ad8-aa23-4434-d20e-65626015d4a0",
        "colab": {
          "resources": {
            "http://localhost:8080/nbextensions/google.colab/files.js": {
              "data": "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",
              "ok": true,
              "headers": [
                [
                  "content-type",
                  "application/javascript"
                ]
              ],
              "status": 200,
              "status_text": ""
            }
          },
          "base_uri": "https://localhost:8080/",
          "height": 73
        }
      },
      "source": [
        "from google.colab import files\n",
        "uploaded = files.upload()"
      ],
      "execution_count": 1,
      "outputs": [
        {
          "output_type": "display_data",
          "data": {
            "text/html": [
              "\n",
              "     <input type=\"file\" id=\"files-82e30555-13d3-490e-b499-034f8ea40c8b\" name=\"files[]\" multiple disabled\n",
              "        style=\"border:none\" />\n",
              "     <output id=\"result-82e30555-13d3-490e-b499-034f8ea40c8b\">\n",
              "      Upload widget is only available when the cell has been executed in the\n",
              "      current browser session. Please rerun this cell to enable.\n",
              "      </output>\n",
              "      <script src=\"/nbextensions/google.colab/files.js\"></script> "
            ],
            "text/plain": [
              "<IPython.core.display.HTML object>"
            ]
          },
          "metadata": {
            "tags": []
          }
        },
        {
          "output_type": "stream",
          "text": [
            "Saving Salary_Data.csv to Salary_Data.csv\n"
          ],
          "name": "stdout"
        }
      ]
    },
    {
      "cell_type": "code",
      "metadata": {
        "id": "FwVaJGR9-J4L",
        "outputId": "5bc0c504-4043-45ea-d005-82b8ab1a0f39",
        "colab": {
          "base_uri": "https://localhost:8080/",
          "height": 235
        }
      },
      "source": [
        "!pip install pyspark"
      ],
      "execution_count": 3,
      "outputs": [
        {
          "output_type": "stream",
          "text": [
            "Collecting pyspark\n",
            "\u001b[?25l  Downloading https://files.pythonhosted.org/packages/f0/26/198fc8c0b98580f617cb03cb298c6056587b8f0447e20fa40c5b634ced77/pyspark-3.0.1.tar.gz (204.2MB)\n",
            "\u001b[K     |████████████████████████████████| 204.2MB 67kB/s \n",
            "\u001b[?25hCollecting py4j==0.10.9\n",
            "\u001b[?25l  Downloading https://files.pythonhosted.org/packages/9e/b6/6a4fb90cd235dc8e265a6a2067f2a2c99f0d91787f06aca4bcf7c23f3f80/py4j-0.10.9-py2.py3-none-any.whl (198kB)\n",
            "\u001b[K     |████████████████████████████████| 204kB 37.2MB/s \n",
            "\u001b[?25hBuilding wheels for collected packages: pyspark\n",
            "  Building wheel for pyspark (setup.py) ... \u001b[?25l\u001b[?25hdone\n",
            "  Created wheel for pyspark: filename=pyspark-3.0.1-py2.py3-none-any.whl size=204612243 sha256=d8080ece58b869e97791302992cf11279bd106276aa019a50306c0e9f01eff6e\n",
            "  Stored in directory: /root/.cache/pip/wheels/5e/bd/07/031766ca628adec8435bb40f0bd83bb676ce65ff4007f8e73f\n",
            "Successfully built pyspark\n",
            "Installing collected packages: py4j, pyspark\n",
            "Successfully installed py4j-0.10.9 pyspark-3.0.1\n"
          ],
          "name": "stdout"
        }
      ]
    },
    {
      "cell_type": "markdown",
      "metadata": {
        "id": "AMO7mjPo9hkv"
      },
      "source": [
        "Treinamento de um modelo com Regressão Linear usando PySpark\n",
        "\n",
        "   O objetivo da Regressão Linear é prever os valores de uma variável dependente com base em resultados da variável independente. Então, da fórmula de regressão linear Y = ax + b, \"x\" é a variável independente (preditora) e y é a variável dependente (resposta), uma vez que \"y\" depende de \"x\". É um algoritmo de Aprendizado Supervisionado.\n",
        "\n",
        "Baseado no artigo: https://www.cetax.com.br/blog/tutorial-pyspark-e-mllib/"
      ]
    },
    {
      "cell_type": "code",
      "metadata": {
        "id": "FUzW8imt9hkv"
      },
      "source": [
        "# Import SparkSession\n",
        "from pyspark.sql import SparkSession\n",
        "\n",
        "# Build the SparkSession\n",
        "spark = SparkSession.builder \\\n",
        "   .master(\"local\") \\\n",
        "   .appName(\"Linear Regression Model\") \\\n",
        "   .getOrCreate()\n",
        "   \n",
        "sc = spark.sparkContext"
      ],
      "execution_count": 4,
      "outputs": []
    },
    {
      "cell_type": "code",
      "metadata": {
        "id": "vlim7xmf9hkz",
        "outputId": "c59440ec-5f86-4cc0-bee9-25b56ac54e3a",
        "colab": {
          "base_uri": "https://localhost:8080/",
          "height": 454
        }
      },
      "source": [
        "df = spark.read \\\n",
        "    .option(\"delimiter\", \",\") \\\n",
        "    .csv('Salary_Data.csv', header=False)\n",
        "\n",
        "df.show()"
      ],
      "execution_count": 5,
      "outputs": [
        {
          "output_type": "stream",
          "text": [
            "+---+--------+\n",
            "|_c0|     _c1|\n",
            "+---+--------+\n",
            "|1.1|39343.00|\n",
            "|1.3|46205.00|\n",
            "|1.5|37731.00|\n",
            "|2.0|43525.00|\n",
            "|2.2|39891.00|\n",
            "|2.9|56642.00|\n",
            "|3.0|60150.00|\n",
            "|3.2|54445.00|\n",
            "|3.2|64445.00|\n",
            "|3.7|57189.00|\n",
            "|3.9|63218.00|\n",
            "|4.0|55794.00|\n",
            "|4.0|56957.00|\n",
            "|4.1|57081.00|\n",
            "|4.5|61111.00|\n",
            "|4.9|67938.00|\n",
            "|5.1|66029.00|\n",
            "|5.3|83088.00|\n",
            "|5.9|81363.00|\n",
            "|6.0|93940.00|\n",
            "+---+--------+\n",
            "only showing top 20 rows\n",
            "\n"
          ],
          "name": "stdout"
        }
      ]
    },
    {
      "cell_type": "markdown",
      "metadata": {
        "id": "25vzn8UR9hk5"
      },
      "source": [
        "#### Renomeia os campos do dataframe"
      ]
    },
    {
      "cell_type": "code",
      "metadata": {
        "id": "c-l7xi489hk6",
        "outputId": "79e776af-c921-40c2-db57-d0f2a7eff970",
        "colab": {
          "base_uri": "https://localhost:8080/",
          "height": 84
        }
      },
      "source": [
        "df = df \\\n",
        "    .withColumnRenamed(\"_c0\", \"YearsExperience\") \\\n",
        "    .withColumnRenamed(\"_c1\", \"Salary\") \\\n",
        "    .select(\"Salary\", \"YearsExperience\")\n",
        "\n",
        "df.printSchema()"
      ],
      "execution_count": 6,
      "outputs": [
        {
          "output_type": "stream",
          "text": [
            "root\n",
            " |-- Salary: string (nullable = true)\n",
            " |-- YearsExperience: string (nullable = true)\n",
            "\n"
          ],
          "name": "stdout"
        }
      ]
    },
    {
      "cell_type": "code",
      "metadata": {
        "id": "v9Ntd_Jh9hk8",
        "outputId": "ee99f87d-49f5-4a42-f594-85fc4cf6378e",
        "colab": {
          "base_uri": "https://localhost:8080/",
          "height": 84
        }
      },
      "source": [
        "from pyspark.sql.types import *\n",
        "\n",
        "\n",
        "# Função para modifica o tipo de uma lista de colunas\n",
        "def convertColumn(df, names, newType):\n",
        "    for name in names: \n",
        "        df = df.withColumn(name, df[name].cast(newType))\n",
        "    return df \n",
        "\n",
        "\n",
        "# Lista das colunas para coversão\n",
        "columns = ['YearsExperience', 'Salary']\n",
        "\n",
        "\n",
        "# Converte as colunas para \"FloatType()\"\n",
        "df = convertColumn(df, columns, FloatType())\n",
        "\n",
        "df.printSchema()"
      ],
      "execution_count": 7,
      "outputs": [
        {
          "output_type": "stream",
          "text": [
            "root\n",
            " |-- Salary: float (nullable = true)\n",
            " |-- YearsExperience: float (nullable = true)\n",
            "\n"
          ],
          "name": "stdout"
        }
      ]
    },
    {
      "cell_type": "code",
      "metadata": {
        "id": "A5eIVJgS9hk_",
        "outputId": "239d310e-e9b0-4dea-8829-3367fd55e9b6",
        "colab": {
          "base_uri": "https://localhost:8080/",
          "height": 454
        }
      },
      "source": [
        "df.show()"
      ],
      "execution_count": 8,
      "outputs": [
        {
          "output_type": "stream",
          "text": [
            "+-------+---------------+\n",
            "| Salary|YearsExperience|\n",
            "+-------+---------------+\n",
            "|39343.0|            1.1|\n",
            "|46205.0|            1.3|\n",
            "|37731.0|            1.5|\n",
            "|43525.0|            2.0|\n",
            "|39891.0|            2.2|\n",
            "|56642.0|            2.9|\n",
            "|60150.0|            3.0|\n",
            "|54445.0|            3.2|\n",
            "|64445.0|            3.2|\n",
            "|57189.0|            3.7|\n",
            "|63218.0|            3.9|\n",
            "|55794.0|            4.0|\n",
            "|56957.0|            4.0|\n",
            "|57081.0|            4.1|\n",
            "|61111.0|            4.5|\n",
            "|67938.0|            4.9|\n",
            "|66029.0|            5.1|\n",
            "|83088.0|            5.3|\n",
            "|81363.0|            5.9|\n",
            "|93940.0|            6.0|\n",
            "+-------+---------------+\n",
            "only showing top 20 rows\n",
            "\n"
          ],
          "name": "stdout"
        }
      ]
    },
    {
      "cell_type": "code",
      "metadata": {
        "id": "0_2i_UcS9hlG",
        "outputId": "958715d2-e0b5-4df5-c994-d6fb4a9c41e0",
        "colab": {
          "base_uri": "https://localhost:8080/",
          "height": 454
        }
      },
      "source": [
        "df.groupBy(\"Salary\").count().sort(\"Salary\",ascending=False).show()"
      ],
      "execution_count": 9,
      "outputs": [
        {
          "output_type": "stream",
          "text": [
            "+--------+-----+\n",
            "|  Salary|count|\n",
            "+--------+-----+\n",
            "|122391.0|    1|\n",
            "|121872.0|    1|\n",
            "|116969.0|    1|\n",
            "|113812.0|    1|\n",
            "|112635.0|    1|\n",
            "|109431.0|    1|\n",
            "|105582.0|    1|\n",
            "|101302.0|    1|\n",
            "| 98273.0|    1|\n",
            "| 93940.0|    1|\n",
            "| 91738.0|    1|\n",
            "| 83088.0|    1|\n",
            "| 81363.0|    1|\n",
            "| 67938.0|    1|\n",
            "| 66029.0|    1|\n",
            "| 64445.0|    1|\n",
            "| 63218.0|    1|\n",
            "| 61111.0|    1|\n",
            "| 60150.0|    1|\n",
            "| 57189.0|    1|\n",
            "+--------+-----+\n",
            "only showing top 20 rows\n",
            "\n"
          ],
          "name": "stdout"
        }
      ]
    },
    {
      "cell_type": "markdown",
      "metadata": {
        "id": "P5QDQTUC9hlP"
      },
      "source": [
        "#### O método \"describe()\"\n",
        "\n",
        "Faz a descrição do \"df\" baseado nas colunas, retornando uma contagem dos elementos, a média, desvio padrão, valores mínimo e máximo."
      ]
    },
    {
      "cell_type": "code",
      "metadata": {
        "id": "eHmpWvhF9hlQ",
        "outputId": "af7a790e-747c-4501-8de4-89bf6c5ee635",
        "colab": {
          "base_uri": "https://localhost:8080/",
          "height": 185
        }
      },
      "source": [
        "df.describe().show()"
      ],
      "execution_count": 10,
      "outputs": [
        {
          "output_type": "stream",
          "text": [
            "+-------+------------------+------------------+\n",
            "|summary|            Salary|   YearsExperience|\n",
            "+-------+------------------+------------------+\n",
            "|  count|                30|                30|\n",
            "|   mean|           76003.0|5.3133333643277485|\n",
            "| stddev|27414.429784582302|2.8378881722287805|\n",
            "|    min|           37731.0|               1.1|\n",
            "|    max|          122391.0|              10.5|\n",
            "+-------+------------------+------------------+\n",
            "\n"
          ],
          "name": "stdout"
        }
      ]
    },
    {
      "cell_type": "markdown",
      "metadata": {
        "id": "k0Sr9H0o9hlV"
      },
      "source": [
        "#### Módulo DenseVector\n",
        "\n",
        "O uso do DenseVector é uma maneira otimizada de lidar com valores numéricos, acelerando o processamento realizado pelo Spark."
      ]
    },
    {
      "cell_type": "code",
      "metadata": {
        "id": "AjsXnmGs9hlW",
        "outputId": "f0e49a03-bcc9-4eda-d77b-bda47408700e",
        "colab": {
          "base_uri": "https://localhost:8080/",
          "height": 454
        }
      },
      "source": [
        "from pyspark.ml.linalg import DenseVector\n",
        "\n",
        "# Define o RDD \"input_data\" para aplicar DenseVector \n",
        "input_data = df.rdd.map(lambda x: (x[0], DenseVector(x[1:])))\n",
        "\n",
        "# Replace `df` with the new DataFrame\n",
        "df = spark.createDataFrame(input_data, [\"label\", \"features\"])\n",
        "\n",
        "df.show()"
      ],
      "execution_count": 11,
      "outputs": [
        {
          "output_type": "stream",
          "text": [
            "+-------+--------------------+\n",
            "|  label|            features|\n",
            "+-------+--------------------+\n",
            "|39343.0| [1.100000023841858]|\n",
            "|46205.0|[1.2999999523162842]|\n",
            "|37731.0|               [1.5]|\n",
            "|43525.0|               [2.0]|\n",
            "|39891.0| [2.200000047683716]|\n",
            "|56642.0|[2.9000000953674316]|\n",
            "|60150.0|               [3.0]|\n",
            "|54445.0| [3.200000047683716]|\n",
            "|64445.0| [3.200000047683716]|\n",
            "|57189.0| [3.700000047683716]|\n",
            "|63218.0|[3.9000000953674316]|\n",
            "|55794.0|               [4.0]|\n",
            "|56957.0|               [4.0]|\n",
            "|57081.0| [4.099999904632568]|\n",
            "|61111.0|               [4.5]|\n",
            "|67938.0| [4.900000095367432]|\n",
            "|66029.0| [5.099999904632568]|\n",
            "|83088.0| [5.300000190734863]|\n",
            "|81363.0| [5.900000095367432]|\n",
            "|93940.0|               [6.0]|\n",
            "+-------+--------------------+\n",
            "only showing top 20 rows\n",
            "\n"
          ],
          "name": "stdout"
        }
      ]
    },
    {
      "cell_type": "markdown",
      "metadata": {
        "id": "kht9S4VT9hlZ"
      },
      "source": [
        "####  Colocando os dados na mesma escala com método StantardScaler\n",
        "\n",
        "O algoritmo de Regressão Linear trabalha com distâncias euclidianas, ele realiza operações de distância entre pontos no plano cartesiano. Isso exige que os dados estejam na mesma escala.\n",
        "\n",
        "Com o StantardScaler, subtrai-se a média do valor \"x\" definido, e divide-se pela diferença (xmax – xmin). Desta forma, os dados estarão distribuidos ao longo de 0 na mesma escala."
      ]
    },
    {
      "cell_type": "code",
      "metadata": {
        "id": "LKwyNWEz9hlZ",
        "outputId": "b7dc024d-1967-4e3e-facb-69a10e96f8e7",
        "colab": {
          "base_uri": "https://localhost:8080/",
          "height": 67
        }
      },
      "source": [
        "# Import `StandardScaler` \n",
        "from pyspark.ml.feature import StandardScaler\n",
        "\n",
        "\n",
        "# Cria a instância do objeto\n",
        "standardScaler = StandardScaler(inputCol=\"features\", outputCol=\"features_scaled\")\n",
        "\n",
        "# Fit no DataFrame\n",
        "scaler = standardScaler.fit(df)\n",
        "\n",
        "# Transforma em dataframe com a escala\n",
        "scaled_df = scaler.transform(df)\n",
        "\n",
        "print(type(scaled_df))\n",
        "\n",
        "# Inspect the result\n",
        "scaled_df.take(2)"
      ],
      "execution_count": 12,
      "outputs": [
        {
          "output_type": "stream",
          "text": [
            "<class 'pyspark.sql.dataframe.DataFrame'>\n"
          ],
          "name": "stdout"
        },
        {
          "output_type": "execute_result",
          "data": {
            "text/plain": [
              "[Row(label=39343.0, features=DenseVector([1.1]), features_scaled=DenseVector([0.3876])),\n",
              " Row(label=46205.0, features=DenseVector([1.3]), features_scaled=DenseVector([0.4581]))]"
            ]
          },
          "metadata": {
            "tags": []
          },
          "execution_count": 12
        }
      ]
    },
    {
      "cell_type": "code",
      "metadata": {
        "id": "G_gYj5PX9hlc",
        "outputId": "2a8b0408-7bd1-413b-a9b1-9f42a4eab25d",
        "colab": {
          "base_uri": "https://localhost:8080/",
          "height": 185
        }
      },
      "source": [
        "help(scaled_df.take)"
      ],
      "execution_count": 13,
      "outputs": [
        {
          "output_type": "stream",
          "text": [
            "Help on method take in module pyspark.sql.dataframe:\n",
            "\n",
            "take(num) method of pyspark.sql.dataframe.DataFrame instance\n",
            "    Returns the first ``num`` rows as a :class:`list` of :class:`Row`.\n",
            "    \n",
            "    >>> df.take(2)\n",
            "    [Row(age=2, name='Alice'), Row(age=5, name='Bob')]\n",
            "    \n",
            "    .. versionadded:: 1.3\n",
            "\n"
          ],
          "name": "stdout"
        }
      ]
    },
    {
      "cell_type": "code",
      "metadata": {
        "id": "1nxqlf7f9hlg",
        "outputId": "025bdb82-3f60-40d7-9f4a-0db07614acc9",
        "colab": {
          "base_uri": "https://localhost:8080/",
          "height": 454
        }
      },
      "source": [
        "scaled_df.show()"
      ],
      "execution_count": 14,
      "outputs": [
        {
          "output_type": "stream",
          "text": [
            "+-------+--------------------+--------------------+\n",
            "|  label|            features|     features_scaled|\n",
            "+-------+--------------------+--------------------+\n",
            "|39343.0| [1.100000023841858]|[0.3876121809894839]|\n",
            "|46205.0|[1.2999999523162842]| [0.458087096256266]|\n",
            "|37731.0|               [1.5]|[0.5285620535293859]|\n",
            "|43525.0|               [2.0]|[0.7047494047058479]|\n",
            "|39891.0| [2.200000047683716]|[0.7752243619789678]|\n",
            "|56642.0|[2.9000000953674316]|[1.0218866704285499]|\n",
            "|60150.0|               [3.0]|[1.0571241070587718]|\n",
            "|54445.0| [3.200000047683716]|[1.1275990643318918]|\n",
            "|64445.0| [3.200000047683716]|[1.1275990643318918]|\n",
            "|57189.0| [3.700000047683716]|[1.3037864155083538]|\n",
            "|63218.0|[3.9000000953674316]|[1.3742613727814736]|\n",
            "|55794.0|               [4.0]|[1.4094988094116958]|\n",
            "|56957.0|               [4.0]|[1.4094988094116958]|\n",
            "|57081.0| [4.099999904632568]| [1.444736246041918]|\n",
            "|61111.0|               [4.5]|[1.5856861605881578]|\n",
            "|67938.0| [4.900000095367432]|[1.7266360751343977]|\n",
            "|66029.0| [5.099999904632568]|[1.7971109483948418]|\n",
            "|83088.0| [5.300000190734863]|[1.8675859896806377]|\n",
            "|81363.0| [5.900000095367432]|[2.0790107774873214]|\n",
            "|93940.0|               [6.0]|[2.1142482141175436]|\n",
            "+-------+--------------------+--------------------+\n",
            "only showing top 20 rows\n",
            "\n"
          ],
          "name": "stdout"
        }
      ]
    },
    {
      "cell_type": "markdown",
      "metadata": {
        "id": "Rt8ourzV9hlm"
      },
      "source": [
        "#### Slit em dados de treino e teste"
      ]
    },
    {
      "cell_type": "code",
      "metadata": {
        "id": "11Uw-aWK9hlm",
        "outputId": "d92e045f-20da-4164-d13c-081f55eae080",
        "colab": {
          "base_uri": "https://localhost:8080/",
          "height": 454
        }
      },
      "source": [
        "# Split the data into train and test sets\n",
        "train_data, test_data = scaled_df.randomSplit([.75,.25],seed=1234)\n",
        "\n",
        "train_data.show()"
      ],
      "execution_count": 15,
      "outputs": [
        {
          "output_type": "stream",
          "text": [
            "+--------+--------------------+--------------------+\n",
            "|   label|            features|     features_scaled|\n",
            "+--------+--------------------+--------------------+\n",
            "| 37731.0|               [1.5]|[0.5285620535293859]|\n",
            "| 39891.0| [2.200000047683716]|[0.7752243619789678]|\n",
            "| 43525.0|               [2.0]|[0.7047494047058479]|\n",
            "| 54445.0| [3.200000047683716]|[1.1275990643318918]|\n",
            "| 55794.0|               [4.0]|[1.4094988094116958]|\n",
            "| 56642.0|[2.9000000953674316]|[1.0218866704285499]|\n",
            "| 56957.0|               [4.0]|[1.4094988094116958]|\n",
            "| 57081.0| [4.099999904632568]| [1.444736246041918]|\n",
            "| 57189.0| [3.700000047683716]|[1.3037864155083538]|\n",
            "| 60150.0|               [3.0]|[1.0571241070587718]|\n",
            "| 61111.0|               [4.5]|[1.5856861605881578]|\n",
            "| 63218.0|[3.9000000953674316]|[1.3742613727814736]|\n",
            "| 64445.0| [3.200000047683716]|[1.1275990643318918]|\n",
            "| 66029.0| [5.099999904632568]|[1.7971109483948418]|\n",
            "| 67938.0| [4.900000095367432]|[1.7266360751343977]|\n",
            "| 81363.0| [5.900000095367432]|[2.0790107774873214]|\n",
            "| 83088.0| [5.300000190734863]|[1.8675859896806377]|\n",
            "| 91738.0| [6.800000190734863]|[2.3961480432100237]|\n",
            "| 93940.0|               [6.0]|[2.1142482141175436]|\n",
            "|101302.0| [7.900000095367432]|[2.7837601821931695]|\n",
            "+--------+--------------------+--------------------+\n",
            "only showing top 20 rows\n",
            "\n"
          ],
          "name": "stdout"
        }
      ]
    },
    {
      "cell_type": "markdown",
      "metadata": {
        "id": "IliXXpir9hl3"
      },
      "source": [
        "#### Instanciando o algoritmo e treinando o modelo (fit)"
      ]
    },
    {
      "cell_type": "code",
      "metadata": {
        "id": "Q6gYoelT9hl7",
        "outputId": "e6d6df94-ca31-4c99-c296-8eeb837b390a",
        "colab": {
          "base_uri": "https://localhost:8080/",
          "height": 34
        }
      },
      "source": [
        "# Import `LinearRegression`\n",
        "from pyspark.ml.regression import LinearRegression\n",
        "\n",
        "# Initialize `lr`\n",
        "lr = LinearRegression(labelCol=\"label\", maxIter=10)\n",
        "\n",
        "# Fit the data to the model\n",
        "linearModel = lr.fit(train_data)\n",
        "\n",
        "type(linearModel)"
      ],
      "execution_count": 16,
      "outputs": [
        {
          "output_type": "execute_result",
          "data": {
            "text/plain": [
              "pyspark.ml.regression.LinearRegressionModel"
            ]
          },
          "metadata": {
            "tags": []
          },
          "execution_count": 16
        }
      ]
    },
    {
      "cell_type": "markdown",
      "metadata": {
        "id": "bS15ZIPe9hl_"
      },
      "source": [
        "#### Fazendo a predição com os dados de Treino\n",
        "\n",
        "Criará a nova coluna \"prediction\" que dá para confrontar com a coluna \"label\" (variável resposta de treino)"
      ]
    },
    {
      "cell_type": "code",
      "metadata": {
        "id": "6SqbzSju9hl_",
        "outputId": "720e0cdb-8b1b-45c1-86eb-a6474f7e9618",
        "colab": {
          "base_uri": "https://localhost:8080/",
          "height": 235
        }
      },
      "source": [
        "# Generate predictions\n",
        "predicted = linearModel.transform(test_data)\n",
        "\n",
        "predicted.show()"
      ],
      "execution_count": 17,
      "outputs": [
        {
          "output_type": "stream",
          "text": [
            "+--------+--------------------+--------------------+------------------+\n",
            "|   label|            features|     features_scaled|        prediction|\n",
            "+--------+--------------------+--------------------+------------------+\n",
            "| 39343.0| [1.100000023841858]|[0.3876121809894839]| 35027.48409440431|\n",
            "| 46205.0|[1.2999999523162842]| [0.458087096256266]|36917.726105474954|\n",
            "| 98273.0| [7.099999904632568]|[2.5018603531006898]| 91734.76357995521|\n",
            "|109431.0| [8.699999809265137]|[3.0656598432602977]|106856.70417521015|\n",
            "|112635.0| [9.600000381469727]|[3.3827972770083514]|115362.80167507136|\n",
            "|113812.0| [8.199999809265137]| [2.889472492083836]|102131.09745752487|\n",
            "|116969.0|               [9.5]|[3.3475596723527774]|114417.67672618249|\n",
            "|122391.0|[10.300000190734863]|[3.6294595014452575]|121978.64927715484|\n",
            "+--------+--------------------+--------------------+------------------+\n",
            "\n"
          ],
          "name": "stdout"
        }
      ]
    },
    {
      "cell_type": "markdown",
      "metadata": {
        "id": "T5wicGna9hmC"
      },
      "source": [
        "#### Coeficientes da equação\n",
        "\n",
        "Visto que a equação é \"Y = ax + b\"\n",
        "\n",
        "Onde \"coefficients\" é o valor de \"a\", e \"intercept\" é o valor de \"b\"."
      ]
    },
    {
      "cell_type": "code",
      "metadata": {
        "id": "xwWnE_1_9hmC",
        "outputId": "048e24d2-0ec3-48e7-e73c-3079ccf21cf0",
        "colab": {
          "base_uri": "https://localhost:8080/",
          "height": 34
        }
      },
      "source": [
        "# Coefficients para o modelo\n",
        "linearModel.coefficients"
      ],
      "execution_count": 18,
      "outputs": [
        {
          "output_type": "execute_result",
          "data": {
            "text/plain": [
              "DenseVector([9451.2134])"
            ]
          },
          "metadata": {
            "tags": []
          },
          "execution_count": 18
        }
      ]
    },
    {
      "cell_type": "code",
      "metadata": {
        "id": "zrCNEEls9hmF",
        "outputId": "142ac27a-a84a-4a42-e2f1-922717d33ea1",
        "colab": {
          "base_uri": "https://localhost:8080/",
          "height": 34
        }
      },
      "source": [
        "# Intercept para o modelo\n",
        "linearModel.intercept"
      ],
      "execution_count": 19,
      "outputs": [
        {
          "output_type": "execute_result",
          "data": {
            "text/plain": [
              "24631.149090162206"
            ]
          },
          "metadata": {
            "tags": []
          },
          "execution_count": 19
        }
      ]
    },
    {
      "cell_type": "markdown",
      "metadata": {
        "id": "PQAfFOkz9hmJ"
      },
      "source": [
        "#### Erro Quadrático Médio, em inglês MSE, neste caso sendo representado pela raiz quadrada deste valor(RMSE)"
      ]
    },
    {
      "cell_type": "code",
      "metadata": {
        "id": "rV2RVkBO9hmK",
        "outputId": "08fa5084-e3bc-49bf-e94a-3812115dcf23",
        "colab": {
          "base_uri": "https://localhost:8080/",
          "height": 34
        }
      },
      "source": [
        "# Get the RMSE\n",
        "linearModel.summary.rootMeanSquaredError"
      ],
      "execution_count": 20,
      "outputs": [
        {
          "output_type": "execute_result",
          "data": {
            "text/plain": [
              "5532.104709071577"
            ]
          },
          "metadata": {
            "tags": []
          },
          "execution_count": 20
        }
      ]
    },
    {
      "cell_type": "markdown",
      "metadata": {
        "id": "HKrRY88U9hmW"
      },
      "source": [
        "####  Métrica de avaliação do modelo\n",
        "\n",
        "Extrai-se o R2, ou Coeficiente de Determinação, uma métrica estatística de proximidade de pontos e reta sobreposta"
      ]
    },
    {
      "cell_type": "code",
      "metadata": {
        "id": "PyqXs0zW9hmX",
        "outputId": "897b24af-13bc-4c49-da74-0eca95196f83",
        "colab": {
          "base_uri": "https://localhost:8080/",
          "height": 34
        }
      },
      "source": [
        "linearModel.summary.r2"
      ],
      "execution_count": 21,
      "outputs": [
        {
          "output_type": "execute_result",
          "data": {
            "text/plain": [
              "0.9347037587962345"
            ]
          },
          "metadata": {
            "tags": []
          },
          "execution_count": 21
        }
      ]
    },
    {
      "cell_type": "markdown",
      "metadata": {
        "id": "kT5OPgWZ9hmZ"
      },
      "source": [
        "### Documentação\n",
        "\n",
        "https://spark.apache.org/docs/latest/api/python/index.html\n",
        "\n",
        "https://spark.apache.org/docs/latest/ml-classification-regression.html"
      ]
    }
  ]
}