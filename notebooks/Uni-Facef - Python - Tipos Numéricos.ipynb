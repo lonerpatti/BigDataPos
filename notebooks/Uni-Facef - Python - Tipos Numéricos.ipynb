{
 "cells": [
  {
   "cell_type": "markdown",
   "metadata": {},
   "source": [
    "# <font color='blue'>Uni-Facef - Tipos Numéricos em Python</font>"
   ]
  },
  {
   "cell_type": "markdown",
   "metadata": {},
   "source": [
    "Existem três tipos numéricos distintos: inteiros, números de ponto flutuante e números complexos. Além disso, os booleanos são um subtipo de números inteiros."
   ]
  },
  {
   "cell_type": "markdown",
   "metadata": {},
   "source": [
    "- int: usualmente inteiros de 32 bits\n",
    "- long: alcance limitado apenas pela memória\n",
    "- float: ponto-flutuante de 32 bits\n",
    "\n",
    "Construtores ou funções de conversão:\n",
    "- int(x)\n",
    "- long(x)\n",
    "- float(x)\n",
    "\n",
    "Onde \"x\" pode ser número ou string\n",
    "\n",
    "Construtor de número complexo:\n",
    "- complex(r, i)\n",
    "\n",
    "Onde \"r\" é o valor real e \"i\" o imaginário. Cada um com um número de ponto flutuante."
   ]
  },
  {
   "cell_type": "markdown",
   "metadata": {},
   "source": [
    "### Tipagem dinâmica"
   ]
  },
  {
   "cell_type": "code",
   "execution_count": null,
   "metadata": {},
   "outputs": [],
   "source": [
    "# Tipo inteiro (int):\n",
    "a = 5\n",
    "print( type(a) )\n",
    "\n",
    "# Tipo ponto flutuante (float):\n",
    "a = 5.5\n",
    "print( type(a) )\n",
    "\n",
    "# Tipo complexo (complex):\n",
    "a = 6 + 2j\n",
    "print( type(a) )\n",
    "\n",
    "# Tipo booleano (bool):\n",
    "a = True\n",
    "print( type(a) )"
   ]
  },
  {
   "cell_type": "code",
   "execution_count": null,
   "metadata": {},
   "outputs": [],
   "source": [
    "type(a)"
   ]
  },
  {
   "cell_type": "markdown",
   "metadata": {},
   "source": [
    "### Operações Básicas"
   ]
  },
  {
   "cell_type": "code",
   "execution_count": null,
   "metadata": {},
   "outputs": [],
   "source": [
    "# Soma\n",
    "print( 5 + 4 )  # 9 \n",
    "\n",
    "# Diferença/Subtração\n",
    "print( 10 - 4 ) # 6 \n",
    "\n",
    "# Produto/Multiplicação\n",
    "print( 5 * 3 )  # 15\n",
    "\n",
    "# Quociente/Divisão\n",
    "print( 15 / 2 ) # 7.5\n",
    "\n",
    "# Potência\n",
    "print( 5 ** 2 ) # 25\n",
    "\n",
    "# Restante/Módulo\n",
    "print( 11 % 3 ) # 2"
   ]
  },
  {
   "cell_type": "markdown",
   "metadata": {},
   "source": [
    "### Operações com ponto flutuate e aritmética mista"
   ]
  },
  {
   "cell_type": "code",
   "execution_count": null,
   "metadata": {},
   "outputs": [],
   "source": [
    "# Soma de float com int\n",
    "print( 5.134 + 4 )  # 9.134\n",
    "\n",
    "# Soma de float com float\n",
    "print( 10.34 + 4.134 ) # 14.474 \n",
    "\n",
    "# Soma de float com numero complexo\n",
    "print( 6.12 + (10 + 4j) ) # 16.12+4j\n",
    "\n",
    "# Subtração de float com float negativo\n",
    "print( 4.134 - 10.34 )  # -6.2059999999999995\n",
    "\n",
    "# Subtração de float com int\n",
    "print( 4.134 - 2 )  # 2.1340000000000003\n",
    "\n",
    "# Quociente flutuante de x e y, retorna float\n",
    "print( 4 / 2 ) # 2.0\n",
    "\n",
    "# Quociente de x and y, retorna int\n",
    "print( 4 // 2 ) # 2\n",
    "\n",
    "print( 4 / 2.01 ) # 1.9900497512437814\n",
    "\n",
    "print( 4 // 2.01 ) # 1.0"
   ]
  },
  {
   "cell_type": "markdown",
   "metadata": {},
   "source": [
    "### Conversões"
   ]
  },
  {
   "cell_type": "code",
   "execution_count": null,
   "metadata": {},
   "outputs": [],
   "source": [
    "# Int para Float\n",
    "print( float(6) ) # 6.0\n",
    "\n",
    "# Float para Int\n",
    "print( int(5.945) ) # 5\n",
    "\n",
    "# Hexadecimal\n",
    "print( hex(510) ) # '0x1fe'\n",
    "\n",
    "# Binário\n",
    "print( bin(510) ) # '0b111111110'"
   ]
  },
  {
   "cell_type": "markdown",
   "metadata": {},
   "source": [
    "### Funções buit-in"
   ]
  },
  {
   "cell_type": "code",
   "execution_count": null,
   "metadata": {},
   "outputs": [],
   "source": [
    "complex(10, 4j)"
   ]
  },
  {
   "cell_type": "code",
   "execution_count": null,
   "metadata": {},
   "outputs": [],
   "source": [
    "# abs - Retorna o valor absoluto ou magnitude, int ou float \n",
    "print ( abs(-8) )\n",
    "print ( abs(8) )"
   ]
  },
  {
   "cell_type": "code",
   "execution_count": null,
   "metadata": {},
   "outputs": [],
   "source": [
    "# round - Arredondamento do valor conforme número de decimais informado no segundo parâmetro\n",
    "print ( round(3.14151922, 2) )\n",
    "print ( round(3.14151922, 4) )"
   ]
  },
  {
   "cell_type": "code",
   "execution_count": null,
   "metadata": {},
   "outputs": [],
   "source": [
    "# divmod - Retorna uma tupla com o par (Divisão: x // y e o Restante/Módulo: x % y)\n",
    "t = divmod(13, 6)\n",
    "\n",
    "print( t )\n",
    "print( t[0] ) # Quociente = 2\n",
    "print( t[1] ) # Restante = 1"
   ]
  },
  {
   "cell_type": "code",
   "execution_count": null,
   "metadata": {},
   "outputs": [],
   "source": [
    "# Retorna a Potência - 5 ** 2\n",
    "pow(5,2)"
   ]
  },
  {
   "cell_type": "markdown",
   "metadata": {},
   "source": [
    "### FIM\n",
    "###### Documentação: https://docs.python.org/pt-br/3/library/"
   ]
  }
 ],
 "metadata": {
  "kernelspec": {
   "display_name": "Python 3",
   "language": "python",
   "name": "python3"
  },
  "language_info": {
   "codemirror_mode": {
    "name": "ipython",
    "version": 3
   },
   "file_extension": ".py",
   "mimetype": "text/x-python",
   "name": "python",
   "nbconvert_exporter": "python",
   "pygments_lexer": "ipython3",
   "version": "3.7.3"
  }
 },
 "nbformat": 4,
 "nbformat_minor": 2
}
