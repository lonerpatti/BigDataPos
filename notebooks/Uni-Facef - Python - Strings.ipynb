{
 "cells": [
  {
   "cell_type": "markdown",
   "metadata": {},
   "source": [
    "# <font color='blue'>Uni-Facef - String em Python</font>"
   ]
  },
  {
   "cell_type": "markdown",
   "metadata": {},
   "source": [
    "Strings podem ser definidos como sequências de caracteres alfanumérico e caracteres especiais. Significa que os caracteres individuais compõem uma cadeia em ordem da esquerda para a direita. Caractere é a únidade mínima de toda String.\n",
    "Em Python 3 todo objeto string é do tipo \"str\". Para criar uma string em Python você pode usar aspas simples ou duplas"
   ]
  },
  {
   "cell_type": "markdown",
   "metadata": {},
   "source": [
    "### Imprimindo Strings"
   ]
  },
  {
   "cell_type": "code",
   "execution_count": null,
   "metadata": {},
   "outputs": [],
   "source": [
    "print(\"Python para Bigdata\")\n",
    "print('Python para Bigdata')\n",
    "print(\"Python para 'Bigdata'\")\n",
    "print('Python para \"Bigdata\"')\n",
    "\n",
    "# Usando caracter escape\n",
    "print('Python para \\'Bigdata\\'')\n",
    "\n",
    "# Quebrando linhas\n",
    "print('\\nPython \\npara \\nBigdata')"
   ]
  },
  {
   "cell_type": "markdown",
   "metadata": {},
   "source": [
    "### Concatenando strings"
   ]
  },
  {
   "cell_type": "code",
   "execution_count": null,
   "metadata": {},
   "outputs": [],
   "source": [
    "# Concatenando strings usando simbolo de soma \"+\"\n",
    "s1 = \"Python\"\n",
    "s2 = \"Bigdata\"\n",
    "\n",
    "print( s1 + s2 )\n",
    "print( s1 + ' para ' + s2 )\n",
    "print(\"\\n\")\n",
    "\n",
    "# Repetição de strings usando simbolo de multiplicação \"*\"\n",
    "print( s1 * 3 )\n",
    "print( (s1 + ' ') * 3 )\n",
    "\n",
    "# Concatenando numero na string, é necessário fazer conversão\n",
    "print(\"\\nPython para Bigdata é \" + str(10))"
   ]
  },
  {
   "cell_type": "markdown",
   "metadata": {},
   "source": [
    "### Interpolando valores na string"
   ]
  },
  {
   "cell_type": "markdown",
   "metadata": {},
   "source": [
    "Interpolação é a inserção de um trecho de texto dentro de outro. Imagine 2 variáves strings definadas abaixo que precisam ser concatenadas no meio de uma frase(string)."
   ]
  },
  {
   "cell_type": "code",
   "execution_count": null,
   "metadata": {},
   "outputs": [],
   "source": [
    "NOTA = 10\n",
    "UNIVERSIDADE = 'Uni-facef'\n",
    "\n",
    "\"Eu estudo na {PARAM1} e aprender Python e Bigdata é nota {PARAM2}\".format(PARAM1=UNIVERSIDADE, PARAM2=NOTA)"
   ]
  },
  {
   "cell_type": "code",
   "execution_count": null,
   "metadata": {},
   "outputs": [],
   "source": [
    "# Notação aceita em Python 3\n",
    "f\"Eu estudo na {UNIVERSIDADE} e aprender Python e Bigdata é nota {NOTA}\""
   ]
  },
  {
   "cell_type": "markdown",
   "metadata": {},
   "source": [
    "### Propriedades das strings"
   ]
  },
  {
   "cell_type": "code",
   "execution_count": null,
   "metadata": {},
   "outputs": [],
   "source": [
    "# A tipagem de uma variável é dinâmica\n",
    "s = 'Python para Bigdata'\n",
    "type(s)"
   ]
  },
  {
   "cell_type": "code",
   "execution_count": null,
   "metadata": {},
   "outputs": [],
   "source": [
    "# Podemos acessar os caracteres da string pelo seu index. Os indices em Python iniciam em \"0\"\n",
    "print( s[0] )\n",
    "print( s[1] )\n",
    "print( s[2] )\n",
    "print( s[3] )\n",
    "print( s[4] )\n",
    "print( s[5] )\n",
    "\n",
    "print( \"Bigdata\"[0] )"
   ]
  },
  {
   "cell_type": "code",
   "execution_count": null,
   "metadata": {},
   "outputs": [],
   "source": [
    "# Uma string é uma estrutura iterável\n",
    "for caracter in \"Bigdata\":\n",
    "    print(caracter)"
   ]
  },
  {
   "cell_type": "code",
   "execution_count": null,
   "metadata": {},
   "outputs": [],
   "source": [
    "# O fatiamento da string (slicing) é feito através do intervalo de indice (\"i\")\n",
    "\n",
    "# A varíavel \"s\" recebe a string \"Uni-Facef\"\n",
    "s = \"Uni-Facef\"\n",
    "\n",
    "# Determinado comprimento\n",
    "print( s[4:8] ) # Face\n",
    "\n",
    "# Do início da string até \"i\"\n",
    "print( s[0:3] ) # 'Uni'\n",
    "print( s[:3] )  # 'Uni'\n",
    "\n",
    "\n",
    "# Acessando a string pelo final, que inicia em -1\n",
    "print( s[-1] )    # 'f'\n",
    "print( s[-2] )    # 'e'\n",
    "\n",
    "# De \"i\" até o final\n",
    "print( s[4:] ) # 'Facef'\n",
    "print( s[3:] ) # '-Facef'\n",
    "\n",
    "# Em pedaços específicos (o padrão é 1)\n",
    "print( s[::2] ) # UiFcf\n",
    "\n",
    "# Invertendo a string\n",
    "print( s[::-1] ) # fecaF-inU\n",
    "print( s[::-2] ) # fcFiU\n",
    "print( s[:-6:-1] ) # fecaF"
   ]
  },
  {
   "cell_type": "code",
   "execution_count": null,
   "metadata": {},
   "outputs": [],
   "source": [
    "# Strings são listas imutaveis, isto é, não é possível alterar um caractere de uma string. \n",
    "s = \"Bigdata\"\n",
    "s[3] = 'D'"
   ]
  },
  {
   "cell_type": "code",
   "execution_count": null,
   "metadata": {},
   "outputs": [],
   "source": [
    "# É necessário se atribuir outro valor à variável se necessário\n",
    "s = \"BigData\"\n",
    "print(s)"
   ]
  },
  {
   "cell_type": "markdown",
   "metadata": {},
   "source": [
    "### Métodos e funções de String"
   ]
  },
  {
   "cell_type": "code",
   "execution_count": null,
   "metadata": {},
   "outputs": [],
   "source": [
    "# Atribuindo uma string à variável \"fun\"\n",
    "fun = 'é divertido aprender Python e Bigdata na Uni-Facef'\n",
    "\n",
    "print(fun)"
   ]
  },
  {
   "cell_type": "code",
   "execution_count": null,
   "metadata": {},
   "outputs": [],
   "source": [
    "# Converte a string em Caixa Alta\n",
    "fun.upper()"
   ]
  },
  {
   "cell_type": "code",
   "execution_count": null,
   "metadata": {},
   "outputs": [],
   "source": [
    "# Converte a string em Caixa Baixa\n",
    "fun.lower()"
   ]
  },
  {
   "cell_type": "code",
   "execution_count": null,
   "metadata": {},
   "outputs": [],
   "source": [
    "# Converte a primeira letra da string em Caixa Baixa\n",
    "fun.capitalize()"
   ]
  },
  {
   "cell_type": "code",
   "execution_count": null,
   "metadata": {},
   "outputs": [],
   "source": [
    "# Encontra o indice da primeira ocorrencia da expressão. Se não encontrar retorna -1\n",
    "fun.find('Bigdata')"
   ]
  },
  {
   "cell_type": "code",
   "execution_count": null,
   "metadata": {},
   "outputs": [],
   "source": [
    "# Particiona a string apartir da 1a ocorrencia da expressão/parâmetro em 3 elementos de uma tupla\n",
    "# Caso não encontre a expressão o 1o valor será a string completa e os demais nulos\n",
    "fun.partition('Python')"
   ]
  },
  {
   "cell_type": "code",
   "execution_count": null,
   "metadata": {},
   "outputs": [],
   "source": [
    "# Divide a string em elementos de uma lista. O parâmetro default é espaço \" \"\n",
    "fun_split = fun.split()\n",
    "fun_split"
   ]
  },
  {
   "cell_type": "code",
   "execution_count": null,
   "metadata": {},
   "outputs": [],
   "source": [
    "# Junta cada caracter da string com um delimitador informado. É o inverso da função split().\n",
    "\"; \".join(\"Python\")"
   ]
  },
  {
   "cell_type": "code",
   "execution_count": null,
   "metadata": {},
   "outputs": [],
   "source": [
    "# A função join() funiona para os itens de uma lista\n",
    "\"; \".join(fun_split)"
   ]
  },
  {
   "cell_type": "code",
   "execution_count": null,
   "metadata": {
    "scrolled": true
   },
   "outputs": [],
   "source": [
    "# Retira espaços em branco do início e fim da string\n",
    "fun_strip = \"    É divertido aprender Python e Bigdata \"\n",
    "print(fun_strip)\n",
    "print(fun_strip.strip() )"
   ]
  },
  {
   "cell_type": "code",
   "execution_count": null,
   "metadata": {},
   "outputs": [],
   "source": [
    "# Conta a quantidade de ocorrencias de um caracter ou expressão dentro do string\n",
    "fun.count('a')"
   ]
  },
  {
   "cell_type": "code",
   "execution_count": null,
   "metadata": {},
   "outputs": [],
   "source": [
    "# Conta o número de caracteres da string, corresponde ao tamanho\n",
    "len(fun)"
   ]
  },
  {
   "cell_type": "code",
   "execution_count": null,
   "metadata": {},
   "outputs": [],
   "source": [
    "# Retorna \"False\" se o valor da string possuir caracteres que não sejam alfanumericos\n",
    "\n",
    "print( \"0123abc#@\".isalnum() ) # False\n",
    "print( \"abc#@\".isalnum() )     # False\n",
    "print( \"#@\".isalnum() )        # False\n",
    "print( \"0123\".isalnum() )      # True\n",
    "print( \"abc\".isalnum() )       # True"
   ]
  },
  {
   "cell_type": "code",
   "execution_count": null,
   "metadata": {},
   "outputs": [],
   "source": [
    "# Retorna \"False\" se o valor da string possuir caracteres que não sejam letras\n",
    "\n",
    "print( \"0999abc#@\".isalpha() ) # False\n",
    "print( \"abc#@\".isalpha() )     # False\n",
    "print( \"#@\".isalpha() )        # False\n",
    "print( \"0999\".isalpha() )      # False\n",
    "print( \"abc\".isalpha() )       # True"
   ]
  },
  {
   "cell_type": "markdown",
   "metadata": {},
   "source": [
    "### FIM\n",
    "###### Documentação: https://docs.python.org/pt-br/3/library/"
   ]
  },
  {
   "cell_type": "markdown",
   "metadata": {},
   "source": [
    "###### https://www.ime.usp.br/~vwsetzer/python-opers-funcoes.html"
   ]
  }
 ],
 "metadata": {
  "kernelspec": {
   "display_name": "Python 3",
   "language": "python",
   "name": "python3"
  },
  "language_info": {
   "codemirror_mode": {
    "name": "ipython",
    "version": 3
   },
   "file_extension": ".py",
   "mimetype": "text/x-python",
   "name": "python",
   "nbconvert_exporter": "python",
   "pygments_lexer": "ipython3",
   "version": "3.7.3"
  }
 },
 "nbformat": 4,
 "nbformat_minor": 2
}
