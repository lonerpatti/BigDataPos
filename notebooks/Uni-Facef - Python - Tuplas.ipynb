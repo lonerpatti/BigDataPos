{
 "cells": [
  {
   "cell_type": "markdown",
   "metadata": {
    "colab_type": "text",
    "id": "R_cDZpd2JN-L"
   },
   "source": [
    "# <font color='blue'>Uni-Facef - Tuplas em Python</font>"
   ]
  },
  {
   "cell_type": "markdown",
   "metadata": {
    "colab_type": "text",
    "id": "HfS3it6aJN-N"
   },
   "source": [
    "Tupla é uma estrutura semelhante a uma Lista, porém imutável. São definidas da mesma forma, mas o que as diferencia, são os caracteres que as delimitam. Uma Lista, tem seus elementos delimitados por colchetes, enquanto uma a Tupla, tem seus elementos delimitados por parêntesis."
   ]
  },
  {
   "cell_type": "code",
   "execution_count": null,
   "metadata": {
    "colab": {},
    "colab_type": "code",
    "id": "NQhd9MyvJN-O"
   },
   "outputs": [],
   "source": [
    "# Criando uma tupla \"Coordenadas\" - Cidade, Latitude e Longitude\n",
    "coordenadas_t = (\"Franca\", -20.5418, -47.4197)\n",
    "\n",
    "coordenadas_t"
   ]
  },
  {
   "cell_type": "code",
   "execution_count": null,
   "metadata": {},
   "outputs": [],
   "source": [
    "type(coordenadas_t)"
   ]
  },
  {
   "cell_type": "code",
   "execution_count": null,
   "metadata": {},
   "outputs": [],
   "source": [
    "# Tuplas são imutáveis não suportam append()\n",
    "coordenadas_t.append(\"SP\")"
   ]
  },
  {
   "cell_type": "code",
   "execution_count": null,
   "metadata": {},
   "outputs": [],
   "source": [
    "# Tuplas não suportam delete de um item específico\n",
    "del coordenadas_t[\"Franca\"]"
   ]
  },
  {
   "cell_type": "code",
   "execution_count": null,
   "metadata": {
    "colab": {},
    "colab_type": "code",
    "id": "yrIHY8vOJN-U",
    "outputId": "94d18ae2-fa24-4f7d-cb11-f5c4896946b8"
   },
   "outputs": [],
   "source": [
    "# Acessando os valores da tupla pelo indice\n",
    "print( \"Cidade...: \" + coordenadas_t[0] )\n",
    "print( \"Latitude.: \" + str(coordenadas_t[1]) )\n",
    "print( \"Longitude: \" + str(coordenadas_t[2]) )"
   ]
  },
  {
   "cell_type": "code",
   "execution_count": null,
   "metadata": {},
   "outputs": [],
   "source": [
    "# Exibindo o tamanho da tupla\n",
    "len(coordenadas_t)"
   ]
  },
  {
   "cell_type": "code",
   "execution_count": null,
   "metadata": {},
   "outputs": [],
   "source": [
    "# Fazendo Slicing na tupla, da mesma forma com listas e strings\n",
    "coordenadas_t[1:]"
   ]
  },
  {
   "cell_type": "code",
   "execution_count": null,
   "metadata": {},
   "outputs": [],
   "source": [
    "# Atribuindo a variáveis isoladas\n",
    "Latitude, Longitude = coordenadas_t[1:]\n",
    "\n",
    "Longitude"
   ]
  },
  {
   "cell_type": "code",
   "execution_count": null,
   "metadata": {
    "colab": {},
    "colab_type": "code",
    "id": "JdPi4C5SJN-j"
   },
   "outputs": [],
   "source": [
    "# Tuplas podem ser declaradas com um único item, o Python automaticamente converte para type correspondente\n",
    "Longitude_t = (-47.4197)\n",
    "\n",
    "print(Longitude_t)\n",
    "type(Longitude_t)"
   ]
  },
  {
   "cell_type": "markdown",
   "metadata": {},
   "source": [
    "##### Tuplas como uma matriz"
   ]
  },
  {
   "cell_type": "code",
   "execution_count": null,
   "metadata": {},
   "outputs": [],
   "source": [
    "# Criando tuplas onde cada registro é uma lista\n",
    "coordenadas_t2 = (\n",
    "    [\"Franca\", -20.5418, -47.4197],\n",
    "    [\"Ribeirão Preto\", -21.1767, -47.8208],\n",
    "    [\"Araraquara\", -21.7946, -48.1766],\n",
    "    [\"Barretos\", -20.5592, -48.5689],\n",
    ")\n",
    "\n",
    "coordenadas_t2"
   ]
  },
  {
   "cell_type": "code",
   "execution_count": null,
   "metadata": {},
   "outputs": [],
   "source": [
    "# Acessando os \"registros\" (itens lista)\n",
    "for reg in coordenadas_t2:\n",
    "    print(reg)"
   ]
  },
  {
   "cell_type": "code",
   "execution_count": null,
   "metadata": {},
   "outputs": [],
   "source": [
    "# Acessando os \"registros\" (itens lista) e os \"campos\" (itens das listas)\n",
    "for reg in coordenadas_t2:\n",
    "    print( \"Cidade...: \" + reg[0] )\n",
    "    print( \"Latitude.: \" + str(reg[1]) )\n",
    "    print( \"Longitude: \" + str(reg[2]) + '\\n')"
   ]
  },
  {
   "cell_type": "code",
   "execution_count": null,
   "metadata": {},
   "outputs": [],
   "source": [
    "# Acessando níveis pelo indice\n",
    "coordenadas_t2[0][0]"
   ]
  },
  {
   "cell_type": "code",
   "execution_count": null,
   "metadata": {},
   "outputs": [],
   "source": [
    "# Dessa forma é possível alterar um valor\n",
    "coordenadas_t2[0][0] = 'FRANCA'\n",
    "coordenadas_t2"
   ]
  },
  {
   "cell_type": "code",
   "execution_count": null,
   "metadata": {},
   "outputs": [],
   "source": [
    "# É possível incluir novo item num lista específica de uma tupla\n",
    "coordenadas_t2[0].append('SP')\n",
    "coordenadas_t2"
   ]
  },
  {
   "cell_type": "markdown",
   "metadata": {},
   "source": [
    "##### Convertendo as tuplas"
   ]
  },
  {
   "cell_type": "code",
   "execution_count": null,
   "metadata": {},
   "outputs": [],
   "source": [
    "# Nova tupla Vogais\n",
    "vogais_t = (\"A\", \"E\", \"I\")\n",
    "vogais_t"
   ]
  },
  {
   "cell_type": "code",
   "execution_count": null,
   "metadata": {
    "colab": {},
    "colab_type": "code",
    "id": "-TbRqZfyJN--",
    "outputId": "ba006f62-5b86-461a-f0fd-74a3ccd105c3"
   },
   "outputs": [],
   "source": [
    "# Identificando o indice de um item da tupla\n",
    "vogais_t.index('I')"
   ]
  },
  {
   "cell_type": "code",
   "execution_count": null,
   "metadata": {},
   "outputs": [],
   "source": [
    "# Append na lista \"Vogais\"\n",
    "vogais_t.append('O')"
   ]
  },
  {
   "cell_type": "code",
   "execution_count": null,
   "metadata": {
    "colab": {},
    "colab_type": "code",
    "id": "_fbq-vY1JN_e"
   },
   "outputs": [],
   "source": [
    "# Função list() converte uma tupla para lista\n",
    "vogais_l = list(vogais_t)\n",
    "vogais_l"
   ]
  },
  {
   "cell_type": "code",
   "execution_count": null,
   "metadata": {
    "colab": {},
    "colab_type": "code",
    "id": "wjLYWc9BJN_i",
    "outputId": "a8a6a4ad-d803-4444-ddfd-2cc6c8767a93"
   },
   "outputs": [],
   "source": [
    "# Append na lista \"Vogais\"\n",
    "vogais_l.append('O')\n",
    "vogais_l.append('U')\n",
    "vogais_l"
   ]
  },
  {
   "cell_type": "code",
   "execution_count": null,
   "metadata": {
    "colab": {},
    "colab_type": "code",
    "id": "b8Q095AVJN_p"
   },
   "outputs": [],
   "source": [
    "# A função tuple() converte uma lista para tupla (Reatribuição da antiga tupla)\n",
    "vogais_t = tuple(vogais_l)\n",
    "vogais_t"
   ]
  },
  {
   "cell_type": "markdown",
   "metadata": {
    "colab_type": "text",
    "id": "RIlvuCSsJN_x"
   },
   "source": [
    "## FIM\n",
    "###### Documentação: https://docs.python.org/pt-br/3/library/"
   ]
  }
 ],
 "metadata": {
  "anaconda-cloud": {},
  "colab": {
   "name": "DSA-Python-Cap+¡tulo2-Tuplas.ipynb",
   "provenance": []
  },
  "kernelspec": {
   "display_name": "Python 3",
   "language": "python",
   "name": "python3"
  },
  "language_info": {
   "codemirror_mode": {
    "name": "ipython",
    "version": 3
   },
   "file_extension": ".py",
   "mimetype": "text/x-python",
   "name": "python",
   "nbconvert_exporter": "python",
   "pygments_lexer": "ipython3",
   "version": "3.7.3"
  }
 },
 "nbformat": 4,
 "nbformat_minor": 1
}
