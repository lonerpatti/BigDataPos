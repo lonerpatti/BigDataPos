{
 "cells": [
  {
   "cell_type": "markdown",
   "metadata": {},
   "source": [
    "# <font color='blue'>Uni-Facef - Dicionários em Python</font>"
   ]
  },
  {
   "cell_type": "markdown",
   "metadata": {},
   "source": [
    "Dicionário são coleções de valores. Ele é um tipo de mapeamento nativo do Python, uma coleção associativa desordenada. A associação, ou mapeamento, é feita a partir de uma chave, que pode ser qualquer tipo imutável. E para um valor, pode ser qualquer objeto de dados do Python."
   ]
  },
  {
   "cell_type": "markdown",
   "metadata": {},
   "source": [
    "Características dos dicionários:\n",
    "    \n",
    "- As chaves são sempre únicas\n",
    "- As chaves têm que ser objetos imutáveis (Ex: números, strings e tuplas\n",
    "- Qualquer objeto pode ser um valor\n",
    "- A ordem de armazenagem das chaves é indefinida\n",
    "- Dicionários são otimizados para acesso direto a um item pela chave, e não para acesso sequencial em determinada ordem"
   ]
  },
  {
   "cell_type": "code",
   "execution_count": null,
   "metadata": {},
   "outputs": [],
   "source": [
    "# Estrutura de um dicionário\n",
    "dict_customers = {\n",
    "    1000: \"Andre\",\n",
    "    1001: \"Felipe\",\n",
    "    1002: \"Maria\",\n",
    "    1003: \"Debora\"\n",
    "}\n",
    "\n",
    "dict_customers"
   ]
  },
  {
   "cell_type": "code",
   "execution_count": null,
   "metadata": {},
   "outputs": [],
   "source": [
    "# Obtendo a lista de chaves de um dicionário\n",
    "list(dict_customers.keys())"
   ]
  },
  {
   "cell_type": "code",
   "execution_count": null,
   "metadata": {},
   "outputs": [],
   "source": [
    "# Obtendo a lista de valores de um dicionário\n",
    "list(dict_customers.values())"
   ]
  },
  {
   "cell_type": "code",
   "execution_count": null,
   "metadata": {},
   "outputs": [],
   "source": [
    "# Obtendo a lista de itens(tupla chave/valor) de um dicionário\n",
    "list(dict_customers.items())"
   ]
  },
  {
   "cell_type": "code",
   "execution_count": null,
   "metadata": {},
   "outputs": [],
   "source": [
    "# Acessando um item do dicionário\n",
    "dict_customers[1000]"
   ]
  },
  {
   "cell_type": "code",
   "execution_count": null,
   "metadata": {},
   "outputs": [],
   "source": [
    "# Também é possível usando o método get()\n",
    "dict_customers.get(1000)"
   ]
  },
  {
   "cell_type": "code",
   "execution_count": null,
   "metadata": {},
   "outputs": [],
   "source": [
    "# Adicionando um item no dicionário\n",
    "dict_customers[1004] = \"Jose\"\n",
    "\n",
    "dict_customers"
   ]
  },
  {
   "cell_type": "code",
   "execution_count": null,
   "metadata": {},
   "outputs": [],
   "source": [
    "# Alterando um item no dicionário\n",
    "dict_customers[1000] = 'André Luis'\n",
    "\n",
    "dict_customers"
   ]
  },
  {
   "cell_type": "code",
   "execution_count": null,
   "metadata": {},
   "outputs": [],
   "source": [
    "# Contando a quantidade de itens do dicionário\n",
    "len(dict_customers)"
   ]
  },
  {
   "cell_type": "code",
   "execution_count": null,
   "metadata": {},
   "outputs": [],
   "source": [
    "# Removendo um item do dicionário\n",
    "del dict_customers[1000]\n",
    "\n",
    "dict_customers"
   ]
  },
  {
   "cell_type": "code",
   "execution_count": null,
   "metadata": {},
   "outputs": [],
   "source": [
    "# Método que Verifica a existência de uma chave\n",
    "if 1001 in dict_customers:\n",
    "    print(True)\n",
    "else:\n",
    "    print(False)"
   ]
  },
  {
   "cell_type": "code",
   "execution_count": null,
   "metadata": {},
   "outputs": [],
   "source": [
    "# Novo dicionário\n",
    "dict_people = {1006: \"João\", 1007: \"Sebastião\"}\n",
    "\n",
    "dict_people"
   ]
  },
  {
   "cell_type": "code",
   "execution_count": null,
   "metadata": {},
   "outputs": [],
   "source": [
    "# Recibe como parámetro otro diccionario, acrescentando ou modificando valores\n",
    "dict_customers.update(dict_people)\n",
    "\n",
    "dict_customers"
   ]
  },
  {
   "cell_type": "code",
   "execution_count": null,
   "metadata": {},
   "outputs": [],
   "source": [
    "# Limpa o dicionário deixando vazio\n",
    "dict_customers.clear()\n",
    "\n",
    "dict_customers"
   ]
  },
  {
   "cell_type": "code",
   "execution_count": null,
   "metadata": {},
   "outputs": [],
   "source": [
    "# Exclui o dicionário\n",
    "del dict_customers"
   ]
  },
  {
   "cell_type": "markdown",
   "metadata": {},
   "source": [
    "### Dicionários com chaves e valores de objetos diferentes"
   ]
  },
  {
   "cell_type": "code",
   "execution_count": null,
   "metadata": {},
   "outputs": [],
   "source": [
    "# Criando um dicionário vazio\n",
    "dict_new = {} # Ou \"dict_new = dict()\"\n",
    "dict_new"
   ]
  },
  {
   "cell_type": "code",
   "execution_count": null,
   "metadata": {},
   "outputs": [],
   "source": [
    "# Incluindo itens no dicionário\n",
    "dict_new[\"Tema\"] = \"Médias de Notas\"\n",
    "dict_new[\"Calculo\"] = \"Media_geral\"\n",
    "dict_new[2018] = 82.5\n",
    "dict_new[2019] = 88.0\n",
    "dict_new[2020] = 93.5\n",
    "dict_new[\"Media_geral\"] = 88.0\n",
    "\n",
    "dict_new"
   ]
  },
  {
   "cell_type": "markdown",
   "metadata": {},
   "source": [
    "Observer que este dicionário tem uma chave \"Media_geral\", mas também possue o valor da chave \"Calculo\" também como \"Media_geral\". Chaves e valores dentro de um dicionário podem ser iguais, mas representam coisas diferentes."
   ]
  },
  {
   "cell_type": "code",
   "execution_count": null,
   "metadata": {},
   "outputs": [],
   "source": [
    "# Reseta o dicionário\n",
    "dict_new = dict()\n",
    "dict_new"
   ]
  },
  {
   "cell_type": "code",
   "execution_count": null,
   "metadata": {},
   "outputs": [],
   "source": [
    "# Incluindo itens no dicionário\n",
    "dict_new[\"Tema\"] = \"Médias de Notas\"\n",
    "dict_new[\"Calculo\"] = \"Media_geral\"\n",
    "dict_new[\"2015_2020\"] = [79.0, 80.5, 81.0, 82.5, 88.0, 93.5]\n",
    "dict_new"
   ]
  },
  {
   "cell_type": "code",
   "execution_count": null,
   "metadata": {},
   "outputs": [],
   "source": [
    "# Parsing da mensagem e operações em cima das valores dos dicionários\n",
    "print(dict_new[\"Tema\"] + '\\n')\n",
    "\n",
    "LIST_NOTAS = dict_new[\"2015_2020\"]\n",
    "\n",
    "ano = 2015\n",
    "sum_nota = 0\n",
    "\n",
    "for nota in LIST_NOTAS:\n",
    "    print (str(ano) + ' = ' + str(nota))\n",
    "    ano+= 1\n",
    "    # Sumariza as notas de todos os anos\n",
    "    sum_nota = sum_nota + nota\n",
    "\n",
    "print('\\n' + dict_new[\"Calculo\"] + ' = ' + str(round(sum_nota/len(LIST_NOTAS), 2)))"
   ]
  },
  {
   "cell_type": "markdown",
   "metadata": {
    "collapsed": true
   },
   "source": [
    "### Aninhamento de dicionários"
   ]
  },
  {
   "cell_type": "code",
   "execution_count": null,
   "metadata": {},
   "outputs": [],
   "source": [
    "dict_request = {\n",
    "    \"1000\": {\"nome\": \"André\",\n",
    "             \"endereco\": {\"logradouro\": \"Rua Joaquim Cruz\",\n",
    "                          \"numero\": \"534\",\n",
    "                          \"cidade\": \"Franca\"}},\n",
    "    \"1001\": {\"nome\": \"Felipe\",\n",
    "             \"endereco\": {\"logradouro\": \"Av Nova Lua\",\n",
    "                          \"numero\": \"1093\",\n",
    "                          \"cidade\": \"São Paulo\"}},\n",
    "    \"1002\": {\"nome\": \"Maria\",\n",
    "             \"endereco\": {\"logradouro\": \"Rua J\",\n",
    "                          \"numero\": \"10\",\n",
    "                          \"cidade\": \"Araraquara\"}},    \n",
    "}\n",
    "\n",
    "dict_request"
   ]
  },
  {
   "cell_type": "code",
   "execution_count": null,
   "metadata": {},
   "outputs": [],
   "source": [
    "# Fazendo parsing da mensagem\n",
    "\n",
    "for id_cliente in dict_request.keys():\n",
    "    \n",
    "    nome = dict_request[id_cliente]['nome']\n",
    "    endereco = dict_request[id_cliente]['endereco']['logradouro']\n",
    "    numero = dict_request[id_cliente]['endereco']['numero']\n",
    "    cidade = dict_request[id_cliente]['endereco']['cidade']\n",
    "    \n",
    "    print(\"Nome: \" + nome)\n",
    "    print(\"endereco: \" + endereco + ', ' + numero)\n",
    "    print(\"cidade: \" + cidade + '\\n')"
   ]
  },
  {
   "cell_type": "markdown",
   "metadata": {},
   "source": [
    "### FIM\n",
    "###### Documentação: https://docs.python.org/pt-br/3/library/"
   ]
  }
 ],
 "metadata": {
  "anaconda-cloud": {},
  "kernelspec": {
   "display_name": "Python 3",
   "language": "python",
   "name": "python3"
  },
  "language_info": {
   "codemirror_mode": {
    "name": "ipython",
    "version": 3
   },
   "file_extension": ".py",
   "mimetype": "text/x-python",
   "name": "python",
   "nbconvert_exporter": "python",
   "pygments_lexer": "ipython3",
   "version": "3.7.3"
  }
 },
 "nbformat": 4,
 "nbformat_minor": 1
}
