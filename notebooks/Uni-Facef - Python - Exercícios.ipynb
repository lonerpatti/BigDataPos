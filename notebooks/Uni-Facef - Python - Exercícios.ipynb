{
 "cells": [
  {
   "cell_type": "markdown",
   "metadata": {},
   "source": [
    "# <font color='blue'>Uni-Facef - Lista de exercícios em Python</font>\n",
    "\n",
    "Usem quantas celulas quizerem para resolver os exercícios."
   ]
  },
  {
   "cell_type": "markdown",
   "metadata": {},
   "source": [
    "## Exercício 1:\n",
    "\n",
    "Criei uma variável para receber uma frase digitada pelo usuário. Com isso, responda:\n",
    "\n",
    "a) Quantos espaços em branco contem a frase?\n",
    "\n",
    "b) Quantas palavras a frase possui?\n",
    "\n",
    "Devolva uma resposta amigável ;)"
   ]
  },
  {
   "cell_type": "code",
   "execution_count": null,
   "metadata": {},
   "outputs": [],
   "source": []
  },
  {
   "cell_type": "markdown",
   "metadata": {},
   "source": [
    "## Exercício 2:\n",
    "\n",
    "Organize os itens das 3 listas abaixo em apenas uma lista. Com, isso:\n",
    "\n",
    "```\n",
    "lista1 = [1, 2, 3, 4, 6]\n",
    "lista2 = [3, 2, 5, 0, 7]\n",
    "lista3 = [4, 5, 7, 1, 8]\n",
    "```\n",
    "\n",
    "- Retire os numeros repetidos; \n",
    "- Ordene de forma decrescente;\n",
    "- E multiplique por 10 cada um dos itens;\n",
    "- Converta a lista em uma tupla\n",
    "\n",
    "A saída deve ser uma TUPLA com os novos valores "
   ]
  },
  {
   "cell_type": "code",
   "execution_count": null,
   "metadata": {},
   "outputs": [],
   "source": []
  },
  {
   "cell_type": "markdown",
   "metadata": {},
   "source": [
    "## Exercício 3:\n",
    "\n",
    "Crie um laço de repetição com 1000 iterações, e a cada 100 repetições imprima a centena corrente."
   ]
  },
  {
   "cell_type": "code",
   "execution_count": null,
   "metadata": {},
   "outputs": [],
   "source": []
  },
  {
   "cell_type": "markdown",
   "metadata": {},
   "source": [
    "## Exercício 4:\n",
    "\n",
    "A lista abaixo que representam as faltas marcadas pelos times nos jogos de um campeonato.\n",
    "Onde no primeiro jogo \"Brasil\" fez 7 faltas e \"Argentina\" fez 9. Seguindo essa lógica responda?\n",
    "\n",
    "```\n",
    "[['Brasil', 'Argentina',[7,9]],['Brasil', 'França',[8,6]],['Italia', 'Argentina',[8,10]]]\n",
    "```\n",
    "\n",
    "a) Qual o total de faltas desse campeonato?\n",
    "\n",
    "b) Qual o maior numero de faltas feita por um time dentre estes jogos? Mostre o time.\n",
    "\n",
    "Devolva uma resposta amigável ;)"
   ]
  },
  {
   "cell_type": "code",
   "execution_count": null,
   "metadata": {},
   "outputs": [],
   "source": []
  },
  {
   "cell_type": "markdown",
   "metadata": {},
   "source": [
    "## Exercício 5:\n",
    "\n",
    "Crie uma função que calcula a diferença de meses entre duas datas, sendo estes dois parâmetros do tipo string com formato DD/MM/YYYY.\n",
    "\n",
    "- Crie uma DocString documentando a função\n",
    "- Depois de criada dê um Help() na função para ver o documentação\n",
    "- Execução a função com os parâmetros desejados\n",
    "\n",
    "A saída deve ser valor numérico inteiro"
   ]
  },
  {
   "cell_type": "code",
   "execution_count": null,
   "metadata": {},
   "outputs": [],
   "source": []
  }
 ],
 "metadata": {
  "kernelspec": {
   "display_name": "Python 3",
   "language": "python",
   "name": "python3"
  },
  "language_info": {
   "codemirror_mode": {
    "name": "ipython",
    "version": 3
   },
   "file_extension": ".py",
   "mimetype": "text/x-python",
   "name": "python",
   "nbconvert_exporter": "python",
   "pygments_lexer": "ipython3",
   "version": "3.7.3"
  }
 },
 "nbformat": 4,
 "nbformat_minor": 2
}
