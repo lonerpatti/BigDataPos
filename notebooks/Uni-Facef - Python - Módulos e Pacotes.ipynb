{
 "cells": [
  {
   "cell_type": "markdown",
   "metadata": {},
   "source": [
    "# <font color='blue'>Uni-Facef - Módulos e Pacotes em Python</font>"
   ]
  },
  {
   "cell_type": "markdown",
   "metadata": {},
   "source": [
    "Módulos são um conjunto de códigos como funções, classes, variáveis, etc em um determinado arquivo \".py\". Vários módulos podem se comunicar através do comando import.\n",
    "\n",
    "Pacotes são módulos também. São formados pela combinação de um diretório mais o arquivo \"__init__.py\". Eles são módulos que podem conter outros módulos, isto é, uma coleção de módulos em diretórios que fornecem uma hierarquia.\n",
    "\n",
    "Os módulos estendem, dão escalabilidade e flexibilidade ao Python. Podem ser módulos nativo, conhecidos como built-in, ou externos à instalação do Python. O Anaconda traz um pacote bem rico de bibliotecas e módulos para ciência de dados. \n",
    "\n",
    "Os módulos externos podem ser instalados através do comando \"!pip install\". Conheça uma infinida de pacote em https://pypi.org/"
   ]
  },
  {
   "cell_type": "markdown",
   "metadata": {},
   "source": [
    "### Importando o pacote \"os\"\n",
    "\n",
    "Usando a função \"dir()\" é possível verificar os métodos desse pacote"
   ]
  },
  {
   "cell_type": "code",
   "execution_count": null,
   "metadata": {},
   "outputs": [],
   "source": [
    "# import módulo \"os\"\n",
    "import os\n",
    "\n",
    "print(dir(os))"
   ]
  },
  {
   "cell_type": "markdown",
   "metadata": {},
   "source": [
    "#### Usando a função \"help()\" é possível ver a documentação de um método do pacote"
   ]
  },
  {
   "cell_type": "code",
   "execution_count": null,
   "metadata": {},
   "outputs": [],
   "source": [
    "help(os.getenv)"
   ]
  },
  {
   "cell_type": "markdown",
   "metadata": {},
   "source": [
    "#### Atribuindo a variável de ambiente \"JAVA_HOME\" a variável \"java_home\""
   ]
  },
  {
   "cell_type": "code",
   "execution_count": null,
   "metadata": {},
   "outputs": [],
   "source": [
    "# Atribuindo a variável de ambiente \"JAVA_HOME\" a uma variável\n",
    "java_home = os.getenv(\"JAVA_HOME\")\n",
    "print(java_home)"
   ]
  },
  {
   "cell_type": "markdown",
   "metadata": {},
   "source": [
    "### Imporando o pacote sys\n",
    "\n",
    "A importação simples carrega todos os métodos do pacote/módulo para a memória"
   ]
  },
  {
   "cell_type": "code",
   "execution_count": null,
   "metadata": {},
   "outputs": [],
   "source": [
    "import sys\n",
    "\n",
    "sys.version"
   ]
  },
  {
   "cell_type": "markdown",
   "metadata": {},
   "source": [
    "### Importando o pacote \"numpy\" \n",
    "\n",
    "Podemos atribuir um alias ao pacote. Ex: \"np\". Isso possibilita que no código você identifique de qual módulo o método usado pertence."
   ]
  },
  {
   "cell_type": "code",
   "execution_count": null,
   "metadata": {},
   "outputs": [],
   "source": [
    "# Importa o pacote \"numpy\" e dá o alias \"np\"\n",
    "import numpy as np\n",
    "\n",
    "l = [10, 15, 30]\n",
    "\n",
    "# Exibe a média os itens da lista \"l\"\n",
    "print(np.mean(l))"
   ]
  },
  {
   "cell_type": "markdown",
   "metadata": {},
   "source": [
    "### Importando apenas o método \"choice\" do pacote \"random\"\n",
    "\n",
    "A importação específica de um método do pacote é interessante, pois não carrega todos os métodos do pacote para a memória"
   ]
  },
  {
   "cell_type": "code",
   "execution_count": null,
   "metadata": {},
   "outputs": [],
   "source": [
    "# Importando um método específico de um módulo\n",
    "from random import choice\n",
    "\n",
    "cidades_l = [\"São Paulo\", \"Fortaleza\", \"Natal\", \"São Sebastião\", \"Ubatuba\"]\n",
    "\n",
    "choice(cidades_l)"
   ]
  },
  {
   "cell_type": "markdown",
   "metadata": {},
   "source": [
    "### Importando o pacote \"pandas\" com alias\n",
    "\n",
    "O Pandas é bastante utilizado pelos cientistas de dados"
   ]
  },
  {
   "cell_type": "code",
   "execution_count": null,
   "metadata": {},
   "outputs": [],
   "source": [
    "import pandas as pd\n",
    "\n",
    "df = pd.read_csv('https://raw.githubusercontent.com/mwaskom/seaborn-data/master/iris.csv')\n",
    "\n",
    "df.head(10)"
   ]
  },
  {
   "cell_type": "markdown",
   "metadata": {},
   "source": [
    "### Importando o módulo datetime\n",
    "\n",
    "O módulo \"datetime\" é a biblioteca nativa do Python para trabalhar com date e hora"
   ]
  },
  {
   "cell_type": "code",
   "execution_count": null,
   "metadata": {},
   "outputs": [],
   "source": [
    "from datetime import date, datetime \n",
    "\n",
    "data_atual = date.today()\n",
    "data_atual"
   ]
  },
  {
   "cell_type": "code",
   "execution_count": null,
   "metadata": {},
   "outputs": [],
   "source": [
    "# Propriedades day, month, year\n",
    "print(data_atual.day)\n",
    "print(data_atual.month)\n",
    "print(data_atual.year)"
   ]
  },
  {
   "cell_type": "code",
   "execution_count": null,
   "metadata": {},
   "outputs": [],
   "source": [
    "data_string = data_atual.strftime('%d/%m/%Y')\n",
    "data_string"
   ]
  },
  {
   "cell_type": "code",
   "execution_count": null,
   "metadata": {},
   "outputs": [],
   "source": [
    "data_hora = datetime.now()\n",
    "data_hora"
   ]
  },
  {
   "cell_type": "code",
   "execution_count": null,
   "metadata": {},
   "outputs": [],
   "source": [
    "data_hora_string = data_hora.strftime('%d-%m-%Y %H:%M:%S')\n",
    "data_hora_string"
   ]
  },
  {
   "cell_type": "code",
   "execution_count": null,
   "metadata": {},
   "outputs": [],
   "source": [
    "from datetime import timedelta, datetime \n",
    "\n",
    "datetime.now().date() - timedelta(days=10)"
   ]
  },
  {
   "cell_type": "code",
   "execution_count": null,
   "metadata": {},
   "outputs": [],
   "source": [
    "date_time_str = '18/09/2020 01:55:19'\n",
    "date_time_obj = datetime.strptime(date_time_str, '%d/%m/%Y %H:%M:%S')\n",
    "date_time_obj"
   ]
  },
  {
   "cell_type": "markdown",
   "metadata": {},
   "source": [
    "### FIM\n",
    "###### Documentação: https://docs.python.org/pt-br/3/library/"
   ]
  }
 ],
 "metadata": {
  "kernelspec": {
   "display_name": "Python 3",
   "language": "python",
   "name": "python3"
  },
  "language_info": {
   "codemirror_mode": {
    "name": "ipython",
    "version": 3
   },
   "file_extension": ".py",
   "mimetype": "text/x-python",
   "name": "python",
   "nbconvert_exporter": "python",
   "pygments_lexer": "ipython3",
   "version": "3.7.3"
  }
 },
 "nbformat": 4,
 "nbformat_minor": 2
}
