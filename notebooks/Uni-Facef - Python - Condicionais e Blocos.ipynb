{
 "cells": [
  {
   "cell_type": "markdown",
   "metadata": {},
   "source": [
    "# <font color='blue'>Uni-Facef - Condicionais e Blocos em Python</font>"
   ]
  },
  {
   "cell_type": "markdown",
   "metadata": {},
   "source": [
    "Neste notebook veremos alguns exemplos de blocos condicionais. Importante ressaltar a importancia da indentação na codificação, pois em Python blocos de instrução são definidos pela indentação, diferente da maioria das linguagens que usam as chaves {}."
   ]
  },
  {
   "cell_type": "markdown",
   "metadata": {},
   "source": [
    "## Condicionais if-elif-else"
   ]
  },
  {
   "cell_type": "code",
   "execution_count": null,
   "metadata": {},
   "outputs": [],
   "source": [
    "# Operador de Atribuição\n",
    "numero = 10\n",
    "\n",
    "# Operador de Condição\n",
    "if numero == 10:\n",
    "    print(\"Igualdade\")"
   ]
  },
  {
   "cell_type": "markdown",
   "metadata": {},
   "source": [
    "#### Variáveis com valor '' (vazio), zero (0) ou None retornam boleano False"
   ]
  },
  {
   "cell_type": "code",
   "execution_count": null,
   "metadata": {},
   "outputs": [],
   "source": [
    "var = False\n",
    "\n",
    "if var:\n",
    "    print(\"Verdadeiro\")\n",
    "else:\n",
    "    print(\"Falso\")"
   ]
  },
  {
   "cell_type": "code",
   "execution_count": null,
   "metadata": {},
   "outputs": [],
   "source": [
    "5 > 4"
   ]
  },
  {
   "cell_type": "code",
   "execution_count": null,
   "metadata": {},
   "outputs": [],
   "source": [
    "4 >= 4"
   ]
  },
  {
   "cell_type": "code",
   "execution_count": null,
   "metadata": {},
   "outputs": [],
   "source": [
    "5 <= 4"
   ]
  },
  {
   "cell_type": "markdown",
   "metadata": {},
   "source": [
    "#### O uso do \"else\" é a alternativa inversa à condição do \"if\""
   ]
  },
  {
   "cell_type": "code",
   "execution_count": null,
   "metadata": {},
   "outputs": [],
   "source": [
    "idade = input('Entre com a idade da pessoa: ')\n",
    "print()\n",
    "\n",
    "if int(idade) >= 18:\n",
    "    print(\"Maior de idade\")\n",
    "else:\n",
    "    print(\"Menor de idade\")"
   ]
  },
  {
   "cell_type": "markdown",
   "metadata": {},
   "source": [
    "#### Já o \"elif\" acrescentar novas condições hierarquicamente ao bloco"
   ]
  },
  {
   "cell_type": "code",
   "execution_count": null,
   "metadata": {},
   "outputs": [],
   "source": [
    "dia_semana = 4\n",
    "\n",
    "if dia_semana == 0:\n",
    "    print(\"Domingo\")\n",
    "    \n",
    "elif dia_semana == 1:\n",
    "    print(\"Segunda\")\n",
    "    \n",
    "elif dia_semana == 2:\n",
    "    print(\"Terça\")\n",
    "    \n",
    "elif dia_semana == 3:\n",
    "    print(\"Quarta\")\n",
    "    \n",
    "else:\n",
    "    print(\"Assim por diante\")"
   ]
  },
  {
   "cell_type": "markdown",
   "metadata": {},
   "source": [
    "### Usando Operadores lógicos \"and\" e \"or\""
   ]
  },
  {
   "cell_type": "code",
   "execution_count": null,
   "metadata": {},
   "outputs": [],
   "source": [
    "# Dado as listas abaixo\n",
    "list1 = [1,2,3]\n",
    "list2 = [1,4,5]"
   ]
  },
  {
   "cell_type": "code",
   "execution_count": null,
   "metadata": {},
   "outputs": [],
   "source": [
    "num = 1\n",
    "\n",
    "if (num in list1) and (num in list2):\n",
    "    print(\"Número se encontra em AMBAS as listas\")\n",
    "    \n",
    "elif (num in list1) or (num in list2):\n",
    "    print(\"Número se encontra em UMA das listas\")\n",
    "    \n",
    "else:\n",
    "    print(\"Número não encontrado em listas\")"
   ]
  },
  {
   "cell_type": "markdown",
   "metadata": {},
   "source": [
    "### Avalidando se o valor existe no \"range\""
   ]
  },
  {
   "cell_type": "code",
   "execution_count": null,
   "metadata": {},
   "outputs": [],
   "source": [
    "r = range(0, 11)\n",
    "type(r)"
   ]
  },
  {
   "cell_type": "code",
   "execution_count": null,
   "metadata": {},
   "outputs": [],
   "source": [
    "num = 11\n",
    "\n",
    "if num in range(0, 11):\n",
    "    print(True)\n",
    "else:\n",
    "    print(False)"
   ]
  },
  {
   "cell_type": "markdown",
   "metadata": {},
   "source": [
    "## Bloco - Estrutura de repetição for"
   ]
  },
  {
   "cell_type": "code",
   "execution_count": null,
   "metadata": {},
   "outputs": [],
   "source": [
    "for letra in 'Bigdata':\n",
    "    print(letra)"
   ]
  },
  {
   "cell_type": "markdown",
   "metadata": {},
   "source": [
    "#### A função range possui os seguintes parâmetros: \"range(start, stop, step)\""
   ]
  },
  {
   "cell_type": "code",
   "execution_count": null,
   "metadata": {},
   "outputs": [],
   "source": [
    "for numero_par in range(0, 10, 2):\n",
    "    print(numero_par)"
   ]
  },
  {
   "cell_type": "markdown",
   "metadata": {},
   "source": [
    "#### A função \"continue\" interrompe a execução do loop, mas não \"quebra\" a sequencia de iterações"
   ]
  },
  {
   "cell_type": "code",
   "execution_count": null,
   "metadata": {},
   "outputs": [],
   "source": [
    "for numero_impar in range(1,10):\n",
    "    if numero_impar%2 == 0:\n",
    "        continue\n",
    "    print(numero_impar)"
   ]
  },
  {
   "cell_type": "markdown",
   "metadata": {},
   "source": [
    "#### A função \"break\" interrompe a execução do loop e aborta as próximas de iterações"
   ]
  },
  {
   "cell_type": "code",
   "execution_count": null,
   "metadata": {},
   "outputs": [],
   "source": [
    "l = [1, 2, 3, 5, 6, 8, 9, 10]\n",
    "\n",
    "for num in l:\n",
    "    if num > 5:\n",
    "        break\n",
    "    print(num)"
   ]
  },
  {
   "cell_type": "code",
   "execution_count": null,
   "metadata": {},
   "outputs": [],
   "source": [
    "frutas = [\"laranja\", \"maça\", \"pera\", \"jaboticaba\"]\n",
    "\n",
    "for i, fruta in enumerate(frutas):\n",
    "    print(i, fruta)"
   ]
  },
  {
   "cell_type": "markdown",
   "metadata": {},
   "source": [
    "## Bloco - Estrutura de repetição while"
   ]
  },
  {
   "cell_type": "markdown",
   "metadata": {},
   "source": [
    "#### Listando os números impares usando \"while\" e \"continue\""
   ]
  },
  {
   "cell_type": "code",
   "execution_count": null,
   "metadata": {},
   "outputs": [],
   "source": [
    "conta = 0\n",
    "while conta < 10:\n",
    "\n",
    "    conta += 1\n",
    "\n",
    "    if conta%2 == 0:\n",
    "        continue\n",
    "    \n",
    "    print(conta)"
   ]
  },
  {
   "cell_type": "code",
   "execution_count": null,
   "metadata": {},
   "outputs": [],
   "source": [
    "dias_semana = (\"domingo\", \"segunda\", \"terça\", \"quarta\", \"quinta\", \"sexta\",\"Sábado\")\n",
    "\n",
    "dia = 0\n",
    "\n",
    "while (dia < len(dias_semana)):\n",
    "    \n",
    "    print(dias_semana[dia])\n",
    "\n",
    "    dia += 1\n",
    "else:\n",
    "    print(\"\\nEsses são os dias da semana!!\")"
   ]
  },
  {
   "cell_type": "code",
   "execution_count": null,
   "metadata": {},
   "outputs": [],
   "source": [
    "while True:\n",
    "    msg = input('Entre com a mensangem ou \"exit\" para sair do loop infinito: ')\n",
    "    \n",
    "    if msg == 'exit':\n",
    "        print(\"FIM!!!\")\n",
    "        break\n",
    "    \n",
    "    print(msg)"
   ]
  },
  {
   "cell_type": "markdown",
   "metadata": {},
   "source": [
    "## Bloco - Tratando exceções\n",
    "\n",
    "Simulando uma divisão por zero para cair na exceção"
   ]
  },
  {
   "cell_type": "code",
   "execution_count": null,
   "metadata": {},
   "outputs": [],
   "source": [
    "num = input('Digite um número: ')\n",
    "\n",
    "try:\n",
    "    ret = int(100/int(num))\n",
    "except:\n",
    "    print(\"Não pode dividir 100 pelo número \" + num)\n",
    "    ret = 0\n",
    "finally:\n",
    "    print(ret)"
   ]
  },
  {
   "cell_type": "markdown",
   "metadata": {},
   "source": [
    "### FIM\n",
    "###### Documentação: https://docs.python.org/pt-br/3/library/"
   ]
  }
 ],
 "metadata": {
  "kernelspec": {
   "display_name": "Python 3",
   "language": "python",
   "name": "python3"
  },
  "language_info": {
   "codemirror_mode": {
    "name": "ipython",
    "version": 3
   },
   "file_extension": ".py",
   "mimetype": "text/x-python",
   "name": "python",
   "nbconvert_exporter": "python",
   "pygments_lexer": "ipython3",
   "version": "3.7.3"
  }
 },
 "nbformat": 4,
 "nbformat_minor": 2
}
