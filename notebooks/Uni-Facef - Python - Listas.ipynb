{
 "cells": [
  {
   "cell_type": "markdown",
   "metadata": {},
   "source": [
    "# <font color='blue'>Uni-Facef - Listas em Python</font>"
   ]
  },
  {
   "cell_type": "markdown",
   "metadata": {},
   "source": [
    "Uma lista é uma sequência ou coleção heterogênea e ordenada de objetos, que podem ser de qualquer tipo, inclusive outras listas. Os objetos ou valores que formam uma lista são chamados elementos ou itens.\n",
    "As listas no Python são "
   ]
  },
  {
   "cell_type": "code",
   "execution_count": null,
   "metadata": {},
   "outputs": [],
   "source": [
    "# Criando um lista de Bandas\n",
    "bandas_l = [\"Jota Quest\", \"Paralamas do sucesso\", \"Pink Floyd\"]\n",
    "bandas_l"
   ]
  },
  {
   "cell_type": "code",
   "execution_count": null,
   "metadata": {},
   "outputs": [],
   "source": [
    "# Incluindo novo item na lista através do modo append()\n",
    "bandas_l.append(\"Iron Maiden\")\n",
    "bandas_l"
   ]
  },
  {
   "cell_type": "code",
   "execution_count": null,
   "metadata": {},
   "outputs": [],
   "source": [
    "# Exibe o indice de um item da lista\n",
    "bandas_l.index(\"Paralamas do sucesso\")"
   ]
  },
  {
   "cell_type": "code",
   "execution_count": null,
   "metadata": {},
   "outputs": [],
   "source": [
    "# Alterando um item na lista pelo indice\n",
    "bandas_l[3] = \"Legião Urbana\"\n",
    "bandas_l"
   ]
  },
  {
   "cell_type": "code",
   "execution_count": null,
   "metadata": {},
   "outputs": [],
   "source": [
    "# Verificando o tamanho do lista\n",
    "len(bandas_l)"
   ]
  },
  {
   "cell_type": "code",
   "execution_count": null,
   "metadata": {},
   "outputs": [],
   "source": [
    "# Percorrendo os itens da lista usando o operador \"in\" e a função enumerate para captura o indice\n",
    "for i, banda in enumerate(bandas_l):\n",
    "    print(i, banda)"
   ]
  },
  {
   "cell_type": "code",
   "execution_count": null,
   "metadata": {},
   "outputs": [],
   "source": [
    "# Iterando os itens da lista pelo Indice usando a função range() e len()\n",
    "for i in range(0, len(bandas_l)):\n",
    "    print(i, bandas_l[i])    "
   ]
  },
  {
   "cell_type": "code",
   "execution_count": null,
   "metadata": {},
   "outputs": [],
   "source": [
    "# Erro de \"Out of index\" quando o indice não existe\n",
    "bandas_l[4]"
   ]
  },
  {
   "cell_type": "code",
   "execution_count": null,
   "metadata": {},
   "outputs": [],
   "source": [
    "# Incluindo novo item na lista através do modo append()\n",
    "bandas_l.append(\"Iron Maiden\")\n",
    "bandas_l"
   ]
  },
  {
   "cell_type": "markdown",
   "metadata": {},
   "source": [
    "### Slicing de uma lista"
   ]
  },
  {
   "cell_type": "code",
   "execution_count": null,
   "metadata": {},
   "outputs": [],
   "source": [
    "# Fatiamento (Slicing) da lista pelo indice\n",
    "bandas_l[2:]"
   ]
  },
  {
   "cell_type": "code",
   "execution_count": null,
   "metadata": {},
   "outputs": [],
   "source": [
    "# Fatiamento (Slicing) da lista pelo indice em intervalos (de 2 em 2)\n",
    "bandas_l[::2]"
   ]
  },
  {
   "cell_type": "markdown",
   "metadata": {},
   "source": [
    "### Deletando um item da lista"
   ]
  },
  {
   "cell_type": "code",
   "execution_count": null,
   "metadata": {},
   "outputs": [],
   "source": [
    "bandas_l"
   ]
  },
  {
   "cell_type": "code",
   "execution_count": null,
   "metadata": {},
   "outputs": [],
   "source": [
    "len(bandas_l)"
   ]
  },
  {
   "cell_type": "code",
   "execution_count": null,
   "metadata": {},
   "outputs": [],
   "source": [
    "# Out of index. Não é possível deletar um item que não existe na lista\n",
    "del bandas_l[5]  \n",
    "bandas_l"
   ]
  },
  {
   "cell_type": "code",
   "execution_count": null,
   "metadata": {},
   "outputs": [],
   "source": [
    "# O Indice máximo da lista é o len() - 1\n",
    "max_index = len(bandas_l) - 1\n",
    "max_index"
   ]
  },
  {
   "cell_type": "code",
   "execution_count": null,
   "metadata": {},
   "outputs": [],
   "source": [
    "# Delete de um item da lista\n",
    "del bandas_l[max_index]\n",
    "bandas_l"
   ]
  },
  {
   "cell_type": "markdown",
   "metadata": {},
   "source": [
    "### Aninhamento de listas - Matriz"
   ]
  },
  {
   "cell_type": "code",
   "execution_count": null,
   "metadata": {},
   "outputs": [],
   "source": [
    "# Criando uma lista de listas\n",
    "matriz = [\n",
    "    [ 1, 4, 9, 10],\n",
    "    [ 7, 1, 5,  1],\n",
    "    [10, 5, 4, 13], \n",
    "]\n",
    "matriz"
   ]
  },
  {
   "cell_type": "code",
   "execution_count": null,
   "metadata": {},
   "outputs": [],
   "source": [
    "# Listando o primeiro item da lista\n",
    "matriz[0]"
   ]
  },
  {
   "cell_type": "code",
   "execution_count": null,
   "metadata": {},
   "outputs": [],
   "source": [
    "# Listando o primeiro valor da primeira lista\n",
    "matriz[0][0]"
   ]
  },
  {
   "cell_type": "code",
   "execution_count": null,
   "metadata": {},
   "outputs": [],
   "source": [
    "# Listando um valor na linha 2 (index=1) e coluna 3 (index=2)\n",
    "matriz[1][2]"
   ]
  },
  {
   "cell_type": "code",
   "execution_count": null,
   "metadata": {},
   "outputs": [],
   "source": [
    "# Atribuindo um item da lista \"matriz\" a uma variável que assume o tipo lista\n",
    "lista_1 = matriz[0]\n",
    "print(lista_1)\n",
    "\n",
    "type(lista_1)"
   ]
  },
  {
   "cell_type": "code",
   "execution_count": null,
   "metadata": {},
   "outputs": [],
   "source": [
    "# Iterando os itens da lista pelo Indice\n",
    "for item_lista in matriz:\n",
    "    for item in item_lista:\n",
    "        print(item)"
   ]
  },
  {
   "cell_type": "code",
   "execution_count": null,
   "metadata": {},
   "outputs": [],
   "source": [
    "nova_lista = [10, 2, 2, 10]\n",
    "nova_lista"
   ]
  },
  {
   "cell_type": "code",
   "execution_count": null,
   "metadata": {},
   "outputs": [],
   "source": [
    "matriz.append(nova_lista)\n",
    "matriz"
   ]
  },
  {
   "cell_type": "code",
   "execution_count": null,
   "metadata": {},
   "outputs": [],
   "source": [
    "len(matriz)"
   ]
  },
  {
   "cell_type": "code",
   "execution_count": null,
   "metadata": {},
   "outputs": [],
   "source": [
    "del matriz[3]\n",
    "matriz"
   ]
  },
  {
   "cell_type": "code",
   "execution_count": null,
   "metadata": {},
   "outputs": [],
   "source": [
    "matriz_2 = matriz + nova_lista\n",
    "print(matriz_2)\n",
    "len(matriz_2)"
   ]
  },
  {
   "cell_type": "code",
   "execution_count": null,
   "metadata": {},
   "outputs": [],
   "source": [
    "nova_lista = [[10, 2, 2, 10]]\n",
    "nova_lista"
   ]
  },
  {
   "cell_type": "code",
   "execution_count": null,
   "metadata": {},
   "outputs": [],
   "source": [
    "matriz_3 = matriz + nova_lista\n",
    "print(matriz_3)\n",
    "len(matriz_3)"
   ]
  },
  {
   "cell_type": "markdown",
   "metadata": {},
   "source": [
    "### Funções nativas (built-in) para listas"
   ]
  },
  {
   "cell_type": "code",
   "execution_count": null,
   "metadata": {},
   "outputs": [],
   "source": [
    "# Uma lista vazio e inclui itens com função \"append()\"\n",
    "numeros_l = []\n",
    "\n",
    "numeros_l.append(3)\n",
    "numeros_l.append(2)\n",
    "numeros_l.append(1)\n",
    "\n",
    "print(numeros_l)"
   ]
  },
  {
   "cell_type": "code",
   "execution_count": null,
   "metadata": {},
   "outputs": [],
   "source": [
    "# Ordena os itens de uma lista\n",
    "numeros_l.sort()\n",
    "numeros_l"
   ]
  },
  {
   "cell_type": "code",
   "execution_count": null,
   "metadata": {},
   "outputs": [],
   "source": [
    "# Reverte a lista - Não ordena, apenas inverte a sequencia\n",
    "l1 = [4, 7, 5, 3,  6]\n",
    "l1.reverse()\n",
    "l1"
   ]
  },
  {
   "cell_type": "code",
   "execution_count": null,
   "metadata": {},
   "outputs": [],
   "source": [
    "# Reatribuição da lista um ela mesma + outra lista\n",
    "numeros_l = numeros_l + l1\n",
    "numeros_l"
   ]
  },
  {
   "cell_type": "code",
   "execution_count": null,
   "metadata": {},
   "outputs": [],
   "source": [
    "# Reatribuição da lista um ela mesma + outra lista (O parâmetro não é o indice e sim o valor)\n",
    "numeros_l.count(3)"
   ]
  },
  {
   "cell_type": "code",
   "execution_count": null,
   "metadata": {},
   "outputs": [],
   "source": [
    "# Reatribui os itens tirando a duplicidade através da estrutura \"set\" do Python\n",
    "numeros_l = list(set(numeros_l))\n",
    "numeros_l"
   ]
  },
  {
   "cell_type": "code",
   "execution_count": null,
   "metadata": {},
   "outputs": [],
   "source": [
    "# Retorna o valor máximo da lista\n",
    "max(numeros_l)"
   ]
  },
  {
   "cell_type": "code",
   "execution_count": null,
   "metadata": {},
   "outputs": [],
   "source": [
    "# Retorna o valor máximo da lista\n",
    "min(numeros_l)"
   ]
  },
  {
   "cell_type": "code",
   "execution_count": null,
   "metadata": {},
   "outputs": [],
   "source": [
    "# Remove um item da lista (O parâmetro não é o indice)\n",
    "numeros_l.remove(7)\n",
    "numeros_l"
   ]
  },
  {
   "cell_type": "code",
   "execution_count": null,
   "metadata": {},
   "outputs": [],
   "source": [
    "# Remove um item da lista pelo indice. No caso o item 6\n",
    "del numeros_l[5] \n",
    "numeros_l"
   ]
  },
  {
   "cell_type": "code",
   "execution_count": null,
   "metadata": {},
   "outputs": [],
   "source": [
    "# Insere novo item na posição/indice informada no primeiro parâmetro da função (o append é sempre no final)\n",
    "numeros_l.insert(2, 110)\n",
    "numeros_l"
   ]
  },
  {
   "cell_type": "code",
   "execution_count": null,
   "metadata": {},
   "outputs": [],
   "source": [
    "# Extendendo a lista atraves da função extend() passando como parâmetro uma outra lista\n",
    "numeros_l.extend([10, 11])\n",
    "numeros_l"
   ]
  },
  {
   "cell_type": "markdown",
   "metadata": {},
   "source": [
    "### FIM\n",
    "###### Documentação: https://docs.python.org/pt-br/3/library/"
   ]
  },
  {
   "cell_type": "code",
   "execution_count": null,
   "metadata": {},
   "outputs": [],
   "source": []
  }
 ],
 "metadata": {
  "anaconda-cloud": {},
  "kernelspec": {
   "display_name": "Python 3",
   "language": "python",
   "name": "python3"
  },
  "language_info": {
   "codemirror_mode": {
    "name": "ipython",
    "version": 3
   },
   "file_extension": ".py",
   "mimetype": "text/x-python",
   "name": "python",
   "nbconvert_exporter": "python",
   "pygments_lexer": "ipython3",
   "version": "3.7.3"
  }
 },
 "nbformat": 4,
 "nbformat_minor": 1
}
