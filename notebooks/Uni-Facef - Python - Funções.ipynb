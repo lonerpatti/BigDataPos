{
 "cells": [
  {
   "cell_type": "markdown",
   "metadata": {},
   "source": [
    "# <font color='blue'>Uni-Facef - Funções em Python</font>"
   ]
  },
  {
   "cell_type": "markdown",
   "metadata": {},
   "source": [
    "As função são blocos de códigos identificados por um nome, exceto as funções lambda, que podem receber parâmetros pré-determinados ou não.\n",
    "\n",
    "- O Comando \"def\" inicia a definição da função.\n",
    "- Elas podem ou não retornar objetos e valores. O comando \"return\" marcar o fim da execução e retorna da função.\n",
    "- Aceitam \"Doc String\" para documentação do função.\n",
    "- Aceitam parâmetros default, que se não informados assumem o valor pré-determinado.\n",
    "- Aceitam argumentos arbitrários \n",
    "  - Use *args para aceitar uma lista de argumentos posicionais\n",
    "  - Use *kargs para aceitar um dicionário de argumentos identificados por palavras chave\n"
   ]
  },
  {
   "cell_type": "code",
   "execution_count": null,
   "metadata": {},
   "outputs": [],
   "source": [
    "def soma(x, y):\n",
    "    \"\"\"\n",
    "    Definição da função \"soma\":\n",
    "    Esta função é responsável pela soma de dois valores passados nos \n",
    "    parâmetros \"x\" e \"y\"\n",
    "    \"\"\"\n",
    "    return x + y"
   ]
  },
  {
   "cell_type": "code",
   "execution_count": null,
   "metadata": {},
   "outputs": [],
   "source": [
    "soma(10, 5)"
   ]
  },
  {
   "cell_type": "code",
   "execution_count": null,
   "metadata": {},
   "outputs": [],
   "source": [
    "def exibir_mensagem(msg, pagina='1', rodape='Fim'):\n",
    "    \"\"\"\n",
    "    Definição da função \"exibir_mensagem\"\n",
    "    Essa função demostra o uso de parâmetros \"default\"\n",
    "    \"\"\"\n",
    "    print(\"Página: \" + pagina + \"\\n\")\n",
    "    print(msg + \"\\n\")\n",
    "    print(rodape)"
   ]
  },
  {
   "cell_type": "code",
   "execution_count": null,
   "metadata": {},
   "outputs": [],
   "source": [
    "exibir_mensagem(\"Passando mensagem\")\n",
    "#exibir_mensagem(\"Passando mensagem e Página\", '2')\n",
    "#exibir_mensagem(\"Ignorando o parâmetro pagina\",rodape='Fim das mensagens')"
   ]
  },
  {
   "cell_type": "code",
   "execution_count": null,
   "metadata": {},
   "outputs": [],
   "source": [
    "from unicodedata import normalize, category\n",
    "\n",
    "def remove_acento(texto):\n",
    "    \"\"\"\n",
    "    Remove acentos de um string:\n",
    "    Essa função utiliza os métodos \"normalize\" e \"category\" do módulo \"unicodedata\"\n",
    "    Também utiliza \"list comprehension\" para iterar nos caracteres da string\n",
    "    \"\"\"\n",
    "    return ''.join((c for c in normalize('NFD', texto) if category(c) != 'Mn'))"
   ]
  },
  {
   "cell_type": "code",
   "execution_count": null,
   "metadata": {},
   "outputs": [],
   "source": [
    "# Retira os acentos e usa a função de string \"upper()\" para colocar em caixa alta\n",
    "cidade = remove_acento(\"São Sebastião do Paraíso\")\n",
    "cidade.upper()"
   ]
  },
  {
   "cell_type": "code",
   "execution_count": null,
   "metadata": {},
   "outputs": [],
   "source": [
    "# Validação dos caracteres da string\n",
    "for c in normalize('NFD', \"São Sebastião do Paraíso\"):\n",
    "    if category(c) == 'Mn':\n",
    "        print(c + \" - Acentuação\")\n",
    "    else:\n",
    "        print(c)"
   ]
  },
  {
   "cell_type": "markdown",
   "metadata": {},
   "source": [
    "### Utilizando Parâmetros *args em funções e métodos\n",
    "\n",
    "- *args - É um parâmetro do tipo Lista, o nome \"args\" é uma convenção. Pode ter outro nome desde que venha precedido de 1 asteriscos"
   ]
  },
  {
   "cell_type": "code",
   "execution_count": null,
   "metadata": {},
   "outputs": [],
   "source": [
    "def cliente_permissao(nomcli, *args):\n",
    "    \n",
    "    print(\"O cliente \" + nomcli + \" possue as seguintes permissões:\\n\")\n",
    "    \n",
    "    for p in args:\n",
    "        print(p)"
   ]
  },
  {
   "cell_type": "code",
   "execution_count": null,
   "metadata": {},
   "outputs": [],
   "source": [
    "cliente_permissao(\"André\", \"Inclusão\", \"Alteração\")"
   ]
  },
  {
   "cell_type": "markdown",
   "metadata": {},
   "source": [
    "### Utilizando Parâmetros **kwargs em funções e métodos\n",
    "- **kwargs - É um parâmetro do tipo Dicionário, o nome \"args\" é uma convenção. Pode ter outro nome desde que venha precedido de 2 asteriscos"
   ]
  },
  {
   "cell_type": "code",
   "execution_count": null,
   "metadata": {},
   "outputs": [],
   "source": [
    "def aplica_desconto(preco, **kwargs):\n",
    "    \n",
    "    tipo_acesso = kwargs.get(\"tipo_acesso\", \"vendedor\")\n",
    "    perc_desconto = kwargs.get(\"desconto\", 0.0)\n",
    "    \n",
    "    if tipo_acesso == 'gerente' and perc_desconto < 10.00:\n",
    "        \n",
    "        vr_desc = preco * (perc_desconto/100)\n",
    "        msg = \"Desconto concedido: R$\"\n",
    "    \n",
    "    elif tipo_acesso == 'vendedor' and perc_desconto < 5.00:\n",
    "\n",
    "        vr_desc = preco * (perc_desconto/100)\n",
    "        msg = \"Desconto concedido: R$\"\n",
    "\n",
    "    else:\n",
    "        vr_desc = 0.0\n",
    "        msg = \"Desconto não pode ser concedido: R$\"\n",
    "\n",
    "    return vr_desc, msg"
   ]
  },
  {
   "cell_type": "code",
   "execution_count": null,
   "metadata": {},
   "outputs": [],
   "source": [
    "vr, mensagem = aplica_desconto(110.00, tipo_acesso = \"vendedor\", desconto=20.0)\n",
    "\n",
    "print(mensagem, vr)"
   ]
  },
  {
   "cell_type": "markdown",
   "metadata": {},
   "source": [
    "### Funções lambda\n",
    "São funções anônimas que podem ser criadas com a palavra-chave lambda. Elas não são definidas pela função \"def\" e não recebem um nome, porém podem ser atribuídas a uma variável. "
   ]
  },
  {
   "cell_type": "code",
   "execution_count": null,
   "metadata": {},
   "outputs": [],
   "source": [
    "soma = lambda x, y: x + y\n",
    "\n",
    "print(type(soma))\n",
    "\n",
    "soma(10, 3)"
   ]
  },
  {
   "cell_type": "code",
   "execution_count": null,
   "metadata": {},
   "outputs": [],
   "source": [
    "# Dicionário com um domínio de Estado Civil\n",
    "estcivil = {\n",
    "    0: \"Solteiro\",\n",
    "    1: \"Casado\",\n",
    "    3: \"Divorciado\",\n",
    "    4: \"Viúvo\"}\n",
    "\n",
    "f_estcivil = lambda x: estcivil.get(x) if x in estcivil else \"Não reconhecido\""
   ]
  },
  {
   "cell_type": "code",
   "execution_count": null,
   "metadata": {},
   "outputs": [],
   "source": [
    "f_estcivil(8)"
   ]
  },
  {
   "cell_type": "markdown",
   "metadata": {},
   "source": [
    "### Classe em Python"
   ]
  },
  {
   "cell_type": "code",
   "execution_count": null,
   "metadata": {},
   "outputs": [],
   "source": [
    "class pet:\n",
    "\n",
    "    # Escopo da variável: Propriedade compartilhada por todas instancias do objeto\n",
    "    tipo = 'domestico'\n",
    "\n",
    "    def __init__(self, nome, especie):\n",
    "        self.nome = nome\n",
    "        self.especie = especie\n",
    "        \n",
    "    def comer(self):\n",
    "        print(self.nome + \" come bem, como qualquer \" + self.especie)"
   ]
  },
  {
   "cell_type": "code",
   "execution_count": null,
   "metadata": {},
   "outputs": [],
   "source": [
    "cachorro1 = pet(\"Tiuzão\", \"Cachorro\")\n",
    "\n",
    "print(cachorro1.tipo)\n",
    "print(cachorro1.nome)\n",
    "print(cachorro1.especie)\n",
    "\n",
    "cachorro1.comer()"
   ]
  },
  {
   "cell_type": "code",
   "execution_count": null,
   "metadata": {},
   "outputs": [],
   "source": [
    "gato = pet(\"Tom\", \"Gato\")\n",
    "\n",
    "print(gato.tipo)\n",
    "print(gato.nome)\n",
    "print(gato.especie)\n",
    "\n",
    "gato.comer()"
   ]
  },
  {
   "cell_type": "code",
   "execution_count": null,
   "metadata": {},
   "outputs": [],
   "source": [
    "class cachorro(pet):\n",
    "\n",
    "    def __init__(self, nome):\n",
    "        super().__init__(nome, 'Cachorro')\n",
    "\n",
    "    def latir(self, latido):\n",
    "        print(latido + \"!!!\")"
   ]
  },
  {
   "cell_type": "code",
   "execution_count": null,
   "metadata": {},
   "outputs": [],
   "source": [
    "cachorro2 = cachorro(\"Pit\")\n",
    "\n",
    "print(cachorro2.tipo)\n",
    "print(cachorro2.nome)\n",
    "print(cachorro2.especie)\n",
    "\n",
    "cachorro2.comer()"
   ]
  },
  {
   "cell_type": "code",
   "execution_count": null,
   "metadata": {},
   "outputs": [],
   "source": [
    "cachorro2.latir(\"Au, Au\")"
   ]
  },
  {
   "cell_type": "markdown",
   "metadata": {},
   "source": [
    "### Para aprender mais sobre classes em python acesse:\n",
    "    \n",
    "https://docs.python.org/3/tutorial/classes.html"
   ]
  },
  {
   "cell_type": "markdown",
   "metadata": {},
   "source": [
    "### FIM\n",
    "###### Documentação: https://docs.python.org/pt-br/3/library/"
   ]
  }
 ],
 "metadata": {
  "kernelspec": {
   "display_name": "Python 3",
   "language": "python",
   "name": "python3"
  },
  "language_info": {
   "codemirror_mode": {
    "name": "ipython",
    "version": 3
   },
   "file_extension": ".py",
   "mimetype": "text/x-python",
   "name": "python",
   "nbconvert_exporter": "python",
   "pygments_lexer": "ipython3",
   "version": "3.7.3"
  }
 },
 "nbformat": 4,
 "nbformat_minor": 2
}
