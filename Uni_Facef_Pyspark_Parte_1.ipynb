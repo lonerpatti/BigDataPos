{
  "nbformat": 4,
  "nbformat_minor": 0,
  "metadata": {
    "kernelspec": {
      "display_name": "Python 3",
      "language": "python",
      "name": "python3"
    },
    "language_info": {
      "codemirror_mode": {
        "name": "ipython",
        "version": 3
      },
      "file_extension": ".py",
      "mimetype": "text/x-python",
      "name": "python",
      "nbconvert_exporter": "python",
      "pygments_lexer": "ipython3",
      "version": "3.7.3"
    },
    "colab": {
      "name": "Uni-Facef - Pyspark - Parte 1.ipynb",
      "provenance": [],
      "include_colab_link": true
    }
  },
  "cells": [
    {
      "cell_type": "markdown",
      "metadata": {
        "id": "view-in-github",
        "colab_type": "text"
      },
      "source": [
        "<a href=\"https://colab.research.google.com/github/lonerpatti/BigDataPos/blob/main/Uni_Facef_Pyspark_Parte_1.ipynb\" target=\"_parent\"><img src=\"https://colab.research.google.com/assets/colab-badge.svg\" alt=\"Open In Colab\"/></a>"
      ]
    },
    {
      "cell_type": "markdown",
      "metadata": {
        "id": "3ez08B5pyePD"
      },
      "source": [
        "# <font color='blue'>Uni-Facef - Pyspark - Parte 1 </font>"
      ]
    },
    {
      "cell_type": "markdown",
      "metadata": {
        "id": "668ymsOGyePE"
      },
      "source": [
        "#### Instalando o pacote PySpark em nosso \"Cluster de uma Máquina Só rs\"\n",
        "\n",
        "Lembre-se que para utilização do pacote PySpark é necessário fazer a instalação do Apache Spark na máquina "
      ]
    },
    {
      "cell_type": "code",
      "metadata": {
        "id": "JQSIhSCCyePE",
        "outputId": "66a6335a-6e7f-4db2-8910-70962a9ff698",
        "colab": {
          "base_uri": "https://localhost:8080/",
          "height": 235
        }
      },
      "source": [
        "!pip install pyspark"
      ],
      "execution_count": 1,
      "outputs": [
        {
          "output_type": "stream",
          "text": [
            "Collecting pyspark\n",
            "\u001b[?25l  Downloading https://files.pythonhosted.org/packages/f0/26/198fc8c0b98580f617cb03cb298c6056587b8f0447e20fa40c5b634ced77/pyspark-3.0.1.tar.gz (204.2MB)\n",
            "\u001b[K     |████████████████████████████████| 204.2MB 65kB/s \n",
            "\u001b[?25hCollecting py4j==0.10.9\n",
            "\u001b[?25l  Downloading https://files.pythonhosted.org/packages/9e/b6/6a4fb90cd235dc8e265a6a2067f2a2c99f0d91787f06aca4bcf7c23f3f80/py4j-0.10.9-py2.py3-none-any.whl (198kB)\n",
            "\u001b[K     |████████████████████████████████| 204kB 43.5MB/s \n",
            "\u001b[?25hBuilding wheels for collected packages: pyspark\n",
            "  Building wheel for pyspark (setup.py) ... \u001b[?25l\u001b[?25hdone\n",
            "  Created wheel for pyspark: filename=pyspark-3.0.1-py2.py3-none-any.whl size=204612243 sha256=dd3349391aab319902c4a1dbd4c6beb756d6ccca47e71dd9f7608555bd4a3566\n",
            "  Stored in directory: /root/.cache/pip/wheels/5e/bd/07/031766ca628adec8435bb40f0bd83bb676ce65ff4007f8e73f\n",
            "Successfully built pyspark\n",
            "Installing collected packages: py4j, pyspark\n",
            "Successfully installed py4j-0.10.9 pyspark-3.0.1\n"
          ],
          "name": "stdout"
        }
      ]
    },
    {
      "cell_type": "code",
      "metadata": {
        "id": "AUEcSB7IyePK",
        "outputId": "590612b4-28dc-4c95-86da-a29f0383d3f1",
        "colab": {
          "base_uri": "https://localhost:8080/",
          "height": 67
        }
      },
      "source": [
        "!java -version"
      ],
      "execution_count": 2,
      "outputs": [
        {
          "output_type": "stream",
          "text": [
            "openjdk version \"11.0.8\" 2020-07-14\n",
            "OpenJDK Runtime Environment (build 11.0.8+10-post-Ubuntu-0ubuntu118.04.1)\n",
            "OpenJDK 64-Bit Server VM (build 11.0.8+10-post-Ubuntu-0ubuntu118.04.1, mixed mode, sharing)\n"
          ],
          "name": "stdout"
        }
      ]
    },
    {
      "cell_type": "markdown",
      "metadata": {
        "id": "hO69E20_yePN"
      },
      "source": [
        "#### Criação um sessão no Spark para no Aplicação"
      ]
    },
    {
      "cell_type": "code",
      "metadata": {
        "id": "5MsV9Ie6yePN"
      },
      "source": [
        "# coding: utf-8\n",
        "from pyspark.sql import SparkSession"
      ],
      "execution_count": 3,
      "outputs": []
    },
    {
      "cell_type": "code",
      "metadata": {
        "id": "osVwNqNnyePQ",
        "outputId": "8ed191da-9d72-41b0-de74-b531630fb920",
        "colab": {
          "base_uri": "https://localhost:8080/",
          "height": 34
        }
      },
      "source": [
        "spark = SparkSession.builder \\\n",
        "    .appName('ReceitasGov2020') \\\n",
        "    .getOrCreate()\n",
        "\n",
        "type(spark)"
      ],
      "execution_count": 4,
      "outputs": [
        {
          "output_type": "execute_result",
          "data": {
            "text/plain": [
              "pyspark.sql.session.SparkSession"
            ]
          },
          "metadata": {
            "tags": []
          },
          "execution_count": 4
        }
      ]
    },
    {
      "cell_type": "markdown",
      "metadata": {
        "id": "bKs5YG6hyePT"
      },
      "source": [
        "#### Copiando uma arquivo para o Google Colab Lab "
      ]
    },
    {
      "cell_type": "code",
      "metadata": {
        "id": "FR_L371iyePT",
        "outputId": "78def6f2-d3f9-4218-f4d9-14eb56fac0a4",
        "colab": {
          "resources": {
            "http://localhost:8080/nbextensions/google.colab/files.js": {
              "data": "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",
              "ok": true,
              "headers": [
                [
                  "content-type",
                  "application/javascript"
                ]
              ],
              "status": 200,
              "status_text": ""
            }
          },
          "base_uri": "https://localhost:8080/",
          "height": 73
        }
      },
      "source": [
        "from google.colab import files\n",
        "uploaded = files.upload()"
      ],
      "execution_count": 5,
      "outputs": [
        {
          "output_type": "display_data",
          "data": {
            "text/html": [
              "\n",
              "     <input type=\"file\" id=\"files-11994dc5-cf82-43a3-ad81-cfdd9d9f4c00\" name=\"files[]\" multiple disabled\n",
              "        style=\"border:none\" />\n",
              "     <output id=\"result-11994dc5-cf82-43a3-ad81-cfdd9d9f4c00\">\n",
              "      Upload widget is only available when the cell has been executed in the\n",
              "      current browser session. Please rerun this cell to enable.\n",
              "      </output>\n",
              "      <script src=\"/nbextensions/google.colab/files.js\"></script> "
            ],
            "text/plain": [
              "<IPython.core.display.HTML object>"
            ]
          },
          "metadata": {
            "tags": []
          }
        },
        {
          "output_type": "stream",
          "text": [
            "Saving Receitas2020.csv to Receitas2020.csv\n"
          ],
          "name": "stdout"
        }
      ]
    },
    {
      "cell_type": "markdown",
      "metadata": {
        "id": "0EFInhk3yePW"
      },
      "source": [
        "#### Criação de um dataframe"
      ]
    },
    {
      "cell_type": "markdown",
      "metadata": {
        "id": "wgDQ6UvhyePW"
      },
      "source": [
        "Um DataFrame é um conjunto de dados organizado em colunas nomeadas. É conceitualmente equivalente a uma tabela em um banco de dados relacional ou um quadro de dados em R / Python, mas com otimizações mais ricas sob o capô. Os DataFrames podem ser construídos a partir de uma ampla variedade de fontes "
      ]
    },
    {
      "cell_type": "code",
      "metadata": {
        "id": "EDzSI_UCyePX",
        "outputId": "e0c7d561-e22a-485e-c1c4-06b3ace45e43",
        "colab": {
          "base_uri": "https://localhost:8080/",
          "height": 34
        }
      },
      "source": [
        "df = spark.read \\\n",
        "    .option(\"delimiter\", \";\") \\\n",
        "    .csv('Receitas2020.csv', header=True)\n",
        "\n",
        "type(df)"
      ],
      "execution_count": 6,
      "outputs": [
        {
          "output_type": "execute_result",
          "data": {
            "text/plain": [
              "pyspark.sql.dataframe.DataFrame"
            ]
          },
          "metadata": {
            "tags": []
          },
          "execution_count": 6
        }
      ]
    },
    {
      "cell_type": "code",
      "metadata": {
        "id": "UUrV3gafyePa",
        "outputId": "4d28517f-ae74-42da-c343-d88837ec041a",
        "colab": {
          "base_uri": "https://localhost:8080/",
          "height": 1000
        }
      },
      "source": [
        "# Listando os métodos do objeto DataFrame\n",
        "dir(df)"
      ],
      "execution_count": 7,
      "outputs": [
        {
          "output_type": "execute_result",
          "data": {
            "text/plain": [
              "['__class__',\n",
              " '__delattr__',\n",
              " '__dict__',\n",
              " '__dir__',\n",
              " '__doc__',\n",
              " '__eq__',\n",
              " '__format__',\n",
              " '__ge__',\n",
              " '__getattr__',\n",
              " '__getattribute__',\n",
              " '__getitem__',\n",
              " '__gt__',\n",
              " '__hash__',\n",
              " '__init__',\n",
              " '__init_subclass__',\n",
              " '__le__',\n",
              " '__lt__',\n",
              " '__module__',\n",
              " '__ne__',\n",
              " '__new__',\n",
              " '__reduce__',\n",
              " '__reduce_ex__',\n",
              " '__repr__',\n",
              " '__setattr__',\n",
              " '__sizeof__',\n",
              " '__str__',\n",
              " '__subclasshook__',\n",
              " '__weakref__',\n",
              " '_collect_as_arrow',\n",
              " '_jcols',\n",
              " '_jdf',\n",
              " '_jmap',\n",
              " '_jseq',\n",
              " '_lazy_rdd',\n",
              " '_repr_html_',\n",
              " '_sc',\n",
              " '_schema',\n",
              " '_sort_cols',\n",
              " '_support_repr_html',\n",
              " '_to_corrected_pandas_type',\n",
              " 'agg',\n",
              " 'alias',\n",
              " 'approxQuantile',\n",
              " 'cache',\n",
              " 'checkpoint',\n",
              " 'coalesce',\n",
              " 'colRegex',\n",
              " 'collect',\n",
              " 'columns',\n",
              " 'corr',\n",
              " 'count',\n",
              " 'cov',\n",
              " 'createGlobalTempView',\n",
              " 'createOrReplaceGlobalTempView',\n",
              " 'createOrReplaceTempView',\n",
              " 'createTempView',\n",
              " 'crossJoin',\n",
              " 'crosstab',\n",
              " 'cube',\n",
              " 'describe',\n",
              " 'distinct',\n",
              " 'drop',\n",
              " 'dropDuplicates',\n",
              " 'drop_duplicates',\n",
              " 'dropna',\n",
              " 'dtypes',\n",
              " 'exceptAll',\n",
              " 'explain',\n",
              " 'fillna',\n",
              " 'filter',\n",
              " 'first',\n",
              " 'foreach',\n",
              " 'foreachPartition',\n",
              " 'freqItems',\n",
              " 'groupBy',\n",
              " 'groupby',\n",
              " 'head',\n",
              " 'hint',\n",
              " 'intersect',\n",
              " 'intersectAll',\n",
              " 'isLocal',\n",
              " 'isStreaming',\n",
              " 'is_cached',\n",
              " 'join',\n",
              " 'limit',\n",
              " 'localCheckpoint',\n",
              " 'mapInPandas',\n",
              " 'na',\n",
              " 'orderBy',\n",
              " 'persist',\n",
              " 'printSchema',\n",
              " 'randomSplit',\n",
              " 'rdd',\n",
              " 'registerTempTable',\n",
              " 'repartition',\n",
              " 'repartitionByRange',\n",
              " 'replace',\n",
              " 'rollup',\n",
              " 'sample',\n",
              " 'sampleBy',\n",
              " 'schema',\n",
              " 'select',\n",
              " 'selectExpr',\n",
              " 'show',\n",
              " 'sort',\n",
              " 'sortWithinPartitions',\n",
              " 'sql_ctx',\n",
              " 'stat',\n",
              " 'storageLevel',\n",
              " 'subtract',\n",
              " 'summary',\n",
              " 'tail',\n",
              " 'take',\n",
              " 'toDF',\n",
              " 'toJSON',\n",
              " 'toLocalIterator',\n",
              " 'toPandas',\n",
              " 'transform',\n",
              " 'union',\n",
              " 'unionAll',\n",
              " 'unionByName',\n",
              " 'unpersist',\n",
              " 'where',\n",
              " 'withColumn',\n",
              " 'withColumnRenamed',\n",
              " 'withWatermark',\n",
              " 'write',\n",
              " 'writeStream']"
            ]
          },
          "metadata": {
            "tags": []
          },
          "execution_count": 7
        }
      ]
    },
    {
      "cell_type": "code",
      "metadata": {
        "id": "e2xcJydgyePd",
        "outputId": "337abe20-8551-4676-c8b5-7d68e8c26178",
        "colab": {
          "base_uri": "https://localhost:8080/",
          "height": 34
        }
      },
      "source": [
        "# Conta a quantidade de registros do Dataframe\n",
        "df.count()"
      ],
      "execution_count": 8,
      "outputs": [
        {
          "output_type": "execute_result",
          "data": {
            "text/plain": [
              "10200"
            ]
          },
          "metadata": {
            "tags": []
          },
          "execution_count": 8
        }
      ]
    },
    {
      "cell_type": "code",
      "metadata": {
        "id": "9uwbiZC5yePg",
        "outputId": "8042708f-23c4-4052-cea9-37e18582c9c7",
        "colab": {
          "base_uri": "https://localhost:8080/",
          "height": 185
        }
      },
      "source": [
        "# Mostra a descrição do Método\n",
        "help(df.count)"
      ],
      "execution_count": 9,
      "outputs": [
        {
          "output_type": "stream",
          "text": [
            "Help on method count in module pyspark.sql.dataframe:\n",
            "\n",
            "count() method of pyspark.sql.dataframe.DataFrame instance\n",
            "    Returns the number of rows in this :class:`DataFrame`.\n",
            "    \n",
            "    >>> df.count()\n",
            "    2\n",
            "    \n",
            "    .. versionadded:: 1.3\n",
            "\n"
          ],
          "name": "stdout"
        }
      ]
    },
    {
      "cell_type": "code",
      "metadata": {
        "id": "iEpDgRS8yePi",
        "outputId": "da5e55c4-d66a-4e8a-bcbf-ece287609b7a",
        "colab": {
          "base_uri": "https://localhost:8080/",
          "height": 319
        }
      },
      "source": [
        "# Mostra a Schema Inferido para o Dataframa\n",
        "df.printSchema()"
      ],
      "execution_count": 10,
      "outputs": [
        {
          "output_type": "stream",
          "text": [
            "root\n",
            " |-- C�DIGO �RG�O SUPERIOR: string (nullable = true)\n",
            " |-- NOME �RG�O SUPERIOR: string (nullable = true)\n",
            " |-- C�DIGO �RG�O: string (nullable = true)\n",
            " |-- NOME �RG�O: string (nullable = true)\n",
            " |-- C�DIGO UNIDADE GESTORA: string (nullable = true)\n",
            " |-- NOME UNIDADE GESTORA: string (nullable = true)\n",
            " |-- CATEGORIA ECON�MICA: string (nullable = true)\n",
            " |-- ORIGEM RECEITA: string (nullable = true)\n",
            " |-- ESP�CIE RECEITA: string (nullable = true)\n",
            " |-- DETALHAMENTO: string (nullable = true)\n",
            " |-- VALOR PREVISTO ATUALIZADO: string (nullable = true)\n",
            " |-- VALOR LAN�ADO: string (nullable = true)\n",
            " |-- VALOR REALIZADO: string (nullable = true)\n",
            " |-- PERCENTUAL REALIZADO: string (nullable = true)\n",
            " |-- DATA LAN�AMENTO: string (nullable = true)\n",
            " |-- ANO EXERC�CIO: string (nullable = true)\n",
            "\n"
          ],
          "name": "stdout"
        }
      ]
    },
    {
      "cell_type": "code",
      "metadata": {
        "id": "ydsUW98JyePl",
        "outputId": "68b8c39c-9b90-47c5-ddc9-f041dd636767",
        "colab": {
          "base_uri": "https://localhost:8080/",
          "height": 222
        }
      },
      "source": [
        "# Mostra os primeiros registros do dataset (default 20)\n",
        "df.show(5)"
      ],
      "execution_count": 11,
      "outputs": [
        {
          "output_type": "stream",
          "text": [
            "+---------------------+--------------------+------------+--------------------+----------------------+--------------------+-------------------+--------------------+--------------------+--------------------+-------------------------+-------------+---------------+--------------------+---------------+-------------+\n",
            "|C�DIGO �RG�O SUPERIOR| NOME �RG�O SUPERIOR|C�DIGO �RG�O|          NOME �RG�O|C�DIGO UNIDADE GESTORA|NOME UNIDADE GESTORA|CATEGORIA ECON�MICA|      ORIGEM RECEITA|     ESP�CIE RECEITA|        DETALHAMENTO|VALOR PREVISTO ATUALIZADO|VALOR LAN�ADO|VALOR REALIZADO|PERCENTUAL REALIZADO|DATA LAN�AMENTO|ANO EXERC�CIO|\n",
            "+---------------------+--------------------+------------+--------------------+----------------------+--------------------+-------------------+--------------------+--------------------+--------------------+-------------------------+-------------+---------------+--------------------+---------------+-------------+\n",
            "|                63000|Advocacia-Geral d...|       63000|Advocacia-Geral d...|                110060|COORD. GERAL DE O...| Receitas Correntes|Outras Receitas C...|Indeniza��es, res...|RESTITUI��O DE CO...|                     0,00|         0,00|        4701,23|                0,00|     19/03/2020|         2020|\n",
            "|                63000|Advocacia-Geral d...|       63000|Advocacia-Geral d...|                110060|COORD. GERAL DE O...| Receitas Correntes|Outras Receitas C...|Indeniza��es, res...|RESTITUI��O DE CO...|                     0,00|         0,00|      -80366,64|                0,00|     01/06/2020|         2020|\n",
            "|                63000|Advocacia-Geral d...|       63000|Advocacia-Geral d...|                110060|COORD. GERAL DE O...| Receitas Correntes|Outras Receitas C...|Indeniza��es, res...|RESTITUI��O DE CO...|                     0,00|         0,00|         616,57|                0,00|     22/04/2020|         2020|\n",
            "|                63000|Advocacia-Geral d...|       63000|Advocacia-Geral d...|                110060|COORD. GERAL DE O...| Receitas Correntes|Outras Receitas C...|Indeniza��es, res...|RESTITUI��O DE CO...|                     0,00|         0,00|           0,00|                0,00|     10/06/2020|         2020|\n",
            "|                63000|Advocacia-Geral d...|       63000|Advocacia-Geral d...|                110060|COORD. GERAL DE O...| Receitas Correntes|Outras Receitas C...|Indeniza��es, res...|RESTITUI��O DE CO...|                     0,00|         0,00|        5516,90|                0,00|     28/04/2020|         2020|\n",
            "+---------------------+--------------------+------------+--------------------+----------------------+--------------------+-------------------+--------------------+--------------------+--------------------+-------------------------+-------------+---------------+--------------------+---------------+-------------+\n",
            "only showing top 5 rows\n",
            "\n"
          ],
          "name": "stdout"
        }
      ]
    },
    {
      "cell_type": "code",
      "metadata": {
        "id": "BxjEXO_AyePn",
        "outputId": "ccfef75d-a15f-4f3a-e5a6-a6b618f2a1bf",
        "colab": {
          "base_uri": "https://localhost:8080/",
          "height": 319
        }
      },
      "source": [
        "# Lista para os novos nomes\n",
        "novos_nomes = [\n",
        "    \"cod_orgao_superior\", \"nome_orgao_superior\", \"cod_orgao\",\n",
        "    \"nome_orgao\", \"cod_unidade_gestora\", \"nome_unidade_gestora\",\n",
        "    \"categoria_economica\", \"origem_receita\", \"especie_receita\",\n",
        "    \"detalhamento\", \"vr_previsto_atualiz\", \"vr_lancado\",\n",
        "    \"vr_realizado\", \"percent_realizado\", \"data_lancamento\",\n",
        "    \"ano_exercicio\"\n",
        "]\n",
        "\n",
        "for i, coluna in enumerate(df.columns):\n",
        "    print(i, coluna)\n",
        "    \n",
        "print(\"\\n1 \" + novos_nomes[1])"
      ],
      "execution_count": 12,
      "outputs": [
        {
          "output_type": "stream",
          "text": [
            "0 C�DIGO �RG�O SUPERIOR\n",
            "1 NOME �RG�O SUPERIOR\n",
            "2 C�DIGO �RG�O\n",
            "3 NOME �RG�O\n",
            "4 C�DIGO UNIDADE GESTORA\n",
            "5 NOME UNIDADE GESTORA\n",
            "6 CATEGORIA ECON�MICA\n",
            "7 ORIGEM RECEITA\n",
            "8 ESP�CIE RECEITA\n",
            "9 DETALHAMENTO\n",
            "10 VALOR PREVISTO ATUALIZADO\n",
            "11 VALOR LAN�ADO\n",
            "12 VALOR REALIZADO\n",
            "13 PERCENTUAL REALIZADO\n",
            "14 DATA LAN�AMENTO\n",
            "15 ANO EXERC�CIO\n",
            "\n",
            "1 nome_orgao_superior\n"
          ],
          "name": "stdout"
        }
      ]
    },
    {
      "cell_type": "markdown",
      "metadata": {
        "id": "-ah3aEo3yePp"
      },
      "source": [
        "#### Aplicando alteração no nome dos campos através de funções do módulo \"pyspark.sql.functions\"\n",
        "\n",
        "- col() - Para selecionar a coluna que vamos utilizar\n",
        "- alias() - Para modificar o nome do campo\n",
        "\n",
        "Obs: A função .upper() e enumerate() são funções do Python "
      ]
    },
    {
      "cell_type": "code",
      "metadata": {
        "id": "j0bdPCW9yePq",
        "outputId": "520650a9-caf8-4e70-cc30-bde74c4e84dc",
        "colab": {
          "base_uri": "https://localhost:8080/",
          "height": 319
        }
      },
      "source": [
        "import pyspark.sql.functions as sf\n",
        "\n",
        "df = df.select(\n",
        "    [sf.col(coluna).alias(novos_nomes[i].upper()) for i, coluna in enumerate(df.columns)]\n",
        ")\n",
        "df.printSchema()"
      ],
      "execution_count": 13,
      "outputs": [
        {
          "output_type": "stream",
          "text": [
            "root\n",
            " |-- COD_ORGAO_SUPERIOR: string (nullable = true)\n",
            " |-- NOME_ORGAO_SUPERIOR: string (nullable = true)\n",
            " |-- COD_ORGAO: string (nullable = true)\n",
            " |-- NOME_ORGAO: string (nullable = true)\n",
            " |-- COD_UNIDADE_GESTORA: string (nullable = true)\n",
            " |-- NOME_UNIDADE_GESTORA: string (nullable = true)\n",
            " |-- CATEGORIA_ECONOMICA: string (nullable = true)\n",
            " |-- ORIGEM_RECEITA: string (nullable = true)\n",
            " |-- ESPECIE_RECEITA: string (nullable = true)\n",
            " |-- DETALHAMENTO: string (nullable = true)\n",
            " |-- VR_PREVISTO_ATUALIZ: string (nullable = true)\n",
            " |-- VR_LANCADO: string (nullable = true)\n",
            " |-- VR_REALIZADO: string (nullable = true)\n",
            " |-- PERCENT_REALIZADO: string (nullable = true)\n",
            " |-- DATA_LANCAMENTO: string (nullable = true)\n",
            " |-- ANO_EXERCICIO: string (nullable = true)\n",
            "\n"
          ],
          "name": "stdout"
        }
      ]
    },
    {
      "cell_type": "markdown",
      "metadata": {
        "id": "1RpKTpkqyePt"
      },
      "source": [
        "#### Criando schema com o módulo \"pyspark.sql.types\"\n",
        "\n",
        "É possível definir nome e tipo das colunas do Dataframe, se é opcional ou não, no momento da leitura."
      ]
    },
    {
      "cell_type": "code",
      "metadata": {
        "id": "sQuC9jTOyePt"
      },
      "source": [
        "import pyspark.sql.types as st\n",
        "\n",
        "SCHEMA = st.StructType([\n",
        "    st.StructField(\"cod_orgao_superior\", st.LongType(), True),\n",
        "    st.StructField(\"nome_orgao_superior\", st.StringType(), True),\n",
        "    st.StructField(\"cod_orgao\", st.LongType(), True),\n",
        "    st.StructField(\"nome_orgao\", st.StringType(), True),\n",
        "    st.StructField(\"cod_unidade_gestora\", st.LongType(), True),\n",
        "    st.StructField(\"nome_unidade_gestora\", st.StringType(), True),\n",
        "    st.StructField(\"categoria_economica\", st.StringType(), True),\n",
        "    st.StructField(\"origem_receita\", st.StringType(), True),\n",
        "    st.StructField(\"especie_receita\", st.StringType(), True),\n",
        "    st.StructField(\"detalhamento\", st.StringType(), True),\n",
        "    st.StructField(\"vr_previsto_atualiz\", st.DecimalType(10, 2), True),\n",
        "    st.StructField(\"vr_lancado\", st.DecimalType(10, 2), True),\n",
        "    st.StructField(\"vr_realizado\", st.DecimalType(10, 2), True),\n",
        "    st.StructField(\"percent_realizado\", st.DecimalType(10, 2), True),\n",
        "    st.StructField(\"data_lancamento\", st.StringType(), True),\n",
        "    st.StructField(\"ano_exercicio\", st.IntegerType(), True),\n",
        "    ])"
      ],
      "execution_count": 14,
      "outputs": []
    },
    {
      "cell_type": "markdown",
      "metadata": {
        "id": "qJu4Mx3dyePw"
      },
      "source": [
        "#### Nova leitura do Dataset resolvendo problema do Schema e Coding"
      ]
    },
    {
      "cell_type": "code",
      "metadata": {
        "id": "w0h6Ob2ByePw",
        "outputId": "4b1accc2-099a-41bb-a525-fafb178b2ac6",
        "colab": {
          "base_uri": "https://localhost:8080/",
          "height": 222
        }
      },
      "source": [
        "df = spark.read \\\n",
        "    .option(\"delimiter\", \";\") \\\n",
        "    .option(\"encoding\", \"ISO-8859-1\") \\\n",
        "    .csv('Receitas2020.csv', header=True, schema=SCHEMA)\n",
        "\n",
        "# O parâmetro truncate define se mostra tudo conteudo do campo ou não\n",
        "df.show(5, truncate=True)"
      ],
      "execution_count": 15,
      "outputs": [
        {
          "output_type": "stream",
          "text": [
            "+------------------+--------------------+---------+--------------------+-------------------+--------------------+-------------------+--------------------+--------------------+--------------------+-------------------+----------+------------+-----------------+---------------+-------------+\n",
            "|cod_orgao_superior| nome_orgao_superior|cod_orgao|          nome_orgao|cod_unidade_gestora|nome_unidade_gestora|categoria_economica|      origem_receita|     especie_receita|        detalhamento|vr_previsto_atualiz|vr_lancado|vr_realizado|percent_realizado|data_lancamento|ano_exercicio|\n",
            "+------------------+--------------------+---------+--------------------+-------------------+--------------------+-------------------+--------------------+--------------------+--------------------+-------------------+----------+------------+-----------------+---------------+-------------+\n",
            "|             63000|Advocacia-Geral d...|    63000|Advocacia-Geral d...|             110060|COORD. GERAL DE O...| Receitas Correntes|Outras Receitas C...|Indenizações, res...|RESTITUIÇÃO DE CO...|               0.00|      0.00|   470123.00|             0.00|     19/03/2020|         2020|\n",
            "|             63000|Advocacia-Geral d...|    63000|Advocacia-Geral d...|             110060|COORD. GERAL DE O...| Receitas Correntes|Outras Receitas C...|Indenizações, res...|RESTITUIÇÃO DE CO...|               0.00|      0.00| -8036664.00|             0.00|     01/06/2020|         2020|\n",
            "|             63000|Advocacia-Geral d...|    63000|Advocacia-Geral d...|             110060|COORD. GERAL DE O...| Receitas Correntes|Outras Receitas C...|Indenizações, res...|RESTITUIÇÃO DE CO...|               0.00|      0.00|    61657.00|             0.00|     22/04/2020|         2020|\n",
            "|             63000|Advocacia-Geral d...|    63000|Advocacia-Geral d...|             110060|COORD. GERAL DE O...| Receitas Correntes|Outras Receitas C...|Indenizações, res...|RESTITUIÇÃO DE CO...|               0.00|      0.00|        0.00|             0.00|     10/06/2020|         2020|\n",
            "|             63000|Advocacia-Geral d...|    63000|Advocacia-Geral d...|             110060|COORD. GERAL DE O...| Receitas Correntes|Outras Receitas C...|Indenizações, res...|RESTITUIÇÃO DE CO...|               0.00|      0.00|   551690.00|             0.00|     28/04/2020|         2020|\n",
            "+------------------+--------------------+---------+--------------------+-------------------+--------------------+-------------------+--------------------+--------------------+--------------------+-------------------+----------+------------+-----------------+---------------+-------------+\n",
            "only showing top 5 rows\n",
            "\n"
          ],
          "name": "stdout"
        }
      ]
    },
    {
      "cell_type": "code",
      "metadata": {
        "id": "vwsOMBZNyePz",
        "outputId": "8d92cb95-ad83-4ac8-f343-fa774dd9d81d",
        "colab": {
          "base_uri": "https://localhost:8080/",
          "height": 319
        }
      },
      "source": [
        "df.printSchema()"
      ],
      "execution_count": 16,
      "outputs": [
        {
          "output_type": "stream",
          "text": [
            "root\n",
            " |-- cod_orgao_superior: long (nullable = true)\n",
            " |-- nome_orgao_superior: string (nullable = true)\n",
            " |-- cod_orgao: long (nullable = true)\n",
            " |-- nome_orgao: string (nullable = true)\n",
            " |-- cod_unidade_gestora: long (nullable = true)\n",
            " |-- nome_unidade_gestora: string (nullable = true)\n",
            " |-- categoria_economica: string (nullable = true)\n",
            " |-- origem_receita: string (nullable = true)\n",
            " |-- especie_receita: string (nullable = true)\n",
            " |-- detalhamento: string (nullable = true)\n",
            " |-- vr_previsto_atualiz: decimal(10,2) (nullable = true)\n",
            " |-- vr_lancado: decimal(10,2) (nullable = true)\n",
            " |-- vr_realizado: decimal(10,2) (nullable = true)\n",
            " |-- percent_realizado: decimal(10,2) (nullable = true)\n",
            " |-- data_lancamento: string (nullable = true)\n",
            " |-- ano_exercicio: integer (nullable = true)\n",
            "\n"
          ],
          "name": "stdout"
        }
      ]
    },
    {
      "cell_type": "markdown",
      "metadata": {
        "id": "77E_u57QyeP1"
      },
      "source": [
        "#### Transformando valores através do modulo \"pyspark.sql.functions\"\n",
        "\n",
        "- to_timestamp(): Converte o valor string em timestamp, passando o formato atual da string\n",
        "- cast(): Converte o valor para o type desejado conforme \"pyspark.sql.types\""
      ]
    },
    {
      "cell_type": "code",
      "metadata": {
        "id": "ZuVZKtBsyeP2",
        "outputId": "879ed008-0ab0-4dfc-cc17-9ab4b9bc7d31",
        "colab": {
          "base_uri": "https://localhost:8080/",
          "height": 454
        }
      },
      "source": [
        "import pyspark.sql.functions as sf\n",
        "import pyspark.sql.types as st\n",
        "\n",
        "df = df \\\n",
        "    .withColumn(\"data_lancamento\", sf.to_timestamp(sf.col(\"data_lancamento\"),\"dd/MM/yyyy\")) \\\n",
        "    .withColumn(\"data_lancamento\", sf.col(\"data_lancamento\").cast(st.DateType())) \\\n",
        "    #.withColumn(\"data_lancamento\", sf.col(\"data_lancamento\").cast(\"date\")) \\\n",
        "\n",
        "df.select(\"data_lancamento\").show()"
      ],
      "execution_count": 17,
      "outputs": [
        {
          "output_type": "stream",
          "text": [
            "+---------------+\n",
            "|data_lancamento|\n",
            "+---------------+\n",
            "|     2020-03-19|\n",
            "|     2020-06-01|\n",
            "|     2020-04-22|\n",
            "|     2020-06-10|\n",
            "|     2020-04-28|\n",
            "|     2020-05-14|\n",
            "|     2020-01-20|\n",
            "|     2020-05-28|\n",
            "|     2020-04-15|\n",
            "|     2020-05-15|\n",
            "|     2020-05-26|\n",
            "|     2020-05-04|\n",
            "|     2020-03-31|\n",
            "|     2020-05-06|\n",
            "|     2020-04-20|\n",
            "|     2020-03-30|\n",
            "|     2020-04-29|\n",
            "|     2020-05-27|\n",
            "|     2020-04-27|\n",
            "|     2020-02-28|\n",
            "+---------------+\n",
            "only showing top 20 rows\n",
            "\n"
          ],
          "name": "stdout"
        }
      ]
    },
    {
      "cell_type": "code",
      "metadata": {
        "id": "k-cMbwHryeP5",
        "outputId": "fb579a3f-44e9-4783-c362-1a4c232a50bd",
        "colab": {
          "base_uri": "https://localhost:8080/",
          "height": 319
        }
      },
      "source": [
        "df.printSchema()"
      ],
      "execution_count": 18,
      "outputs": [
        {
          "output_type": "stream",
          "text": [
            "root\n",
            " |-- cod_orgao_superior: long (nullable = true)\n",
            " |-- nome_orgao_superior: string (nullable = true)\n",
            " |-- cod_orgao: long (nullable = true)\n",
            " |-- nome_orgao: string (nullable = true)\n",
            " |-- cod_unidade_gestora: long (nullable = true)\n",
            " |-- nome_unidade_gestora: string (nullable = true)\n",
            " |-- categoria_economica: string (nullable = true)\n",
            " |-- origem_receita: string (nullable = true)\n",
            " |-- especie_receita: string (nullable = true)\n",
            " |-- detalhamento: string (nullable = true)\n",
            " |-- vr_previsto_atualiz: decimal(10,2) (nullable = true)\n",
            " |-- vr_lancado: decimal(10,2) (nullable = true)\n",
            " |-- vr_realizado: decimal(10,2) (nullable = true)\n",
            " |-- percent_realizado: decimal(10,2) (nullable = true)\n",
            " |-- data_lancamento: date (nullable = true)\n",
            " |-- ano_exercicio: integer (nullable = true)\n",
            "\n"
          ],
          "name": "stdout"
        }
      ]
    },
    {
      "cell_type": "code",
      "metadata": {
        "id": "IXA8IGHDyeP9",
        "outputId": "0b6d7d38-b6f1-47f3-b181-5156b8e2bf07",
        "colab": {
          "base_uri": "https://localhost:8080/",
          "height": 454
        }
      },
      "source": [
        "# Mostrando o conteúdo do campo - Valores acentuados\n",
        "df.select(\"detalhamento\").show(truncate=False)"
      ],
      "execution_count": 19,
      "outputs": [
        {
          "output_type": "stream",
          "text": [
            "+--------------------------------------------+\n",
            "|detalhamento                                |\n",
            "+--------------------------------------------+\n",
            "|RESTITUIÇÃO DE CONVÊNIOS-PRIMÁRIAS-DÍV.ATIVA|\n",
            "|RESTITUIÇÃO DE CONVÊNIOS-PRIMÁRIAS-DÍV.ATIVA|\n",
            "|RESTITUIÇÃO DE CONVÊNIOS-PRIMÁRIAS-DÍV.ATIVA|\n",
            "|RESTITUIÇÃO DE CONVÊNIOS-PRIMÁRIAS-DÍV.ATIVA|\n",
            "|RESTITUIÇÃO DE CONVÊNIOS-PRIMÁRIAS-DÍV.ATIVA|\n",
            "|RESTITUIÇÃO DE CONVÊNIOS-PRIMÁRIAS-DÍV.ATIVA|\n",
            "|TITULOS DE RESPONS.TES.NAC.-MERC.INT.-PRINC.|\n",
            "|RESTITUIÇÃO DE CONVÊNIOS-PRIMÁRIAS-DÍV.ATIVA|\n",
            "|RESTITUIÇÃO DE CONVÊNIOS-PRIMÁRIAS-DÍV.ATIVA|\n",
            "|RESTITUIÇÃO DE CONVÊNIOS-PRIMÁRIAS-DÍV.ATIVA|\n",
            "|RESTITUIÇÃO DE CONVÊNIOS-PRIMÁRIAS-DÍV.ATIVA|\n",
            "|RESTITUIÇÃO DE CONVÊNIOS-PRIMÁRIAS-DÍV.ATIVA|\n",
            "|RESTITUIÇÃO DE CONVÊNIOS-PRIMÁRIAS-DÍV.ATIVA|\n",
            "|RESTITUIÇÃO DE CONVÊNIOS-PRIMÁRIAS-DÍV.ATIVA|\n",
            "|RESTITUIÇÃO DE CONVÊNIOS-PRIMÁRIAS-DÍV.ATIVA|\n",
            "|RESTITUIÇÃO DE CONVÊNIOS-PRIMÁRIAS-DÍV.ATIVA|\n",
            "|RESTITUIÇÃO DE CONVÊNIOS-PRIMÁRIAS-DÍV.ATIVA|\n",
            "|RESTITUIÇÃO DE CONVÊNIOS-PRIMÁRIAS-DÍV.ATIVA|\n",
            "|RESTITUIÇÃO DE CONVÊNIOS-PRIMÁRIAS-DÍV.ATIVA|\n",
            "|RESTITUIÇÃO DE CONVÊNIOS-PRIMÁRIAS-DÍV.ATIVA|\n",
            "+--------------------------------------------+\n",
            "only showing top 20 rows\n",
            "\n"
          ],
          "name": "stdout"
        }
      ]
    },
    {
      "cell_type": "markdown",
      "metadata": {
        "id": "cx72yTFuyeQA"
      },
      "source": [
        "#### Criando uma UDF (User-defined function)\n",
        "\n",
        "Criando uma função simples em Python é possível registrá-la como um UDFs e trabalhar da mesma forma como um função do pacote \"pyspark.sql.functions\" "
      ]
    },
    {
      "cell_type": "code",
      "metadata": {
        "id": "I90p2X_KyeQA"
      },
      "source": [
        "from unicodedata import normalize, category\n",
        "\n",
        "def remove_acento(texto):\n",
        "    \"\"\"\n",
        "    Remove acentos de um string:\n",
        "    Essa função utiliza os métodos \"normalize\" e \"category\" do módulo \"unicodedata\"\n",
        "    Também utiliza \"list comprehension\" para iterar nos caracteres da string\n",
        "    \"\"\"\n",
        "    if not texto:\n",
        "        return None\n",
        "    \n",
        "    return ''.join((c for c in normalize('NFD', texto) if category(c) != 'Mn'))\n",
        "\n",
        "# Registra a UDF\n",
        "remove_acento_udf = sf.udf(remove_acento)"
      ],
      "execution_count": 20,
      "outputs": []
    },
    {
      "cell_type": "markdown",
      "metadata": {
        "id": "rjimmx2ZyeQD"
      },
      "source": [
        "#### Realizando transformações nos campos desejados, usando a UDF \"remove_acento_udf\""
      ]
    },
    {
      "cell_type": "code",
      "metadata": {
        "id": "3XEGTZObyeQD",
        "outputId": "daeefd63-f7eb-4b6b-fcc6-313811a068ef",
        "colab": {
          "base_uri": "https://localhost:8080/",
          "height": 454
        }
      },
      "source": [
        "df = df \\\n",
        "    .withColumn(\"nome_orgao_superior\", remove_acento_udf(\"nome_orgao_superior\")) \\\n",
        "    .withColumn(\"nome_orgao\", remove_acento_udf(\"nome_orgao\")) \\\n",
        "    .withColumn(\"nome_unidade_gestora\", remove_acento_udf(\"nome_unidade_gestora\")) \\\n",
        "    .withColumn(\"categoria_economica\", remove_acento_udf(\"categoria_economica\")) \\\n",
        "    .withColumn(\"origem_receita\", remove_acento_udf(\"origem_receita\")) \\\n",
        "    .withColumn(\"especie_receita\", remove_acento_udf(\"especie_receita\")) \\\n",
        "    .withColumn(\"detalhamento\", remove_acento_udf(\"detalhamento\"))\n",
        "\n",
        "df.select(\"detalhamento\").show(truncate=False)"
      ],
      "execution_count": 21,
      "outputs": [
        {
          "output_type": "stream",
          "text": [
            "+--------------------------------------------+\n",
            "|detalhamento                                |\n",
            "+--------------------------------------------+\n",
            "|RESTITUICAO DE CONVENIOS-PRIMARIAS-DIV.ATIVA|\n",
            "|RESTITUICAO DE CONVENIOS-PRIMARIAS-DIV.ATIVA|\n",
            "|RESTITUICAO DE CONVENIOS-PRIMARIAS-DIV.ATIVA|\n",
            "|RESTITUICAO DE CONVENIOS-PRIMARIAS-DIV.ATIVA|\n",
            "|RESTITUICAO DE CONVENIOS-PRIMARIAS-DIV.ATIVA|\n",
            "|RESTITUICAO DE CONVENIOS-PRIMARIAS-DIV.ATIVA|\n",
            "|TITULOS DE RESPONS.TES.NAC.-MERC.INT.-PRINC.|\n",
            "|RESTITUICAO DE CONVENIOS-PRIMARIAS-DIV.ATIVA|\n",
            "|RESTITUICAO DE CONVENIOS-PRIMARIAS-DIV.ATIVA|\n",
            "|RESTITUICAO DE CONVENIOS-PRIMARIAS-DIV.ATIVA|\n",
            "|RESTITUICAO DE CONVENIOS-PRIMARIAS-DIV.ATIVA|\n",
            "|RESTITUICAO DE CONVENIOS-PRIMARIAS-DIV.ATIVA|\n",
            "|RESTITUICAO DE CONVENIOS-PRIMARIAS-DIV.ATIVA|\n",
            "|RESTITUICAO DE CONVENIOS-PRIMARIAS-DIV.ATIVA|\n",
            "|RESTITUICAO DE CONVENIOS-PRIMARIAS-DIV.ATIVA|\n",
            "|RESTITUICAO DE CONVENIOS-PRIMARIAS-DIV.ATIVA|\n",
            "|RESTITUICAO DE CONVENIOS-PRIMARIAS-DIV.ATIVA|\n",
            "|RESTITUICAO DE CONVENIOS-PRIMARIAS-DIV.ATIVA|\n",
            "|RESTITUICAO DE CONVENIOS-PRIMARIAS-DIV.ATIVA|\n",
            "|RESTITUICAO DE CONVENIOS-PRIMARIAS-DIV.ATIVA|\n",
            "+--------------------------------------------+\n",
            "only showing top 20 rows\n",
            "\n"
          ],
          "name": "stdout"
        }
      ]
    },
    {
      "cell_type": "code",
      "metadata": {
        "id": "s451kIOsyeQF"
      },
      "source": [
        "# Escreve em formato parquet\n",
        "df.repartition(2).write.parquet(\n",
        "    \"Receitas2020\", \n",
        "    mode=\"overwrite\")"
      ],
      "execution_count": 22,
      "outputs": []
    },
    {
      "cell_type": "code",
      "metadata": {
        "id": "kRZkuEc3yeQH",
        "outputId": "35161e0d-af68-40e0-cbff-c018cd3b2007",
        "colab": {
          "base_uri": "https://localhost:8080/",
          "height": 34
        }
      },
      "source": [
        "!pwd"
      ],
      "execution_count": 23,
      "outputs": [
        {
          "output_type": "stream",
          "text": [
            "/content\n"
          ],
          "name": "stdout"
        }
      ]
    },
    {
      "cell_type": "code",
      "metadata": {
        "id": "yc6jFEQ7yeQK",
        "outputId": "a77b8746-0d33-4b4b-a189-e64442617e17",
        "colab": {
          "base_uri": "https://localhost:8080/",
          "height": 84
        }
      },
      "source": [
        "!ls -l /content/Receitas2020"
      ],
      "execution_count": 24,
      "outputs": [
        {
          "output_type": "stream",
          "text": [
            "total 148\n",
            "-rw-r--r-- 1 root root 73318 Oct 17 14:55 part-00000-64ad421c-c26c-47ce-9f64-98596c27e07a-c000.snappy.parquet\n",
            "-rw-r--r-- 1 root root 74060 Oct 17 14:55 part-00001-64ad421c-c26c-47ce-9f64-98596c27e07a-c000.snappy.parquet\n",
            "-rw-r--r-- 1 root root     0 Oct 17 14:55 _SUCCESS\n"
          ],
          "name": "stdout"
        }
      ]
    },
    {
      "cell_type": "markdown",
      "metadata": {
        "id": "DBlf_ZwKyeQM"
      },
      "source": [
        "### FIM\n",
        "###### Documentação: https://spark.apache.org/docs/latest/api/python/pyspark.sql.html"
      ]
    }
  ]
}