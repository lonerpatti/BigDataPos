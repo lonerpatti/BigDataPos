{
  "nbformat": 4,
  "nbformat_minor": 0,
  "metadata": {
    "anaconda-cloud": {},
    "kernelspec": {
      "display_name": "Python 3",
      "language": "python",
      "name": "python3"
    },
    "language_info": {
      "codemirror_mode": {
        "name": "ipython",
        "version": 3
      },
      "file_extension": ".py",
      "mimetype": "text/x-python",
      "name": "python",
      "nbconvert_exporter": "python",
      "pygments_lexer": "ipython3",
      "version": "3.7.3"
    },
    "colab": {
      "name": "Uni-Facef - DS - Gradient Boosting model.ipynb",
      "provenance": [],
      "include_colab_link": true
    }
  },
  "cells": [
    {
      "cell_type": "markdown",
      "metadata": {
        "id": "view-in-github",
        "colab_type": "text"
      },
      "source": [
        "<a href=\"https://colab.research.google.com/github/lonerpatti/BigDataPos/blob/main/Uni_Facef_DS_Gradient_Boosting_model.ipynb\" target=\"_parent\"><img src=\"https://colab.research.google.com/assets/colab-badge.svg\" alt=\"Open In Colab\"/></a>"
      ]
    },
    {
      "cell_type": "markdown",
      "metadata": {
        "id": "CiOebI4Jp6VR"
      },
      "source": [
        "# <font color='blue'>Uni-Facef - Data Science - Parte 1 </font>"
      ]
    },
    {
      "cell_type": "markdown",
      "metadata": {
        "id": "M3jlGzIKp6VS"
      },
      "source": [
        "    Neste notebook vamos criar um modelo de classificação usando o algorítmo Gradient Boosting. Vamos fazer o treinamento do modelo, medir sua acurácia (nível de acerto) e fazer a persistência (serialização do objeto em arquivo)\n",
        "\n",
        "    Vamos utilizar a biblioteca Pandas e Scikit Learn."
      ]
    },
    {
      "cell_type": "markdown",
      "metadata": {
        "id": "wWt8fhk-p6VT"
      },
      "source": [
        "### GRADIENT BOOSTING\n",
        "\n",
        "    Trata-se de um Método Ensemble, onde ocorre a predição de múltiplos algoritmos base de árvore de regressão em um único classificador. Esse algoritmo implementa as seguintes técnicas:\n",
        "\n",
        "\n",
        "#### Boosting\n",
        "\t\n",
        "    Realiza a classificação a partir de um sistema de peso, constituído a partir do resultado de classificação de cada algoritmo base.\n",
        "\n",
        "#### Gradient Descent\n",
        "\t\n",
        "    Otimização iterativa para encontrar o mínimo de uma função de custo, a Cost function.\n"
      ]
    },
    {
      "cell_type": "markdown",
      "metadata": {
        "id": "NsEiYHR7p6VT"
      },
      "source": [
        "## Lendo o dataset em Dataframe Pandas "
      ]
    },
    {
      "cell_type": "code",
      "metadata": {
        "id": "0pu6_0dJqg9P",
        "outputId": "3ecd4d13-b95a-40fd-f130-0e89f4ddbaeb",
        "colab": {
          "resources": {
            "http://localhost:8080/nbextensions/google.colab/files.js": {
              "data": "Ly8gQ29weXJpZ2h0IDIwMTcgR29vZ2xlIExMQwovLwovLyBMaWNlbnNlZCB1bmRlciB0aGUgQXBhY2hlIExpY2Vuc2UsIFZlcnNpb24gMi4wICh0aGUgIkxpY2Vuc2UiKTsKLy8geW91IG1heSBub3QgdXNlIHRoaXMgZmlsZSBleGNlcHQgaW4gY29tcGxpYW5jZSB3aXRoIHRoZSBMaWNlbnNlLgovLyBZb3UgbWF5IG9idGFpbiBhIGNvcHkgb2YgdGhlIExpY2Vuc2UgYXQKLy8KLy8gICAgICBodHRwOi8vd3d3LmFwYWNoZS5vcmcvbGljZW5zZXMvTElDRU5TRS0yLjAKLy8KLy8gVW5sZXNzIHJlcXVpcmVkIGJ5IGFwcGxpY2FibGUgbGF3IG9yIGFncmVlZCB0byBpbiB3cml0aW5nLCBzb2Z0d2FyZQovLyBkaXN0cmlidXRlZCB1bmRlciB0aGUgTGljZW5zZSBpcyBkaXN0cmlidXRlZCBvbiBhbiAiQVMgSVMiIEJBU0lTLAovLyBXSVRIT1VUIFdBUlJBTlRJRVMgT1IgQ09ORElUSU9OUyBPRiBBTlkgS0lORCwgZWl0aGVyIGV4cHJlc3Mgb3IgaW1wbGllZC4KLy8gU2VlIHRoZSBMaWNlbnNlIGZvciB0aGUgc3BlY2lmaWMgbGFuZ3VhZ2UgZ292ZXJuaW5nIHBlcm1pc3Npb25zIGFuZAovLyBsaW1pdGF0aW9ucyB1bmRlciB0aGUgTGljZW5zZS4KCi8qKgogKiBAZmlsZW92ZXJ2aWV3IEhlbHBlcnMgZm9yIGdvb2dsZS5jb2xhYiBQeXRob24gbW9kdWxlLgogKi8KKGZ1bmN0aW9uKHNjb3BlKSB7CmZ1bmN0aW9uIHNwYW4odGV4dCwgc3R5bGVBdHRyaWJ1dGVzID0ge30pIHsKICBjb25zdCBlbGVtZW50ID0gZG9jdW1lbnQuY3JlYXRlRWxlbWVudCgnc3BhbicpOwogIGVsZW1lbnQudGV4dENvbnRlbnQgPSB0ZXh0OwogIGZvciAoY29uc3Qga2V5IG9mIE9iamVjdC5rZXlzKHN0eWxlQXR0cmlidXRlcykpIHsKICAgIGVsZW1lbnQuc3R5bGVba2V5XSA9IHN0eWxlQXR0cmlidXRlc1trZXldOwogIH0KICByZXR1cm4gZWxlbWVudDsKfQoKLy8gTWF4IG51bWJlciBvZiBieXRlcyB3aGljaCB3aWxsIGJlIHVwbG9hZGVkIGF0IGEgdGltZS4KY29uc3QgTUFYX1BBWUxPQURfU0laRSA9IDEwMCAqIDEwMjQ7CgpmdW5jdGlvbiBfdXBsb2FkRmlsZXMoaW5wdXRJZCwgb3V0cHV0SWQpIHsKICBjb25zdCBzdGVwcyA9IHVwbG9hZEZpbGVzU3RlcChpbnB1dElkLCBvdXRwdXRJZCk7CiAgY29uc3Qgb3V0cHV0RWxlbWVudCA9IGRvY3VtZW50LmdldEVsZW1lbnRCeUlkKG91dHB1dElkKTsKICAvLyBDYWNoZSBzdGVwcyBvbiB0aGUgb3V0cHV0RWxlbWVudCB0byBtYWtlIGl0IGF2YWlsYWJsZSBmb3IgdGhlIG5leHQgY2FsbAogIC8vIHRvIHVwbG9hZEZpbGVzQ29udGludWUgZnJvbSBQeXRob24uCiAgb3V0cHV0RWxlbWVudC5zdGVwcyA9IHN0ZXBzOwoKICByZXR1cm4gX3VwbG9hZEZpbGVzQ29udGludWUob3V0cHV0SWQpOwp9CgovLyBUaGlzIGlzIHJvdWdobHkgYW4gYXN5bmMgZ2VuZXJhdG9yIChub3Qgc3VwcG9ydGVkIGluIHRoZSBicm93c2VyIHlldCksCi8vIHdoZXJlIHRoZXJlIGFyZSBtdWx0aXBsZSBhc3luY2hyb25vdXMgc3RlcHMgYW5kIHRoZSBQeXRob24gc2lkZSBpcyBnb2luZwovLyB0byBwb2xsIGZvciBjb21wbGV0aW9uIG9mIGVhY2ggc3RlcC4KLy8gVGhpcyB1c2VzIGEgUHJvbWlzZSB0byBibG9jayB0aGUgcHl0aG9uIHNpZGUgb24gY29tcGxldGlvbiBvZiBlYWNoIHN0ZXAsCi8vIHRoZW4gcGFzc2VzIHRoZSByZXN1bHQgb2YgdGhlIHByZXZpb3VzIHN0ZXAgYXMgdGhlIGlucHV0IHRvIHRoZSBuZXh0IHN0ZXAuCmZ1bmN0aW9uIF91cGxvYWRGaWxlc0NvbnRpbnVlKG91dHB1dElkKSB7CiAgY29uc3Qgb3V0cHV0RWxlbWVudCA9IGRvY3VtZW50LmdldEVsZW1lbnRCeUlkKG91dHB1dElkKTsKICBjb25zdCBzdGVwcyA9IG91dHB1dEVsZW1lbnQuc3RlcHM7CgogIGNvbnN0IG5leHQgPSBzdGVwcy5uZXh0KG91dHB1dEVsZW1lbnQubGFzdFByb21pc2VWYWx1ZSk7CiAgcmV0dXJuIFByb21pc2UucmVzb2x2ZShuZXh0LnZhbHVlLnByb21pc2UpLnRoZW4oKHZhbHVlKSA9PiB7CiAgICAvLyBDYWNoZSB0aGUgbGFzdCBwcm9taXNlIHZhbHVlIHRvIG1ha2UgaXQgYXZhaWxhYmxlIHRvIHRoZSBuZXh0CiAgICAvLyBzdGVwIG9mIHRoZSBnZW5lcmF0b3IuCiAgICBvdXRwdXRFbGVtZW50Lmxhc3RQcm9taXNlVmFsdWUgPSB2YWx1ZTsKICAgIHJldHVybiBuZXh0LnZhbHVlLnJlc3BvbnNlOwogIH0pOwp9CgovKioKICogR2VuZXJhdG9yIGZ1bmN0aW9uIHdoaWNoIGlzIGNhbGxlZCBiZXR3ZWVuIGVhY2ggYXN5bmMgc3RlcCBvZiB0aGUgdXBsb2FkCiAqIHByb2Nlc3MuCiAqIEBwYXJhbSB7c3RyaW5nfSBpbnB1dElkIEVsZW1lbnQgSUQgb2YgdGhlIGlucHV0IGZpbGUgcGlja2VyIGVsZW1lbnQuCiAqIEBwYXJhbSB7c3RyaW5nfSBvdXRwdXRJZCBFbGVtZW50IElEIG9mIHRoZSBvdXRwdXQgZGlzcGxheS4KICogQHJldHVybiB7IUl0ZXJhYmxlPCFPYmplY3Q+fSBJdGVyYWJsZSBvZiBuZXh0IHN0ZXBzLgogKi8KZnVuY3Rpb24qIHVwbG9hZEZpbGVzU3RlcChpbnB1dElkLCBvdXRwdXRJZCkgewogIGNvbnN0IGlucHV0RWxlbWVudCA9IGRvY3VtZW50LmdldEVsZW1lbnRCeUlkKGlucHV0SWQpOwogIGlucHV0RWxlbWVudC5kaXNhYmxlZCA9IGZhbHNlOwoKICBjb25zdCBvdXRwdXRFbGVtZW50ID0gZG9jdW1lbnQuZ2V0RWxlbWVudEJ5SWQob3V0cHV0SWQpOwogIG91dHB1dEVsZW1lbnQuaW5uZXJIVE1MID0gJyc7CgogIGNvbnN0IHBpY2tlZFByb21pc2UgPSBuZXcgUHJvbWlzZSgocmVzb2x2ZSkgPT4gewogICAgaW5wdXRFbGVtZW50LmFkZEV2ZW50TGlzdGVuZXIoJ2NoYW5nZScsIChlKSA9PiB7CiAgICAgIHJlc29sdmUoZS50YXJnZXQuZmlsZXMpOwogICAgfSk7CiAgfSk7CgogIGNvbnN0IGNhbmNlbCA9IGRvY3VtZW50LmNyZWF0ZUVsZW1lbnQoJ2J1dHRvbicpOwogIGlucHV0RWxlbWVudC5wYXJlbnRFbGVtZW50LmFwcGVuZENoaWxkKGNhbmNlbCk7CiAgY2FuY2VsLnRleHRDb250ZW50ID0gJ0NhbmNlbCB1cGxvYWQnOwogIGNvbnN0IGNhbmNlbFByb21pc2UgPSBuZXcgUHJvbWlzZSgocmVzb2x2ZSkgPT4gewogICAgY2FuY2VsLm9uY2xpY2sgPSAoKSA9PiB7CiAgICAgIHJlc29sdmUobnVsbCk7CiAgICB9OwogIH0pOwoKICAvLyBXYWl0IGZvciB0aGUgdXNlciB0byBwaWNrIHRoZSBmaWxlcy4KICBjb25zdCBmaWxlcyA9IHlpZWxkIHsKICAgIHByb21pc2U6IFByb21pc2UucmFjZShbcGlja2VkUHJvbWlzZSwgY2FuY2VsUHJvbWlzZV0pLAogICAgcmVzcG9uc2U6IHsKICAgICAgYWN0aW9uOiAnc3RhcnRpbmcnLAogICAgfQogIH07CgogIGNhbmNlbC5yZW1vdmUoKTsKCiAgLy8gRGlzYWJsZSB0aGUgaW5wdXQgZWxlbWVudCBzaW5jZSBmdXJ0aGVyIHBpY2tzIGFyZSBub3QgYWxsb3dlZC4KICBpbnB1dEVsZW1lbnQuZGlzYWJsZWQgPSB0cnVlOwoKICBpZiAoIWZpbGVzKSB7CiAgICByZXR1cm4gewogICAgICByZXNwb25zZTogewogICAgICAgIGFjdGlvbjogJ2NvbXBsZXRlJywKICAgICAgfQogICAgfTsKICB9CgogIGZvciAoY29uc3QgZmlsZSBvZiBmaWxlcykgewogICAgY29uc3QgbGkgPSBkb2N1bWVudC5jcmVhdGVFbGVtZW50KCdsaScpOwogICAgbGkuYXBwZW5kKHNwYW4oZmlsZS5uYW1lLCB7Zm9udFdlaWdodDogJ2JvbGQnfSkpOwogICAgbGkuYXBwZW5kKHNwYW4oCiAgICAgICAgYCgke2ZpbGUudHlwZSB8fCAnbi9hJ30pIC0gJHtmaWxlLnNpemV9IGJ5dGVzLCBgICsKICAgICAgICBgbGFzdCBtb2RpZmllZDogJHsKICAgICAgICAgICAgZmlsZS5sYXN0TW9kaWZpZWREYXRlID8gZmlsZS5sYXN0TW9kaWZpZWREYXRlLnRvTG9jYWxlRGF0ZVN0cmluZygpIDoKICAgICAgICAgICAgICAgICAgICAgICAgICAgICAgICAgICAgJ24vYSd9IC0gYCkpOwogICAgY29uc3QgcGVyY2VudCA9IHNwYW4oJzAlIGRvbmUnKTsKICAgIGxpLmFwcGVuZENoaWxkKHBlcmNlbnQpOwoKICAgIG91dHB1dEVsZW1lbnQuYXBwZW5kQ2hpbGQobGkpOwoKICAgIGNvbnN0IGZpbGVEYXRhUHJvbWlzZSA9IG5ldyBQcm9taXNlKChyZXNvbHZlKSA9PiB7CiAgICAgIGNvbnN0IHJlYWRlciA9IG5ldyBGaWxlUmVhZGVyKCk7CiAgICAgIHJlYWRlci5vbmxvYWQgPSAoZSkgPT4gewogICAgICAgIHJlc29sdmUoZS50YXJnZXQucmVzdWx0KTsKICAgICAgfTsKICAgICAgcmVhZGVyLnJlYWRBc0FycmF5QnVmZmVyKGZpbGUpOwogICAgfSk7CiAgICAvLyBXYWl0IGZvciB0aGUgZGF0YSB0byBiZSByZWFkeS4KICAgIGxldCBmaWxlRGF0YSA9IHlpZWxkIHsKICAgICAgcHJvbWlzZTogZmlsZURhdGFQcm9taXNlLAogICAgICByZXNwb25zZTogewogICAgICAgIGFjdGlvbjogJ2NvbnRpbnVlJywKICAgICAgfQogICAgfTsKCiAgICAvLyBVc2UgYSBjaHVua2VkIHNlbmRpbmcgdG8gYXZvaWQgbWVzc2FnZSBzaXplIGxpbWl0cy4gU2VlIGIvNjIxMTU2NjAuCiAgICBsZXQgcG9zaXRpb24gPSAwOwogICAgd2hpbGUgKHBvc2l0aW9uIDwgZmlsZURhdGEuYnl0ZUxlbmd0aCkgewogICAgICBjb25zdCBsZW5ndGggPSBNYXRoLm1pbihmaWxlRGF0YS5ieXRlTGVuZ3RoIC0gcG9zaXRpb24sIE1BWF9QQVlMT0FEX1NJWkUpOwogICAgICBjb25zdCBjaHVuayA9IG5ldyBVaW50OEFycmF5KGZpbGVEYXRhLCBwb3NpdGlvbiwgbGVuZ3RoKTsKICAgICAgcG9zaXRpb24gKz0gbGVuZ3RoOwoKICAgICAgY29uc3QgYmFzZTY0ID0gYnRvYShTdHJpbmcuZnJvbUNoYXJDb2RlLmFwcGx5KG51bGwsIGNodW5rKSk7CiAgICAgIHlpZWxkIHsKICAgICAgICByZXNwb25zZTogewogICAgICAgICAgYWN0aW9uOiAnYXBwZW5kJywKICAgICAgICAgIGZpbGU6IGZpbGUubmFtZSwKICAgICAgICAgIGRhdGE6IGJhc2U2NCwKICAgICAgICB9LAogICAgICB9OwogICAgICBwZXJjZW50LnRleHRDb250ZW50ID0KICAgICAgICAgIGAke01hdGgucm91bmQoKHBvc2l0aW9uIC8gZmlsZURhdGEuYnl0ZUxlbmd0aCkgKiAxMDApfSUgZG9uZWA7CiAgICB9CiAgfQoKICAvLyBBbGwgZG9uZS4KICB5aWVsZCB7CiAgICByZXNwb25zZTogewogICAgICBhY3Rpb246ICdjb21wbGV0ZScsCiAgICB9CiAgfTsKfQoKc2NvcGUuZ29vZ2xlID0gc2NvcGUuZ29vZ2xlIHx8IHt9OwpzY29wZS5nb29nbGUuY29sYWIgPSBzY29wZS5nb29nbGUuY29sYWIgfHwge307CnNjb3BlLmdvb2dsZS5jb2xhYi5fZmlsZXMgPSB7CiAgX3VwbG9hZEZpbGVzLAogIF91cGxvYWRGaWxlc0NvbnRpbnVlLAp9Owp9KShzZWxmKTsK",
              "ok": true,
              "headers": [
                [
                  "content-type",
                  "application/javascript"
                ]
              ],
              "status": 200,
              "status_text": ""
            }
          },
          "base_uri": "https://localhost:8080/",
          "height": 56
        }
      },
      "source": [
        "from google.colab import files\n",
        "uploaded = files.upload()"
      ],
      "execution_count": 2,
      "outputs": [
        {
          "output_type": "display_data",
          "data": {
            "text/html": [
              "\n",
              "     <input type=\"file\" id=\"files-316f758a-03ae-42dd-aa9c-ffa42811a689\" name=\"files[]\" multiple disabled\n",
              "        style=\"border:none\" />\n",
              "     <output id=\"result-316f758a-03ae-42dd-aa9c-ffa42811a689\">\n",
              "      Upload widget is only available when the cell has been executed in the\n",
              "      current browser session. Please rerun this cell to enable.\n",
              "      </output>\n",
              "      <script src=\"/nbextensions/google.colab/files.js\"></script> "
            ],
            "text/plain": [
              "<IPython.core.display.HTML object>"
            ]
          },
          "metadata": {
            "tags": []
          }
        },
        {
          "output_type": "stream",
          "text": [
            "Saving gradient_boosting_training.csv to gradient_boosting_training.csv\n"
          ],
          "name": "stdout"
        }
      ]
    },
    {
      "cell_type": "code",
      "metadata": {
        "id": "UDO87gM7p6VX",
        "outputId": "ddaa7c5d-22a8-4032-f622-a4528f30c69b",
        "colab": {
          "base_uri": "https://localhost:8080/",
          "height": 659
        }
      },
      "source": [
        "import pandas as pd\n",
        "\n",
        "# Lendo o dataset em csv e criando um Dataframe Pandas\n",
        "df = pd.read_csv(\"gradient_boosting_training.csv\", delimiter=\"|\")\n",
        "\n",
        "df.head(20)"
      ],
      "execution_count": 3,
      "outputs": [
        {
          "output_type": "execute_result",
          "data": {
            "text/html": [
              "<div>\n",
              "<style scoped>\n",
              "    .dataframe tbody tr th:only-of-type {\n",
              "        vertical-align: middle;\n",
              "    }\n",
              "\n",
              "    .dataframe tbody tr th {\n",
              "        vertical-align: top;\n",
              "    }\n",
              "\n",
              "    .dataframe thead th {\n",
              "        text-align: right;\n",
              "    }\n",
              "</style>\n",
              "<table border=\"1\" class=\"dataframe\">\n",
              "  <thead>\n",
              "    <tr style=\"text-align: right;\">\n",
              "      <th></th>\n",
              "      <th>id</th>\n",
              "      <th>idade</th>\n",
              "      <th>uf</th>\n",
              "      <th>estadocivil</th>\n",
              "      <th>clienteespecial</th>\n",
              "      <th>dtprimeiracompra</th>\n",
              "      <th>ultimomeiopagto</th>\n",
              "      <th>ultimasparcelas</th>\n",
              "      <th>recencia</th>\n",
              "      <th>scorecompra</th>\n",
              "      <th>perfilcompra</th>\n",
              "      <th>qtdcompratotal</th>\n",
              "      <th>vlrcomprastotal</th>\n",
              "      <th>vlrmediocompra</th>\n",
              "      <th>propenso</th>\n",
              "    </tr>\n",
              "  </thead>\n",
              "  <tbody>\n",
              "    <tr>\n",
              "      <th>0</th>\n",
              "      <td>1002442</td>\n",
              "      <td>39.0</td>\n",
              "      <td>19</td>\n",
              "      <td>3</td>\n",
              "      <td>0</td>\n",
              "      <td>124</td>\n",
              "      <td>3</td>\n",
              "      <td>1</td>\n",
              "      <td>123.0</td>\n",
              "      <td>0.0</td>\n",
              "      <td>1</td>\n",
              "      <td>1</td>\n",
              "      <td>298.00</td>\n",
              "      <td>298.00</td>\n",
              "      <td>0</td>\n",
              "    </tr>\n",
              "    <tr>\n",
              "      <th>1</th>\n",
              "      <td>10171031</td>\n",
              "      <td>43.0</td>\n",
              "      <td>18</td>\n",
              "      <td>6</td>\n",
              "      <td>0</td>\n",
              "      <td>133</td>\n",
              "      <td>1</td>\n",
              "      <td>1</td>\n",
              "      <td>1.0</td>\n",
              "      <td>20.5</td>\n",
              "      <td>3</td>\n",
              "      <td>7</td>\n",
              "      <td>21782.17</td>\n",
              "      <td>3111.74</td>\n",
              "      <td>0</td>\n",
              "    </tr>\n",
              "    <tr>\n",
              "      <th>2</th>\n",
              "      <td>1022507</td>\n",
              "      <td>32.0</td>\n",
              "      <td>11</td>\n",
              "      <td>3</td>\n",
              "      <td>0</td>\n",
              "      <td>99</td>\n",
              "      <td>1</td>\n",
              "      <td>10</td>\n",
              "      <td>10.0</td>\n",
              "      <td>13.0</td>\n",
              "      <td>3</td>\n",
              "      <td>6</td>\n",
              "      <td>5661.81</td>\n",
              "      <td>943.64</td>\n",
              "      <td>0</td>\n",
              "    </tr>\n",
              "    <tr>\n",
              "      <th>3</th>\n",
              "      <td>10226642</td>\n",
              "      <td>45.0</td>\n",
              "      <td>5</td>\n",
              "      <td>0</td>\n",
              "      <td>0</td>\n",
              "      <td>80</td>\n",
              "      <td>1</td>\n",
              "      <td>10</td>\n",
              "      <td>2.0</td>\n",
              "      <td>22.0</td>\n",
              "      <td>1</td>\n",
              "      <td>6</td>\n",
              "      <td>7251.12</td>\n",
              "      <td>1208.52</td>\n",
              "      <td>1</td>\n",
              "    </tr>\n",
              "    <tr>\n",
              "      <th>4</th>\n",
              "      <td>1024757</td>\n",
              "      <td>72.0</td>\n",
              "      <td>26</td>\n",
              "      <td>3</td>\n",
              "      <td>1</td>\n",
              "      <td>162</td>\n",
              "      <td>1</td>\n",
              "      <td>2</td>\n",
              "      <td>3.0</td>\n",
              "      <td>21.0</td>\n",
              "      <td>1</td>\n",
              "      <td>23</td>\n",
              "      <td>8507.38</td>\n",
              "      <td>369.89</td>\n",
              "      <td>1</td>\n",
              "    </tr>\n",
              "    <tr>\n",
              "      <th>5</th>\n",
              "      <td>1026193</td>\n",
              "      <td>33.0</td>\n",
              "      <td>11</td>\n",
              "      <td>0</td>\n",
              "      <td>0</td>\n",
              "      <td>41</td>\n",
              "      <td>1</td>\n",
              "      <td>12</td>\n",
              "      <td>1.0</td>\n",
              "      <td>23.5</td>\n",
              "      <td>2</td>\n",
              "      <td>8</td>\n",
              "      <td>5449.84</td>\n",
              "      <td>681.23</td>\n",
              "      <td>0</td>\n",
              "    </tr>\n",
              "    <tr>\n",
              "      <th>6</th>\n",
              "      <td>1027338</td>\n",
              "      <td>29.0</td>\n",
              "      <td>15</td>\n",
              "      <td>3</td>\n",
              "      <td>0</td>\n",
              "      <td>93</td>\n",
              "      <td>5</td>\n",
              "      <td>1</td>\n",
              "      <td>0.0</td>\n",
              "      <td>25.0</td>\n",
              "      <td>3</td>\n",
              "      <td>51</td>\n",
              "      <td>32747.07</td>\n",
              "      <td>642.10</td>\n",
              "      <td>1</td>\n",
              "    </tr>\n",
              "    <tr>\n",
              "      <th>7</th>\n",
              "      <td>1027644</td>\n",
              "      <td>26.0</td>\n",
              "      <td>18</td>\n",
              "      <td>0</td>\n",
              "      <td>0</td>\n",
              "      <td>63</td>\n",
              "      <td>1</td>\n",
              "      <td>4</td>\n",
              "      <td>10.0</td>\n",
              "      <td>12.0</td>\n",
              "      <td>2</td>\n",
              "      <td>11</td>\n",
              "      <td>9115.45</td>\n",
              "      <td>828.68</td>\n",
              "      <td>0</td>\n",
              "    </tr>\n",
              "    <tr>\n",
              "      <th>8</th>\n",
              "      <td>1028542</td>\n",
              "      <td>54.0</td>\n",
              "      <td>26</td>\n",
              "      <td>3</td>\n",
              "      <td>1</td>\n",
              "      <td>159</td>\n",
              "      <td>4</td>\n",
              "      <td>2</td>\n",
              "      <td>103.0</td>\n",
              "      <td>0.0</td>\n",
              "      <td>1</td>\n",
              "      <td>10</td>\n",
              "      <td>3413.20</td>\n",
              "      <td>341.32</td>\n",
              "      <td>0</td>\n",
              "    </tr>\n",
              "    <tr>\n",
              "      <th>9</th>\n",
              "      <td>10296663</td>\n",
              "      <td>60.0</td>\n",
              "      <td>16</td>\n",
              "      <td>0</td>\n",
              "      <td>0</td>\n",
              "      <td>28</td>\n",
              "      <td>1</td>\n",
              "      <td>10</td>\n",
              "      <td>8.0</td>\n",
              "      <td>13.0</td>\n",
              "      <td>1</td>\n",
              "      <td>5</td>\n",
              "      <td>4161.70</td>\n",
              "      <td>832.34</td>\n",
              "      <td>1</td>\n",
              "    </tr>\n",
              "    <tr>\n",
              "      <th>10</th>\n",
              "      <td>1030235</td>\n",
              "      <td>25.0</td>\n",
              "      <td>18</td>\n",
              "      <td>3</td>\n",
              "      <td>0</td>\n",
              "      <td>80</td>\n",
              "      <td>1</td>\n",
              "      <td>12</td>\n",
              "      <td>0.0</td>\n",
              "      <td>23.5</td>\n",
              "      <td>3</td>\n",
              "      <td>6</td>\n",
              "      <td>6576.80</td>\n",
              "      <td>1096.13</td>\n",
              "      <td>1</td>\n",
              "    </tr>\n",
              "    <tr>\n",
              "      <th>11</th>\n",
              "      <td>103050</td>\n",
              "      <td>63.0</td>\n",
              "      <td>26</td>\n",
              "      <td>3</td>\n",
              "      <td>0</td>\n",
              "      <td>96</td>\n",
              "      <td>8</td>\n",
              "      <td>1</td>\n",
              "      <td>0.0</td>\n",
              "      <td>25.0</td>\n",
              "      <td>3</td>\n",
              "      <td>18</td>\n",
              "      <td>11771.62</td>\n",
              "      <td>653.98</td>\n",
              "      <td>1</td>\n",
              "    </tr>\n",
              "    <tr>\n",
              "      <th>12</th>\n",
              "      <td>10325689</td>\n",
              "      <td>62.0</td>\n",
              "      <td>26</td>\n",
              "      <td>6</td>\n",
              "      <td>0</td>\n",
              "      <td>136</td>\n",
              "      <td>1</td>\n",
              "      <td>10</td>\n",
              "      <td>1.0</td>\n",
              "      <td>19.5</td>\n",
              "      <td>3</td>\n",
              "      <td>22</td>\n",
              "      <td>14301.25</td>\n",
              "      <td>650.06</td>\n",
              "      <td>0</td>\n",
              "    </tr>\n",
              "    <tr>\n",
              "      <th>13</th>\n",
              "      <td>1036623</td>\n",
              "      <td>22.0</td>\n",
              "      <td>26</td>\n",
              "      <td>3</td>\n",
              "      <td>0</td>\n",
              "      <td>16</td>\n",
              "      <td>7</td>\n",
              "      <td>1</td>\n",
              "      <td>6.0</td>\n",
              "      <td>16.5</td>\n",
              "      <td>1</td>\n",
              "      <td>4</td>\n",
              "      <td>429.00</td>\n",
              "      <td>107.25</td>\n",
              "      <td>1</td>\n",
              "    </tr>\n",
              "    <tr>\n",
              "      <th>14</th>\n",
              "      <td>10404693</td>\n",
              "      <td>56.0</td>\n",
              "      <td>18</td>\n",
              "      <td>3</td>\n",
              "      <td>0</td>\n",
              "      <td>57</td>\n",
              "      <td>1</td>\n",
              "      <td>24</td>\n",
              "      <td>17.0</td>\n",
              "      <td>5.0</td>\n",
              "      <td>3</td>\n",
              "      <td>9</td>\n",
              "      <td>11573.70</td>\n",
              "      <td>1285.97</td>\n",
              "      <td>0</td>\n",
              "    </tr>\n",
              "    <tr>\n",
              "      <th>15</th>\n",
              "      <td>10409746</td>\n",
              "      <td>44.0</td>\n",
              "      <td>24</td>\n",
              "      <td>6</td>\n",
              "      <td>0</td>\n",
              "      <td>91</td>\n",
              "      <td>2</td>\n",
              "      <td>1</td>\n",
              "      <td>1.0</td>\n",
              "      <td>19.5</td>\n",
              "      <td>2</td>\n",
              "      <td>6</td>\n",
              "      <td>4588.03</td>\n",
              "      <td>764.67</td>\n",
              "      <td>0</td>\n",
              "    </tr>\n",
              "    <tr>\n",
              "      <th>16</th>\n",
              "      <td>1046915</td>\n",
              "      <td>57.0</td>\n",
              "      <td>26</td>\n",
              "      <td>6</td>\n",
              "      <td>0</td>\n",
              "      <td>68</td>\n",
              "      <td>7</td>\n",
              "      <td>1</td>\n",
              "      <td>67.0</td>\n",
              "      <td>0.0</td>\n",
              "      <td>1</td>\n",
              "      <td>1</td>\n",
              "      <td>104.00</td>\n",
              "      <td>104.00</td>\n",
              "      <td>0</td>\n",
              "    </tr>\n",
              "    <tr>\n",
              "      <th>17</th>\n",
              "      <td>10504185</td>\n",
              "      <td>56.0</td>\n",
              "      <td>5</td>\n",
              "      <td>0</td>\n",
              "      <td>0</td>\n",
              "      <td>67</td>\n",
              "      <td>3</td>\n",
              "      <td>1</td>\n",
              "      <td>66.0</td>\n",
              "      <td>0.0</td>\n",
              "      <td>1</td>\n",
              "      <td>1</td>\n",
              "      <td>99.00</td>\n",
              "      <td>99.00</td>\n",
              "      <td>0</td>\n",
              "    </tr>\n",
              "    <tr>\n",
              "      <th>18</th>\n",
              "      <td>10505447</td>\n",
              "      <td>44.0</td>\n",
              "      <td>24</td>\n",
              "      <td>6</td>\n",
              "      <td>1</td>\n",
              "      <td>74</td>\n",
              "      <td>1</td>\n",
              "      <td>18</td>\n",
              "      <td>1.0</td>\n",
              "      <td>25.0</td>\n",
              "      <td>1</td>\n",
              "      <td>21</td>\n",
              "      <td>32813.66</td>\n",
              "      <td>1562.56</td>\n",
              "      <td>1</td>\n",
              "    </tr>\n",
              "    <tr>\n",
              "      <th>19</th>\n",
              "      <td>10511374</td>\n",
              "      <td>41.0</td>\n",
              "      <td>23</td>\n",
              "      <td>3</td>\n",
              "      <td>0</td>\n",
              "      <td>131</td>\n",
              "      <td>7</td>\n",
              "      <td>1</td>\n",
              "      <td>79.0</td>\n",
              "      <td>0.0</td>\n",
              "      <td>1</td>\n",
              "      <td>2</td>\n",
              "      <td>1401.00</td>\n",
              "      <td>700.50</td>\n",
              "      <td>0</td>\n",
              "    </tr>\n",
              "  </tbody>\n",
              "</table>\n",
              "</div>"
            ],
            "text/plain": [
              "          id  idade  uf  ...  vlrcomprastotal  vlrmediocompra  propenso\n",
              "0    1002442   39.0  19  ...           298.00          298.00         0\n",
              "1   10171031   43.0  18  ...         21782.17         3111.74         0\n",
              "2    1022507   32.0  11  ...          5661.81          943.64         0\n",
              "3   10226642   45.0   5  ...          7251.12         1208.52         1\n",
              "4    1024757   72.0  26  ...          8507.38          369.89         1\n",
              "5    1026193   33.0  11  ...          5449.84          681.23         0\n",
              "6    1027338   29.0  15  ...         32747.07          642.10         1\n",
              "7    1027644   26.0  18  ...          9115.45          828.68         0\n",
              "8    1028542   54.0  26  ...          3413.20          341.32         0\n",
              "9   10296663   60.0  16  ...          4161.70          832.34         1\n",
              "10   1030235   25.0  18  ...          6576.80         1096.13         1\n",
              "11    103050   63.0  26  ...         11771.62          653.98         1\n",
              "12  10325689   62.0  26  ...         14301.25          650.06         0\n",
              "13   1036623   22.0  26  ...           429.00          107.25         1\n",
              "14  10404693   56.0  18  ...         11573.70         1285.97         0\n",
              "15  10409746   44.0  24  ...          4588.03          764.67         0\n",
              "16   1046915   57.0  26  ...           104.00          104.00         0\n",
              "17  10504185   56.0   5  ...            99.00           99.00         0\n",
              "18  10505447   44.0  24  ...         32813.66         1562.56         1\n",
              "19  10511374   41.0  23  ...          1401.00          700.50         0\n",
              "\n",
              "[20 rows x 15 columns]"
            ]
          },
          "metadata": {
            "tags": []
          },
          "execution_count": 3
        }
      ]
    },
    {
      "cell_type": "markdown",
      "metadata": {
        "id": "AiOHxn12p6Vn"
      },
      "source": [
        "## Verificando a distribuição entre as classes (variável target)\n",
        "\n",
        "É importante termos as classes bem balanceadas para que o algorítmo aprenda a relação desses dados de forma mais assertiva"
      ]
    },
    {
      "cell_type": "code",
      "metadata": {
        "id": "MmO1U6hhp6Vo",
        "outputId": "c74c34b7-f69c-470a-9184-2b28da693fea",
        "colab": {
          "base_uri": "https://localhost:8080/",
          "height": 84
        }
      },
      "source": [
        "print(df.groupby('propenso').size())"
      ],
      "execution_count": 4,
      "outputs": [
        {
          "output_type": "stream",
          "text": [
            "propenso\n",
            "0    98705\n",
            "1    78649\n",
            "dtype: int64\n"
          ],
          "name": "stdout"
        }
      ]
    },
    {
      "cell_type": "markdown",
      "metadata": {
        "id": "hHNCEYOgp6Vu"
      },
      "source": [
        "## Fazendo um pré-processamento dos dados\n",
        "\n",
        "Em sua grande maioria das vezes o trabalho de pré-processamento é pesado, pois podem haver muitos campos nulos, com ruídos (outliers), variáveis categóricas da qual muitos algorítimos não trabalham, etc. E há muitas técnicas para que cada caso possa ser tratado.\n",
        "\n",
        "Nesse exemplo, consideramos que fizemos um trabalho de processamento e padronização previamente pelo Spark teremos um menor esforço de tratamento."
      ]
    },
    {
      "cell_type": "code",
      "metadata": {
        "id": "4ozr_7Qup6Vv"
      },
      "source": [
        "import numpy as np\n",
        "\n",
        "# Tratando dados missing no vlrmediocompra\n",
        "df['vlrmediocompra'] = df['vlrmediocompra'].replace(np.NaN, 0)\n",
        "\n",
        "# Vamos usar a técnica de colocar média da massa para a idade\n",
        "df['idade'].fillna(df['idade'].mean(), inplace=True)\n",
        "\n",
        "# Vamos usar a média da massa para a recencia também\n",
        "df['recencia'].fillna(df['recencia'].mean(), inplace=True)"
      ],
      "execution_count": 5,
      "outputs": []
    },
    {
      "cell_type": "markdown",
      "metadata": {
        "id": "US3u9Mpop6Vz"
      },
      "source": [
        "## Separando a variável target (resposta) das variáveis preditoras\n",
        "\n",
        "- X - Variáveis preditoras\n",
        "- Y - Variável target ou resposta"
      ]
    },
    {
      "cell_type": "code",
      "metadata": {
        "id": "gQtIvM-Dp6Vz",
        "outputId": "6908538f-7f64-465b-8210-0f22f7eacda4",
        "colab": {
          "base_uri": "https://localhost:8080/",
          "height": 34
        }
      },
      "source": [
        "cols = [col for col in df.columns if col not in ['id','propenso', 'recencia', 'scorecompra']]\n",
        "print(cols)"
      ],
      "execution_count": 6,
      "outputs": [
        {
          "output_type": "stream",
          "text": [
            "['idade', 'uf', 'estadocivil', 'clienteespecial', 'dtprimeiracompra', 'ultimomeiopagto', 'ultimasparcelas', 'perfilcompra', 'qtdcompratotal', 'vlrcomprastotal', 'vlrmediocompra']\n"
          ],
          "name": "stdout"
        }
      ]
    },
    {
      "cell_type": "code",
      "metadata": {
        "id": "ZmVK7eJTp6V2"
      },
      "source": [
        "\"\"\"\n",
        "Arrays:\n",
        " - X - Variáveis preditoras\n",
        " - Y - Variável target ou resposta\n",
        "\"\"\"\n",
        "X = df[cols].values\n",
        "Y = df.propenso.values"
      ],
      "execution_count": 7,
      "outputs": []
    },
    {
      "cell_type": "markdown",
      "metadata": {
        "id": "WR8J0ZMPp6V5"
      },
      "source": [
        "## Colocando os valores das variável preditoras numa mesma escala\n",
        "\n",
        "Observe que os valores numéricos não estão no mesma escala e muitos algorítimos terão melhor performance fazendo essa normalização"
      ]
    },
    {
      "cell_type": "code",
      "metadata": {
        "id": "kk5_aDEip6V5",
        "outputId": "ed377545-0496-4620-be47-d9568a3b35b1",
        "colab": {
          "base_uri": "https://localhost:8080/",
          "height": 215
        }
      },
      "source": [
        "df.head(5)"
      ],
      "execution_count": 8,
      "outputs": [
        {
          "output_type": "execute_result",
          "data": {
            "text/html": [
              "<div>\n",
              "<style scoped>\n",
              "    .dataframe tbody tr th:only-of-type {\n",
              "        vertical-align: middle;\n",
              "    }\n",
              "\n",
              "    .dataframe tbody tr th {\n",
              "        vertical-align: top;\n",
              "    }\n",
              "\n",
              "    .dataframe thead th {\n",
              "        text-align: right;\n",
              "    }\n",
              "</style>\n",
              "<table border=\"1\" class=\"dataframe\">\n",
              "  <thead>\n",
              "    <tr style=\"text-align: right;\">\n",
              "      <th></th>\n",
              "      <th>id</th>\n",
              "      <th>idade</th>\n",
              "      <th>uf</th>\n",
              "      <th>estadocivil</th>\n",
              "      <th>clienteespecial</th>\n",
              "      <th>dtprimeiracompra</th>\n",
              "      <th>ultimomeiopagto</th>\n",
              "      <th>ultimasparcelas</th>\n",
              "      <th>recencia</th>\n",
              "      <th>scorecompra</th>\n",
              "      <th>perfilcompra</th>\n",
              "      <th>qtdcompratotal</th>\n",
              "      <th>vlrcomprastotal</th>\n",
              "      <th>vlrmediocompra</th>\n",
              "      <th>propenso</th>\n",
              "    </tr>\n",
              "  </thead>\n",
              "  <tbody>\n",
              "    <tr>\n",
              "      <th>0</th>\n",
              "      <td>1002442</td>\n",
              "      <td>39.0</td>\n",
              "      <td>19</td>\n",
              "      <td>3</td>\n",
              "      <td>0</td>\n",
              "      <td>124</td>\n",
              "      <td>3</td>\n",
              "      <td>1</td>\n",
              "      <td>123.0</td>\n",
              "      <td>0.0</td>\n",
              "      <td>1</td>\n",
              "      <td>1</td>\n",
              "      <td>298.00</td>\n",
              "      <td>298.00</td>\n",
              "      <td>0</td>\n",
              "    </tr>\n",
              "    <tr>\n",
              "      <th>1</th>\n",
              "      <td>10171031</td>\n",
              "      <td>43.0</td>\n",
              "      <td>18</td>\n",
              "      <td>6</td>\n",
              "      <td>0</td>\n",
              "      <td>133</td>\n",
              "      <td>1</td>\n",
              "      <td>1</td>\n",
              "      <td>1.0</td>\n",
              "      <td>20.5</td>\n",
              "      <td>3</td>\n",
              "      <td>7</td>\n",
              "      <td>21782.17</td>\n",
              "      <td>3111.74</td>\n",
              "      <td>0</td>\n",
              "    </tr>\n",
              "    <tr>\n",
              "      <th>2</th>\n",
              "      <td>1022507</td>\n",
              "      <td>32.0</td>\n",
              "      <td>11</td>\n",
              "      <td>3</td>\n",
              "      <td>0</td>\n",
              "      <td>99</td>\n",
              "      <td>1</td>\n",
              "      <td>10</td>\n",
              "      <td>10.0</td>\n",
              "      <td>13.0</td>\n",
              "      <td>3</td>\n",
              "      <td>6</td>\n",
              "      <td>5661.81</td>\n",
              "      <td>943.64</td>\n",
              "      <td>0</td>\n",
              "    </tr>\n",
              "    <tr>\n",
              "      <th>3</th>\n",
              "      <td>10226642</td>\n",
              "      <td>45.0</td>\n",
              "      <td>5</td>\n",
              "      <td>0</td>\n",
              "      <td>0</td>\n",
              "      <td>80</td>\n",
              "      <td>1</td>\n",
              "      <td>10</td>\n",
              "      <td>2.0</td>\n",
              "      <td>22.0</td>\n",
              "      <td>1</td>\n",
              "      <td>6</td>\n",
              "      <td>7251.12</td>\n",
              "      <td>1208.52</td>\n",
              "      <td>1</td>\n",
              "    </tr>\n",
              "    <tr>\n",
              "      <th>4</th>\n",
              "      <td>1024757</td>\n",
              "      <td>72.0</td>\n",
              "      <td>26</td>\n",
              "      <td>3</td>\n",
              "      <td>1</td>\n",
              "      <td>162</td>\n",
              "      <td>1</td>\n",
              "      <td>2</td>\n",
              "      <td>3.0</td>\n",
              "      <td>21.0</td>\n",
              "      <td>1</td>\n",
              "      <td>23</td>\n",
              "      <td>8507.38</td>\n",
              "      <td>369.89</td>\n",
              "      <td>1</td>\n",
              "    </tr>\n",
              "  </tbody>\n",
              "</table>\n",
              "</div>"
            ],
            "text/plain": [
              "         id  idade  uf  ...  vlrcomprastotal  vlrmediocompra  propenso\n",
              "0   1002442   39.0  19  ...           298.00          298.00         0\n",
              "1  10171031   43.0  18  ...         21782.17         3111.74         0\n",
              "2   1022507   32.0  11  ...          5661.81          943.64         0\n",
              "3  10226642   45.0   5  ...          7251.12         1208.52         1\n",
              "4   1024757   72.0  26  ...          8507.38          369.89         1\n",
              "\n",
              "[5 rows x 15 columns]"
            ]
          },
          "metadata": {
            "tags": []
          },
          "execution_count": 8
        }
      ]
    },
    {
      "cell_type": "markdown",
      "metadata": {
        "id": "AP7CY6EQp6V8"
      },
      "source": [
        "#### Para isso usaremos o método \"scale\" do módulo \"preprocessing\" do \"sklearn\""
      ]
    },
    {
      "cell_type": "code",
      "metadata": {
        "id": "qq6TxU8vp6V9",
        "outputId": "7e8467e2-8c6c-4396-e114-cc8fcc584be3",
        "colab": {
          "base_uri": "https://localhost:8080/",
          "height": 235
        }
      },
      "source": [
        "from sklearn.preprocessing import scale\n",
        "\n",
        "X = scale(X)\n",
        "\n",
        "print(X)"
      ],
      "execution_count": 9,
      "outputs": [
        {
          "output_type": "stream",
          "text": [
            "[[-2.40943265e-01  2.49437089e-02  8.09851890e-02 ... -6.90280723e-01\n",
            "  -7.16955368e-01 -8.87970778e-01]\n",
            " [-1.22410063e-01 -1.10235248e-01  1.36811192e+00 ... -2.94298482e-01\n",
            "   1.09902248e+00  3.90641572e+00]\n",
            " [-4.48376368e-01 -1.05648795e+00  8.09851890e-02 ... -3.60295522e-01\n",
            "  -2.63572243e-01  2.12147819e-01]\n",
            " ...\n",
            " [-3.87686045e-03 -3.80593163e-01 -1.20614154e+00 ... -6.90280723e-01\n",
            "  -7.35551159e-01 -1.26283307e+00]\n",
            " [ 2.57564401e-02 -1.10235248e-01 -1.20614154e+00 ... -6.90280723e-01\n",
            "  -7.32913938e-01 -1.20967078e+00]\n",
            " [-9.27767620e-02  9.71196410e-01 -3.48057055e-01 ... -3.60295522e-01\n",
            "  -1.98805640e-01  4.29738341e-01]]\n"
          ],
          "name": "stdout"
        }
      ]
    },
    {
      "cell_type": "markdown",
      "metadata": {
        "id": "4yyrX_6Sp6WA"
      },
      "source": [
        "## Separando os dados de treino dos dados de teste\n",
        "\n",
        "Para isso usaremos o método \"train_test_split\" do módulo \"model_selection\" do \"sklearn\""
      ]
    },
    {
      "cell_type": "code",
      "metadata": {
        "id": "NT5r79qzp6WA"
      },
      "source": [
        "from sklearn.model_selection import train_test_split\n",
        "\n",
        "# Percentual da massa para treino\n",
        "validation_size = 0.30\n",
        "\n",
        "\"\"\"\n",
        "Retorna 4 arrays diferentes:\n",
        "\n",
        "X_Train - Variáveis preditoras para o treinamento do modelo\n",
        "X_Test - Variáveis preditoras para o teste do modelo\n",
        "\n",
        "Y_Train - Variável target ou resposta para treinamento do modelo\n",
        "Y_Test - Variável target ou resposta usada para validação do modelo\n",
        "\"\"\"\n",
        "\n",
        "X_Train, X_Test, Y_Train, Y_Test = train_test_split(X, Y, test_size = validation_size)"
      ],
      "execution_count": 10,
      "outputs": []
    },
    {
      "cell_type": "code",
      "metadata": {
        "id": "pdHzUWwJp6WD",
        "outputId": "89c9f428-ed20-46b3-bbe3-4b1691f8cf2c",
        "colab": {
          "base_uri": "https://localhost:8080/",
          "height": 34
        }
      },
      "source": [
        "Y_Train"
      ],
      "execution_count": 11,
      "outputs": [
        {
          "output_type": "execute_result",
          "data": {
            "text/plain": [
              "array([1, 0, 0, ..., 0, 0, 0])"
            ]
          },
          "metadata": {
            "tags": []
          },
          "execution_count": 11
        }
      ]
    },
    {
      "cell_type": "markdown",
      "metadata": {
        "id": "b_bJZKeKp6WF"
      },
      "source": [
        "## Criando uma instancia do algoritmo Classificador\n",
        "\n",
        "https://scikit-learn.org/stable/modules/generated/sklearn.ensemble.GradientBoostingClassifier.html"
      ]
    },
    {
      "cell_type": "code",
      "metadata": {
        "id": "ELhx61CZp6WG",
        "outputId": "9c086af2-0c44-4c53-c39c-76a92fe2d909",
        "colab": {
          "base_uri": "https://localhost:8080/",
          "height": 185
        }
      },
      "source": [
        "from sklearn.ensemble import GradientBoostingClassifier\n",
        "\n",
        "clf = GradientBoostingClassifier(\n",
        "    n_estimators=50,\n",
        "    learning_rate=1, \n",
        "    min_samples_split=3, \n",
        "    min_samples_leaf=2)\n",
        "\n",
        "print(clf)"
      ],
      "execution_count": 12,
      "outputs": [
        {
          "output_type": "stream",
          "text": [
            "GradientBoostingClassifier(ccp_alpha=0.0, criterion='friedman_mse', init=None,\n",
            "                           learning_rate=1, loss='deviance', max_depth=3,\n",
            "                           max_features=None, max_leaf_nodes=None,\n",
            "                           min_impurity_decrease=0.0, min_impurity_split=None,\n",
            "                           min_samples_leaf=2, min_samples_split=3,\n",
            "                           min_weight_fraction_leaf=0.0, n_estimators=50,\n",
            "                           n_iter_no_change=None, presort='deprecated',\n",
            "                           random_state=None, subsample=1.0, tol=0.0001,\n",
            "                           validation_fraction=0.1, verbose=0,\n",
            "                           warm_start=False)\n"
          ],
          "name": "stdout"
        }
      ]
    },
    {
      "cell_type": "markdown",
      "metadata": {
        "id": "52t7FkS3p6WI"
      },
      "source": [
        "## Treinamento e persistência do modelo\n",
        "\n",
        "Treina o modelo através do método \"fit\" do Classificador"
      ]
    },
    {
      "cell_type": "code",
      "metadata": {
        "id": "T0V0rk27p6WJ"
      },
      "source": [
        "model = clf.fit(X_Train, Y_Train)"
      ],
      "execution_count": 13,
      "outputs": []
    },
    {
      "cell_type": "markdown",
      "metadata": {
        "id": "WcP5jnnsp6WP"
      },
      "source": [
        "#### Persistirá o modelo treinado em arquivo\n",
        "\n",
        "Para isso usaremos o módulo \"pickle\" que fará a serialização do objeto"
      ]
    },
    {
      "cell_type": "code",
      "metadata": {
        "id": "pBdmW5C8p6WR"
      },
      "source": [
        "import pickle\n",
        "\n",
        "pickle.dump(model, open(\"gradient_boosting_model_pickle.dat\", \"wb\"))"
      ],
      "execution_count": 14,
      "outputs": []
    },
    {
      "cell_type": "markdown",
      "metadata": {
        "id": "fpU3XA0Xp6WU"
      },
      "source": [
        "## Fazendo a predição da variável resposta esperada\n",
        "\n",
        "Podemos utilizar o modelo em memória ou fazer o \"load\" do modelo persistido"
      ]
    },
    {
      "cell_type": "code",
      "metadata": {
        "id": "BCLlAarFp6WV",
        "outputId": "c3995eec-84f5-44bc-e2e8-f53fe007f66c",
        "colab": {
          "base_uri": "https://localhost:8080/",
          "height": 185
        }
      },
      "source": [
        "model_serial = pickle.load(open(\"gradient_boosting_model_pickle.dat\", \"rb\"))\n",
        "\n",
        "model_serial"
      ],
      "execution_count": 15,
      "outputs": [
        {
          "output_type": "execute_result",
          "data": {
            "text/plain": [
              "GradientBoostingClassifier(ccp_alpha=0.0, criterion='friedman_mse', init=None,\n",
              "                           learning_rate=1, loss='deviance', max_depth=3,\n",
              "                           max_features=None, max_leaf_nodes=None,\n",
              "                           min_impurity_decrease=0.0, min_impurity_split=None,\n",
              "                           min_samples_leaf=2, min_samples_split=3,\n",
              "                           min_weight_fraction_leaf=0.0, n_estimators=50,\n",
              "                           n_iter_no_change=None, presort='deprecated',\n",
              "                           random_state=None, subsample=1.0, tol=0.0001,\n",
              "                           validation_fraction=0.1, verbose=0,\n",
              "                           warm_start=False)"
            ]
          },
          "metadata": {
            "tags": []
          },
          "execution_count": 15
        }
      ]
    },
    {
      "cell_type": "markdown",
      "metadata": {
        "id": "Uhi9QHJTp6Wa"
      },
      "source": [
        "#### Fazendo previsão com variaveis preditoras de teste através do método \"predict\" do classificador"
      ]
    },
    {
      "cell_type": "code",
      "metadata": {
        "id": "LjVW64Lcp6Wa",
        "outputId": "b9f68659-32b1-42d0-df52-e9d80c09024d",
        "colab": {
          "base_uri": "https://localhost:8080/",
          "height": 34
        }
      },
      "source": [
        "prediction = model.predict(X_Test)\n",
        "\n",
        "prediction"
      ],
      "execution_count": 16,
      "outputs": [
        {
          "output_type": "execute_result",
          "data": {
            "text/plain": [
              "array([0, 1, 0, ..., 1, 0, 1])"
            ]
          },
          "metadata": {
            "tags": []
          },
          "execution_count": 16
        }
      ]
    },
    {
      "cell_type": "code",
      "metadata": {
        "id": "e9pT9_33p6Wc",
        "outputId": "d246d5aa-6294-47ed-e8dd-6eea64dbb665",
        "colab": {
          "base_uri": "https://localhost:8080/",
          "height": 50
        }
      },
      "source": [
        "score = model.predict_proba(X_Test)[:,1]\n",
        "\n",
        "score"
      ],
      "execution_count": 17,
      "outputs": [
        {
          "output_type": "execute_result",
          "data": {
            "text/plain": [
              "array([8.40320712e-04, 9.43358093e-01, 2.26103913e-01, ...,\n",
              "       9.50626517e-01, 6.71001736e-02, 9.30168691e-01])"
            ]
          },
          "metadata": {
            "tags": []
          },
          "execution_count": 17
        }
      ]
    },
    {
      "cell_type": "code",
      "metadata": {
        "id": "A4aF8odqp6Wf",
        "outputId": "77b9718c-6992-45e2-d19e-2368997106be",
        "colab": {
          "base_uri": "https://localhost:8080/",
          "height": 343
        }
      },
      "source": [
        "df_predict = pd.DataFrame(prediction, columns=['propenso'])\n",
        "df_score = pd.DataFrame(score, columns=['score'])\n",
        "\n",
        "df_result = pd.merge(df_predict, df_score, how = 'left', left_index = True, right_index = True)\n",
        "\n",
        "df_result.head(10)"
      ],
      "execution_count": 18,
      "outputs": [
        {
          "output_type": "execute_result",
          "data": {
            "text/html": [
              "<div>\n",
              "<style scoped>\n",
              "    .dataframe tbody tr th:only-of-type {\n",
              "        vertical-align: middle;\n",
              "    }\n",
              "\n",
              "    .dataframe tbody tr th {\n",
              "        vertical-align: top;\n",
              "    }\n",
              "\n",
              "    .dataframe thead th {\n",
              "        text-align: right;\n",
              "    }\n",
              "</style>\n",
              "<table border=\"1\" class=\"dataframe\">\n",
              "  <thead>\n",
              "    <tr style=\"text-align: right;\">\n",
              "      <th></th>\n",
              "      <th>propenso</th>\n",
              "      <th>score</th>\n",
              "    </tr>\n",
              "  </thead>\n",
              "  <tbody>\n",
              "    <tr>\n",
              "      <th>0</th>\n",
              "      <td>0</td>\n",
              "      <td>0.000840</td>\n",
              "    </tr>\n",
              "    <tr>\n",
              "      <th>1</th>\n",
              "      <td>1</td>\n",
              "      <td>0.943358</td>\n",
              "    </tr>\n",
              "    <tr>\n",
              "      <th>2</th>\n",
              "      <td>0</td>\n",
              "      <td>0.226104</td>\n",
              "    </tr>\n",
              "    <tr>\n",
              "      <th>3</th>\n",
              "      <td>1</td>\n",
              "      <td>0.984232</td>\n",
              "    </tr>\n",
              "    <tr>\n",
              "      <th>4</th>\n",
              "      <td>1</td>\n",
              "      <td>0.670875</td>\n",
              "    </tr>\n",
              "    <tr>\n",
              "      <th>5</th>\n",
              "      <td>0</td>\n",
              "      <td>0.002161</td>\n",
              "    </tr>\n",
              "    <tr>\n",
              "      <th>6</th>\n",
              "      <td>1</td>\n",
              "      <td>0.750763</td>\n",
              "    </tr>\n",
              "    <tr>\n",
              "      <th>7</th>\n",
              "      <td>1</td>\n",
              "      <td>0.957439</td>\n",
              "    </tr>\n",
              "    <tr>\n",
              "      <th>8</th>\n",
              "      <td>0</td>\n",
              "      <td>0.053512</td>\n",
              "    </tr>\n",
              "    <tr>\n",
              "      <th>9</th>\n",
              "      <td>0</td>\n",
              "      <td>0.010348</td>\n",
              "    </tr>\n",
              "  </tbody>\n",
              "</table>\n",
              "</div>"
            ],
            "text/plain": [
              "   propenso     score\n",
              "0         0  0.000840\n",
              "1         1  0.943358\n",
              "2         0  0.226104\n",
              "3         1  0.984232\n",
              "4         1  0.670875\n",
              "5         0  0.002161\n",
              "6         1  0.750763\n",
              "7         1  0.957439\n",
              "8         0  0.053512\n",
              "9         0  0.010348"
            ]
          },
          "metadata": {
            "tags": []
          },
          "execution_count": 18
        }
      ]
    },
    {
      "cell_type": "markdown",
      "metadata": {
        "id": "cXDPXYPGp6Wh"
      },
      "source": [
        "## Avaliando o modelo"
      ]
    },
    {
      "cell_type": "code",
      "metadata": {
        "id": "Pzs-Y6D9p6Wi",
        "outputId": "87008134-961c-4923-feb6-691f27470e95",
        "colab": {
          "base_uri": "https://localhost:8080/",
          "height": 34
        }
      },
      "source": [
        "from sklearn.metrics import accuracy_score\n",
        "\n",
        "print (accuracy_score(Y_Test, prediction))"
      ],
      "execution_count": 19,
      "outputs": [
        {
          "output_type": "stream",
          "text": [
            "0.7885428609017611\n"
          ],
          "name": "stdout"
        }
      ]
    },
    {
      "cell_type": "code",
      "metadata": {
        "id": "tmjF6Jdnp6Wk",
        "outputId": "6195cd53-e83f-4c33-e02d-a54d785ed72e",
        "colab": {
          "base_uri": "https://localhost:8080/",
          "height": 84
        }
      },
      "source": [
        "from sklearn.metrics import confusion_matrix\n",
        "\n",
        "print (\"Confusion Matrix:\\n\")\n",
        "print (confusion_matrix(Y_Test, prediction))"
      ],
      "execution_count": 20,
      "outputs": [
        {
          "output_type": "stream",
          "text": [
            "Confusion Matrix:\n",
            "\n",
            "[[23960  5693]\n",
            " [ 5558 17996]]\n"
          ],
          "name": "stdout"
        }
      ]
    },
    {
      "cell_type": "code",
      "metadata": {
        "id": "pclsh6b1p6Wm",
        "outputId": "b0d863b3-0e6a-4faf-8d8c-271554febddf",
        "colab": {
          "base_uri": "https://localhost:8080/",
          "height": 202
        }
      },
      "source": [
        "from sklearn.metrics import classification_report\n",
        "\n",
        "print (\"Classification Report:\\n\")\n",
        "print (classification_report(Y_Test, prediction))"
      ],
      "execution_count": 21,
      "outputs": [
        {
          "output_type": "stream",
          "text": [
            "Classification Report:\n",
            "\n",
            "              precision    recall  f1-score   support\n",
            "\n",
            "           0       0.81      0.81      0.81     29653\n",
            "           1       0.76      0.76      0.76     23554\n",
            "\n",
            "    accuracy                           0.79     53207\n",
            "   macro avg       0.79      0.79      0.79     53207\n",
            "weighted avg       0.79      0.79      0.79     53207\n",
            "\n"
          ],
          "name": "stdout"
        }
      ]
    },
    {
      "cell_type": "markdown",
      "metadata": {
        "id": "0lf6rzYHp6Wp"
      },
      "source": [
        "### Relevância das principais variáveis preditoras para o Modelo "
      ]
    },
    {
      "cell_type": "code",
      "metadata": {
        "id": "Ymr8HhUvp6Wp",
        "outputId": "ad631ab0-dc4c-4b1b-f47b-ac167b5522a8",
        "colab": {
          "base_uri": "https://localhost:8080/",
          "height": 67
        }
      },
      "source": [
        "model.feature_importances_"
      ],
      "execution_count": 22,
      "outputs": [
        {
          "output_type": "execute_result",
          "data": {
            "text/plain": [
              "array([0.00705197, 0.02610102, 0.03392351, 0.01223576, 0.15549681,\n",
              "       0.01583527, 0.03708251, 0.15067824, 0.23475448, 0.32153762,\n",
              "       0.00530281])"
            ]
          },
          "metadata": {
            "tags": []
          },
          "execution_count": 22
        }
      ]
    },
    {
      "cell_type": "code",
      "metadata": {
        "id": "-CgbZ4zep6Wr",
        "outputId": "e3dfbddc-8593-4c0a-9ef7-c342148de713",
        "colab": {
          "base_uri": "https://localhost:8080/",
          "height": 202
        }
      },
      "source": [
        "cols"
      ],
      "execution_count": 23,
      "outputs": [
        {
          "output_type": "execute_result",
          "data": {
            "text/plain": [
              "['idade',\n",
              " 'uf',\n",
              " 'estadocivil',\n",
              " 'clienteespecial',\n",
              " 'dtprimeiracompra',\n",
              " 'ultimomeiopagto',\n",
              " 'ultimasparcelas',\n",
              " 'perfilcompra',\n",
              " 'qtdcompratotal',\n",
              " 'vlrcomprastotal',\n",
              " 'vlrmediocompra']"
            ]
          },
          "metadata": {
            "tags": []
          },
          "execution_count": 23
        }
      ]
    },
    {
      "cell_type": "code",
      "metadata": {
        "id": "L6CRSNW5p6Wu",
        "outputId": "e9107290-0afa-4f0e-99c6-8ca1c376a629",
        "colab": {
          "base_uri": "https://localhost:8080/",
          "height": 466
        }
      },
      "source": [
        "import numpy as np\n",
        "import matplotlib.pyplot as plt\n",
        "%matplotlib inline\n",
        "\n",
        "importances = model.feature_importances_\n",
        "indices = np.argsort(importances)[::-1]\n",
        "\n",
        "plt.figure()\n",
        "plt.title(\"Variáveis mais importantes\")\n",
        "\n",
        "plt.bar(range(X.shape[1]), importances[indices], color=\"b\", align=\"center\")\n",
        "plt.xticks(range(X.shape[1]), indices)\n",
        "plt.xlim([-1, X.shape[1]])\n",
        "\n",
        "plt.show()\n",
        "\n",
        "# Mostrar legenda abaixo do gráfico\n",
        "for i in range(0,len(cols)):\n",
        "    print (str(i)+' - '+ cols[i] +' --> '+ str(model.feature_importances_[i]))"
      ],
      "execution_count": 24,
      "outputs": [
        {
          "output_type": "display_data",
          "data": {
            "image/png": "[encoded data removed]",
            "text/plain": [
              "<Figure size 432x288 with 1 Axes>"
            ]
          },
          "metadata": {
            "tags": [],
            "needs_background": "light"
          }
        },
        {
          "output_type": "stream",
          "text": [
            "0 - idade --> 0.007051969942831967\n",
            "1 - uf --> 0.026101016040408386\n",
            "2 - estadocivil --> 0.03392351021374655\n",
            "3 - clienteespecial --> 0.012235759700559071\n",
            "4 - dtprimeiracompra --> 0.15549681317825612\n",
            "5 - ultimomeiopagto --> 0.015835274285440293\n",
            "6 - ultimasparcelas --> 0.03708251269883281\n",
            "7 - perfilcompra --> 0.15067823904088587\n",
            "8 - qtdcompratotal --> 0.2347544775703878\n",
            "9 - vlrcomprastotal --> 0.3215376210724083\n",
            "10 - vlrmediocompra --> 0.005302806256242765\n"
          ],
          "name": "stdout"
        }
      ]
    },
    {
      "cell_type": "markdown",
      "metadata": {
        "id": "PiQeXYsEp6Wx"
      },
      "source": [
        "### Verificando a correlação entre as variáveis"
      ]
    },
    {
      "cell_type": "code",
      "metadata": {
        "id": "3aN0O9OEp6Wy",
        "outputId": "232eed8e-e21c-410d-d83d-d36346bd6f2c",
        "colab": {
          "base_uri": "https://localhost:8080/",
          "height": 511
        }
      },
      "source": [
        "df.corr()"
      ],
      "execution_count": 25,
      "outputs": [
        {
          "output_type": "execute_result",
          "data": {
            "text/html": [
              "<div>\n",
              "<style scoped>\n",
              "    .dataframe tbody tr th:only-of-type {\n",
              "        vertical-align: middle;\n",
              "    }\n",
              "\n",
              "    .dataframe tbody tr th {\n",
              "        vertical-align: top;\n",
              "    }\n",
              "\n",
              "    .dataframe thead th {\n",
              "        text-align: right;\n",
              "    }\n",
              "</style>\n",
              "<table border=\"1\" class=\"dataframe\">\n",
              "  <thead>\n",
              "    <tr style=\"text-align: right;\">\n",
              "      <th></th>\n",
              "      <th>id</th>\n",
              "      <th>idade</th>\n",
              "      <th>uf</th>\n",
              "      <th>estadocivil</th>\n",
              "      <th>clienteespecial</th>\n",
              "      <th>dtprimeiracompra</th>\n",
              "      <th>ultimomeiopagto</th>\n",
              "      <th>ultimasparcelas</th>\n",
              "      <th>recencia</th>\n",
              "      <th>scorecompra</th>\n",
              "      <th>perfilcompra</th>\n",
              "      <th>qtdcompratotal</th>\n",
              "      <th>vlrcomprastotal</th>\n",
              "      <th>vlrmediocompra</th>\n",
              "      <th>propenso</th>\n",
              "    </tr>\n",
              "  </thead>\n",
              "  <tbody>\n",
              "    <tr>\n",
              "      <th>id</th>\n",
              "      <td>1.000000</td>\n",
              "      <td>0.067596</td>\n",
              "      <td>-0.057365</td>\n",
              "      <td>0.019272</td>\n",
              "      <td>0.022666</td>\n",
              "      <td>0.033765</td>\n",
              "      <td>0.002980</td>\n",
              "      <td>0.004257</td>\n",
              "      <td>0.033586</td>\n",
              "      <td>-0.049745</td>\n",
              "      <td>-0.050499</td>\n",
              "      <td>-0.022259</td>\n",
              "      <td>-0.005139</td>\n",
              "      <td>0.023414</td>\n",
              "      <td>-0.031651</td>\n",
              "    </tr>\n",
              "    <tr>\n",
              "      <th>idade</th>\n",
              "      <td>0.067596</td>\n",
              "      <td>1.000000</td>\n",
              "      <td>0.022161</td>\n",
              "      <td>0.079032</td>\n",
              "      <td>0.083755</td>\n",
              "      <td>0.101954</td>\n",
              "      <td>0.024166</td>\n",
              "      <td>0.012721</td>\n",
              "      <td>0.074911</td>\n",
              "      <td>-0.079060</td>\n",
              "      <td>-0.114754</td>\n",
              "      <td>0.007187</td>\n",
              "      <td>0.018520</td>\n",
              "      <td>0.012819</td>\n",
              "      <td>-0.022520</td>\n",
              "    </tr>\n",
              "    <tr>\n",
              "      <th>uf</th>\n",
              "      <td>-0.057365</td>\n",
              "      <td>0.022161</td>\n",
              "      <td>1.000000</td>\n",
              "      <td>0.186844</td>\n",
              "      <td>0.080116</td>\n",
              "      <td>0.233197</td>\n",
              "      <td>0.019041</td>\n",
              "      <td>-0.006379</td>\n",
              "      <td>0.081532</td>\n",
              "      <td>-0.085716</td>\n",
              "      <td>0.033725</td>\n",
              "      <td>0.052920</td>\n",
              "      <td>0.029456</td>\n",
              "      <td>-0.037439</td>\n",
              "      <td>-0.085689</td>\n",
              "    </tr>\n",
              "    <tr>\n",
              "      <th>estadocivil</th>\n",
              "      <td>0.019272</td>\n",
              "      <td>0.079032</td>\n",
              "      <td>0.186844</td>\n",
              "      <td>1.000000</td>\n",
              "      <td>0.212235</td>\n",
              "      <td>0.354504</td>\n",
              "      <td>0.054906</td>\n",
              "      <td>0.017050</td>\n",
              "      <td>0.113378</td>\n",
              "      <td>-0.084815</td>\n",
              "      <td>-0.063833</td>\n",
              "      <td>0.104941</td>\n",
              "      <td>0.080455</td>\n",
              "      <td>-0.029159</td>\n",
              "      <td>-0.028464</td>\n",
              "    </tr>\n",
              "    <tr>\n",
              "      <th>clienteespecial</th>\n",
              "      <td>0.022666</td>\n",
              "      <td>0.083755</td>\n",
              "      <td>0.080116</td>\n",
              "      <td>0.212235</td>\n",
              "      <td>1.000000</td>\n",
              "      <td>0.424617</td>\n",
              "      <td>-0.006028</td>\n",
              "      <td>0.127740</td>\n",
              "      <td>-0.041646</td>\n",
              "      <td>0.080533</td>\n",
              "      <td>-0.077232</td>\n",
              "      <td>0.379221</td>\n",
              "      <td>0.354429</td>\n",
              "      <td>-0.024843</td>\n",
              "      <td>0.138516</td>\n",
              "    </tr>\n",
              "    <tr>\n",
              "      <th>dtprimeiracompra</th>\n",
              "      <td>0.033765</td>\n",
              "      <td>0.101954</td>\n",
              "      <td>0.233197</td>\n",
              "      <td>0.354504</td>\n",
              "      <td>0.424617</td>\n",
              "      <td>1.000000</td>\n",
              "      <td>0.037256</td>\n",
              "      <td>0.048138</td>\n",
              "      <td>0.166454</td>\n",
              "      <td>-0.045881</td>\n",
              "      <td>0.085115</td>\n",
              "      <td>0.335001</td>\n",
              "      <td>0.271489</td>\n",
              "      <td>-0.096637</td>\n",
              "      <td>-0.027995</td>\n",
              "    </tr>\n",
              "    <tr>\n",
              "      <th>ultimomeiopagto</th>\n",
              "      <td>0.002980</td>\n",
              "      <td>0.024166</td>\n",
              "      <td>0.019041</td>\n",
              "      <td>0.054906</td>\n",
              "      <td>-0.006028</td>\n",
              "      <td>0.037256</td>\n",
              "      <td>1.000000</td>\n",
              "      <td>-0.395491</td>\n",
              "      <td>0.092745</td>\n",
              "      <td>-0.072753</td>\n",
              "      <td>-0.133066</td>\n",
              "      <td>-0.010252</td>\n",
              "      <td>-0.033604</td>\n",
              "      <td>-0.035482</td>\n",
              "      <td>0.010780</td>\n",
              "    </tr>\n",
              "    <tr>\n",
              "      <th>ultimasparcelas</th>\n",
              "      <td>0.004257</td>\n",
              "      <td>0.012721</td>\n",
              "      <td>-0.006379</td>\n",
              "      <td>0.017050</td>\n",
              "      <td>0.127740</td>\n",
              "      <td>0.048138</td>\n",
              "      <td>-0.395491</td>\n",
              "      <td>1.000000</td>\n",
              "      <td>-0.114189</td>\n",
              "      <td>0.172284</td>\n",
              "      <td>-0.062292</td>\n",
              "      <td>0.086549</td>\n",
              "      <td>0.174947</td>\n",
              "      <td>0.243173</td>\n",
              "      <td>0.204241</td>\n",
              "    </tr>\n",
              "    <tr>\n",
              "      <th>recencia</th>\n",
              "      <td>0.033586</td>\n",
              "      <td>0.074911</td>\n",
              "      <td>0.081532</td>\n",
              "      <td>0.113378</td>\n",
              "      <td>-0.041646</td>\n",
              "      <td>0.166454</td>\n",
              "      <td>0.092745</td>\n",
              "      <td>-0.114189</td>\n",
              "      <td>1.000000</td>\n",
              "      <td>-0.721957</td>\n",
              "      <td>-0.203408</td>\n",
              "      <td>-0.271808</td>\n",
              "      <td>-0.274626</td>\n",
              "      <td>-0.062025</td>\n",
              "      <td>-0.485610</td>\n",
              "    </tr>\n",
              "    <tr>\n",
              "      <th>scorecompra</th>\n",
              "      <td>-0.049745</td>\n",
              "      <td>-0.079060</td>\n",
              "      <td>-0.085716</td>\n",
              "      <td>-0.084815</td>\n",
              "      <td>0.080533</td>\n",
              "      <td>-0.045881</td>\n",
              "      <td>-0.072753</td>\n",
              "      <td>0.172284</td>\n",
              "      <td>-0.721957</td>\n",
              "      <td>1.000000</td>\n",
              "      <td>0.256742</td>\n",
              "      <td>0.396501</td>\n",
              "      <td>0.401892</td>\n",
              "      <td>0.092800</td>\n",
              "      <td>0.660571</td>\n",
              "    </tr>\n",
              "    <tr>\n",
              "      <th>perfilcompra</th>\n",
              "      <td>-0.050499</td>\n",
              "      <td>-0.114754</td>\n",
              "      <td>0.033725</td>\n",
              "      <td>-0.063833</td>\n",
              "      <td>-0.077232</td>\n",
              "      <td>0.085115</td>\n",
              "      <td>-0.133066</td>\n",
              "      <td>-0.062292</td>\n",
              "      <td>-0.203408</td>\n",
              "      <td>0.256742</td>\n",
              "      <td>1.000000</td>\n",
              "      <td>0.134404</td>\n",
              "      <td>0.096480</td>\n",
              "      <td>-0.007332</td>\n",
              "      <td>-0.063658</td>\n",
              "    </tr>\n",
              "    <tr>\n",
              "      <th>qtdcompratotal</th>\n",
              "      <td>-0.022259</td>\n",
              "      <td>0.007187</td>\n",
              "      <td>0.052920</td>\n",
              "      <td>0.104941</td>\n",
              "      <td>0.379221</td>\n",
              "      <td>0.335001</td>\n",
              "      <td>-0.010252</td>\n",
              "      <td>0.086549</td>\n",
              "      <td>-0.271808</td>\n",
              "      <td>0.396501</td>\n",
              "      <td>0.134404</td>\n",
              "      <td>1.000000</td>\n",
              "      <td>0.768222</td>\n",
              "      <td>-0.068219</td>\n",
              "      <td>0.302431</td>\n",
              "    </tr>\n",
              "    <tr>\n",
              "      <th>vlrcomprastotal</th>\n",
              "      <td>-0.005139</td>\n",
              "      <td>0.018520</td>\n",
              "      <td>0.029456</td>\n",
              "      <td>0.080455</td>\n",
              "      <td>0.354429</td>\n",
              "      <td>0.271489</td>\n",
              "      <td>-0.033604</td>\n",
              "      <td>0.174947</td>\n",
              "      <td>-0.274626</td>\n",
              "      <td>0.401892</td>\n",
              "      <td>0.096480</td>\n",
              "      <td>0.768222</td>\n",
              "      <td>1.000000</td>\n",
              "      <td>0.271746</td>\n",
              "      <td>0.309697</td>\n",
              "    </tr>\n",
              "    <tr>\n",
              "      <th>vlrmediocompra</th>\n",
              "      <td>0.023414</td>\n",
              "      <td>0.012819</td>\n",
              "      <td>-0.037439</td>\n",
              "      <td>-0.029159</td>\n",
              "      <td>-0.024843</td>\n",
              "      <td>-0.096637</td>\n",
              "      <td>-0.035482</td>\n",
              "      <td>0.243173</td>\n",
              "      <td>-0.062025</td>\n",
              "      <td>0.092800</td>\n",
              "      <td>-0.007332</td>\n",
              "      <td>-0.068219</td>\n",
              "      <td>0.271746</td>\n",
              "      <td>1.000000</td>\n",
              "      <td>0.076132</td>\n",
              "    </tr>\n",
              "    <tr>\n",
              "      <th>propenso</th>\n",
              "      <td>-0.031651</td>\n",
              "      <td>-0.022520</td>\n",
              "      <td>-0.085689</td>\n",
              "      <td>-0.028464</td>\n",
              "      <td>0.138516</td>\n",
              "      <td>-0.027995</td>\n",
              "      <td>0.010780</td>\n",
              "      <td>0.204241</td>\n",
              "      <td>-0.485610</td>\n",
              "      <td>0.660571</td>\n",
              "      <td>-0.063658</td>\n",
              "      <td>0.302431</td>\n",
              "      <td>0.309697</td>\n",
              "      <td>0.076132</td>\n",
              "      <td>1.000000</td>\n",
              "    </tr>\n",
              "  </tbody>\n",
              "</table>\n",
              "</div>"
            ],
            "text/plain": [
              "                        id     idade  ...  vlrmediocompra  propenso\n",
              "id                1.000000  0.067596  ...        0.023414 -0.031651\n",
              "idade             0.067596  1.000000  ...        0.012819 -0.022520\n",
              "uf               -0.057365  0.022161  ...       -0.037439 -0.085689\n",
              "estadocivil       0.019272  0.079032  ...       -0.029159 -0.028464\n",
              "clienteespecial   0.022666  0.083755  ...       -0.024843  0.138516\n",
              "dtprimeiracompra  0.033765  0.101954  ...       -0.096637 -0.027995\n",
              "ultimomeiopagto   0.002980  0.024166  ...       -0.035482  0.010780\n",
              "ultimasparcelas   0.004257  0.012721  ...        0.243173  0.204241\n",
              "recencia          0.033586  0.074911  ...       -0.062025 -0.485610\n",
              "scorecompra      -0.049745 -0.079060  ...        0.092800  0.660571\n",
              "perfilcompra     -0.050499 -0.114754  ...       -0.007332 -0.063658\n",
              "qtdcompratotal   -0.022259  0.007187  ...       -0.068219  0.302431\n",
              "vlrcomprastotal  -0.005139  0.018520  ...        0.271746  0.309697\n",
              "vlrmediocompra    0.023414  0.012819  ...        1.000000  0.076132\n",
              "propenso         -0.031651 -0.022520  ...        0.076132  1.000000\n",
              "\n",
              "[15 rows x 15 columns]"
            ]
          },
          "metadata": {
            "tags": []
          },
          "execution_count": 25
        }
      ]
    },
    {
      "cell_type": "markdown",
      "metadata": {
        "collapsed": true,
        "id": "KIXEkR3Op6W1"
      },
      "source": [
        "#### Aprenda mais sobre \"scikit-learn\": \n",
        "\n",
        "https://scikit-learn.org/stable/"
      ]
    }
  ]
}