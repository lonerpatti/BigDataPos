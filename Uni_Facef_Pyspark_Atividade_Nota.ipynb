{
  "nbformat": 4,
  "nbformat_minor": 0,
  "metadata": {
    "kernelspec": {
      "display_name": "Python 3",
      "language": "python",
      "name": "python3"
    },
    "language_info": {
      "codemirror_mode": {
        "name": "ipython",
        "version": 3
      },
      "file_extension": ".py",
      "mimetype": "text/x-python",
      "name": "python",
      "nbconvert_exporter": "python",
      "pygments_lexer": "ipython3",
      "version": "3.7.3"
    },
    "colab": {
      "name": "Uni-Facef - Pyspark - Atividade Nota.ipynb",
      "provenance": [],
      "collapsed_sections": [],
      "include_colab_link": true
    }
  },
  "cells": [
    {
      "cell_type": "markdown",
      "metadata": {
        "id": "view-in-github",
        "colab_type": "text"
      },
      "source": [
        "<a href=\"https://colab.research.google.com/github/lonerpatti/BigDataPos/blob/main/Uni_Facef_Pyspark_Atividade_Nota.ipynb\" target=\"_parent\"><img src=\"https://colab.research.google.com/assets/colab-badge.svg\" alt=\"Open In Colab\"/></a>"
      ]
    },
    {
      "cell_type": "markdown",
      "metadata": {
        "id": "skP_h4ommXyC"
      },
      "source": [
        "# Nova seção"
      ]
    },
    {
      "cell_type": "markdown",
      "metadata": {
        "id": "ncRmB44pziG9"
      },
      "source": [
        "Essa atividade tem como objetivo descobrir um pouco mais sobre o cliente e traçar um perfil do mesmo. Visto que temos as informações pessoais do cliemte em um arquivo chamado \"cliente_fake.csv\", e os dados transacionais desse cliente no arquivo chamado \"venda_fake\". E idéia do exercicio é a manipulação dos dados de forma a fazer agregações, join nos dados, podendo ser necessário o uso de UDFs, gerando um Dataframe Final:\n",
        "\n",
        "#### O Dataframe final deve estar agrupado por cliente (cliente_id), e conter as seguintes informações:\n",
        "\n",
        "- cliente_id - O identificador do cliente\n",
        "- idade - Calcular a idade do cliente (valor inteiro)\n",
        "- recencia - Calcular a quantos meses faz que o cliente não compra (valor inteiro)\n",
        "- qt_total_compras - Quantidade total de compras (pedidos distintos)\n",
        "- vr_total_compras = Valor total de compras do cliente\n",
        "- qt_total_itens - Quantidade total de itens comprados pelo cliente (produto_id distintos)\n",
        "- qt_max_parcelas - Quantidade máxima de parcelas que o cliente já utilizou\n",
        "- perfil_cliente - Deve mostrar o perfil de compra desse cliente, se compra somente \"loja\" ou somente \"online\", ou em ambos \"multicanal\";\n",
        "\n",
        "OBS: O dataset \"venda_fake\" está a nível de itens. Pode haver mais de um item por pedido, isto é, o numero do pedido pode estar duplicado nodataset.\n"
      ]
    },
    {
      "cell_type": "markdown",
      "metadata": {
        "id": "edR6txT5ziG7"
      },
      "source": [
        "# <font color='blue'>Uni-Facef - Pyspark - Atividade</font>"
      ]
    },
    {
      "cell_type": "code",
      "metadata": {
        "id": "CJ00xnZB0ETp",
        "outputId": "6e874bdd-8d25-4272-f344-4b252598d95a",
        "colab": {
          "resources": {
            "http://localhost:8080/nbextensions/google.colab/files.js": {
              "data": "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",
              "ok": true,
              "headers": [
                [
                  "content-type",
                  "application/javascript"
                ]
              ],
              "status": 200,
              "status_text": ""
            }
          },
          "base_uri": "https://localhost:8080/",
          "height": 106
        }
      },
      "source": [
        "from google.colab import files\n",
        "uploaded = files.upload()"
      ],
      "execution_count": 2,
      "outputs": [
        {
          "output_type": "display_data",
          "data": {
            "text/html": [
              "\n",
              "     <input type=\"file\" id=\"files-c5dd7579-886c-4674-b40c-16e6efe84676\" name=\"files[]\" multiple disabled\n",
              "        style=\"border:none\" />\n",
              "     <output id=\"result-c5dd7579-886c-4674-b40c-16e6efe84676\">\n",
              "      Upload widget is only available when the cell has been executed in the\n",
              "      current browser session. Please rerun this cell to enable.\n",
              "      </output>\n",
              "      <script src=\"/nbextensions/google.colab/files.js\"></script> "
            ],
            "text/plain": [
              "<IPython.core.display.HTML object>"
            ]
          },
          "metadata": {
            "tags": []
          }
        },
        {
          "output_type": "stream",
          "text": [
            "Saving cliente_fake.csv to cliente_fake.csv\n",
            "Saving venda_fake.csv to venda_fake.csv\n"
          ],
          "name": "stdout"
        }
      ]
    },
    {
      "cell_type": "code",
      "metadata": {
        "id": "nXRgfm9wziG-",
        "outputId": "62d72428-4960-4b8b-8f81-7d445d1fed18",
        "colab": {
          "base_uri": "https://localhost:8080/"
        }
      },
      "source": [
        "!pip install pyspark"
      ],
      "execution_count": 3,
      "outputs": [
        {
          "output_type": "stream",
          "text": [
            "Collecting pyspark\n",
            "\u001b[?25l  Downloading https://files.pythonhosted.org/packages/f0/26/198fc8c0b98580f617cb03cb298c6056587b8f0447e20fa40c5b634ced77/pyspark-3.0.1.tar.gz (204.2MB)\n",
            "\u001b[K     |████████████████████████████████| 204.2MB 66kB/s \n",
            "\u001b[?25hCollecting py4j==0.10.9\n",
            "\u001b[?25l  Downloading https://files.pythonhosted.org/packages/9e/b6/6a4fb90cd235dc8e265a6a2067f2a2c99f0d91787f06aca4bcf7c23f3f80/py4j-0.10.9-py2.py3-none-any.whl (198kB)\n",
            "\u001b[K     |████████████████████████████████| 204kB 42.8MB/s \n",
            "\u001b[?25hBuilding wheels for collected packages: pyspark\n",
            "  Building wheel for pyspark (setup.py) ... \u001b[?25l\u001b[?25hdone\n",
            "  Created wheel for pyspark: filename=pyspark-3.0.1-py2.py3-none-any.whl size=204612243 sha256=efde85e7814af8a5f86691586ec67524c4bc9162097343048a862241f038fa4c\n",
            "  Stored in directory: /root/.cache/pip/wheels/5e/bd/07/031766ca628adec8435bb40f0bd83bb676ce65ff4007f8e73f\n",
            "Successfully built pyspark\n",
            "Installing collected packages: py4j, pyspark\n",
            "Successfully installed py4j-0.10.9 pyspark-3.0.1\n"
          ],
          "name": "stdout"
        }
      ]
    },
    {
      "cell_type": "code",
      "metadata": {
        "id": "0fUL-5OTziHF"
      },
      "source": [
        "# coding: utf-8\n",
        "from pyspark.sql import SparkSession\n",
        "import pyspark.sql.functions as f"
      ],
      "execution_count": 5,
      "outputs": []
    },
    {
      "cell_type": "code",
      "metadata": {
        "id": "lbSHDuBgsfdN",
        "outputId": "f0b8bc1b-1df4-4ec2-b724-33255d303034",
        "colab": {
          "base_uri": "https://localhost:8080/"
        }
      },
      "source": [
        "dir(f)"
      ],
      "execution_count": 6,
      "outputs": [
        {
          "output_type": "execute_result",
          "data": {
            "text/plain": [
              "['Column',\n",
              " 'DataFrame',\n",
              " 'DataType',\n",
              " 'PandasUDFType',\n",
              " 'PythonEvalType',\n",
              " 'SparkContext',\n",
              " 'StringType',\n",
              " 'UserDefinedFunction',\n",
              " '__all__',\n",
              " '__builtins__',\n",
              " '__cached__',\n",
              " '__doc__',\n",
              " '__file__',\n",
              " '__loader__',\n",
              " '__name__',\n",
              " '__package__',\n",
              " '__spec__',\n",
              " '_binary_mathfunctions',\n",
              " '_collect_list_doc',\n",
              " '_collect_set_doc',\n",
              " '_create_binary_mathfunction',\n",
              " '_create_column_from_literal',\n",
              " '_create_column_from_name',\n",
              " '_create_function',\n",
              " '_create_function_over_column',\n",
              " '_create_udf',\n",
              " '_create_window_function',\n",
              " '_functions',\n",
              " '_functions_1_4_over_column',\n",
              " '_functions_1_6_over_column',\n",
              " '_functions_2_1_over_column',\n",
              " '_functions_2_4',\n",
              " '_functions_deprecated',\n",
              " '_functions_over_column',\n",
              " '_lit_doc',\n",
              " '_message',\n",
              " '_options_to_str',\n",
              " '_string_functions',\n",
              " '_test',\n",
              " '_to_java_column',\n",
              " '_to_seq',\n",
              " '_window_functions',\n",
              " '_wrap_deprecated_function',\n",
              " 'abs',\n",
              " 'acos',\n",
              " 'add_months',\n",
              " 'approxCountDistinct',\n",
              " 'approx_count_distinct',\n",
              " 'array',\n",
              " 'array_contains',\n",
              " 'array_distinct',\n",
              " 'array_except',\n",
              " 'array_intersect',\n",
              " 'array_join',\n",
              " 'array_max',\n",
              " 'array_min',\n",
              " 'array_position',\n",
              " 'array_remove',\n",
              " 'array_repeat',\n",
              " 'array_sort',\n",
              " 'array_union',\n",
              " 'arrays_overlap',\n",
              " 'arrays_zip',\n",
              " 'asc',\n",
              " 'asc_nulls_first',\n",
              " 'asc_nulls_last',\n",
              " 'ascii',\n",
              " 'asin',\n",
              " 'atan',\n",
              " 'atan2',\n",
              " 'avg',\n",
              " 'base64',\n",
              " 'basestring',\n",
              " 'bin',\n",
              " 'bitwiseNOT',\n",
              " 'blacklist',\n",
              " 'broadcast',\n",
              " 'bround',\n",
              " 'cbrt',\n",
              " 'ceil',\n",
              " 'coalesce',\n",
              " 'col',\n",
              " 'collect_list',\n",
              " 'collect_set',\n",
              " 'column',\n",
              " 'concat',\n",
              " 'concat_ws',\n",
              " 'conv',\n",
              " 'corr',\n",
              " 'cos',\n",
              " 'cosh',\n",
              " 'count',\n",
              " 'countDistinct',\n",
              " 'covar_pop',\n",
              " 'covar_samp',\n",
              " 'crc32',\n",
              " 'create_map',\n",
              " 'cume_dist',\n",
              " 'current_date',\n",
              " 'current_timestamp',\n",
              " 'date_add',\n",
              " 'date_format',\n",
              " 'date_sub',\n",
              " 'date_trunc',\n",
              " 'datediff',\n",
              " 'dayofmonth',\n",
              " 'dayofweek',\n",
              " 'dayofyear',\n",
              " 'decode',\n",
              " 'degrees',\n",
              " 'dense_rank',\n",
              " 'desc',\n",
              " 'desc_nulls_first',\n",
              " 'desc_nulls_last',\n",
              " 'element_at',\n",
              " 'encode',\n",
              " 'exp',\n",
              " 'explode',\n",
              " 'explode_outer',\n",
              " 'expm1',\n",
              " 'expr',\n",
              " 'factorial',\n",
              " 'first',\n",
              " 'flatten',\n",
              " 'floor',\n",
              " 'format_number',\n",
              " 'format_string',\n",
              " 'from_csv',\n",
              " 'from_json',\n",
              " 'from_unixtime',\n",
              " 'from_utc_timestamp',\n",
              " 'functools',\n",
              " 'get_json_object',\n",
              " 'greatest',\n",
              " 'grouping',\n",
              " 'grouping_id',\n",
              " 'hash',\n",
              " 'hex',\n",
              " 'hour',\n",
              " 'hypot',\n",
              " 'ignore_unicode_prefix',\n",
              " 'initcap',\n",
              " 'input_file_name',\n",
              " 'instr',\n",
              " 'isnan',\n",
              " 'isnull',\n",
              " 'json_tuple',\n",
              " 'kurtosis',\n",
              " 'lag',\n",
              " 'last',\n",
              " 'last_day',\n",
              " 'lead',\n",
              " 'least',\n",
              " 'length',\n",
              " 'levenshtein',\n",
              " 'lit',\n",
              " 'locate',\n",
              " 'log',\n",
              " 'log10',\n",
              " 'log1p',\n",
              " 'log2',\n",
              " 'lower',\n",
              " 'lpad',\n",
              " 'ltrim',\n",
              " 'map_concat',\n",
              " 'map_entries',\n",
              " 'map_from_arrays',\n",
              " 'map_from_entries',\n",
              " 'map_keys',\n",
              " 'map_values',\n",
              " 'max',\n",
              " 'md5',\n",
              " 'mean',\n",
              " 'min',\n",
              " 'minute',\n",
              " 'monotonically_increasing_id',\n",
              " 'month',\n",
              " 'months_between',\n",
              " 'nanvl',\n",
              " 'next_day',\n",
              " 'ntile',\n",
              " 'overlay',\n",
              " 'pandas_udf',\n",
              " 'percent_rank',\n",
              " 'posexplode',\n",
              " 'posexplode_outer',\n",
              " 'pow',\n",
              " 'quarter',\n",
              " 'radians',\n",
              " 'rand',\n",
              " 'randn',\n",
              " 'rank',\n",
              " 'regexp_extract',\n",
              " 'regexp_replace',\n",
              " 'repeat',\n",
              " 'reverse',\n",
              " 'rint',\n",
              " 'round',\n",
              " 'row_number',\n",
              " 'rpad',\n",
              " 'rtrim',\n",
              " 'schema_of_csv',\n",
              " 'schema_of_json',\n",
              " 'second',\n",
              " 'sequence',\n",
              " 'sha1',\n",
              " 'sha2',\n",
              " 'shiftLeft',\n",
              " 'shiftRight',\n",
              " 'shiftRightUnsigned',\n",
              " 'shuffle',\n",
              " 'signum',\n",
              " 'sin',\n",
              " 'since',\n",
              " 'sinh',\n",
              " 'size',\n",
              " 'skewness',\n",
              " 'slice',\n",
              " 'sort_array',\n",
              " 'soundex',\n",
              " 'spark_partition_id',\n",
              " 'split',\n",
              " 'sqrt',\n",
              " 'stddev',\n",
              " 'stddev_pop',\n",
              " 'stddev_samp',\n",
              " 'struct',\n",
              " 'substring',\n",
              " 'substring_index',\n",
              " 'sum',\n",
              " 'sumDistinct',\n",
              " 'sys',\n",
              " 'tan',\n",
              " 'tanh',\n",
              " 'toDegrees',\n",
              " 'toRadians',\n",
              " 'to_csv',\n",
              " 'to_date',\n",
              " 'to_json',\n",
              " 'to_str',\n",
              " 'to_timestamp',\n",
              " 'to_utc_timestamp',\n",
              " 'translate',\n",
              " 'trim',\n",
              " 'trunc',\n",
              " 'udf',\n",
              " 'unbase64',\n",
              " 'unhex',\n",
              " 'unix_timestamp',\n",
              " 'upper',\n",
              " 'var_pop',\n",
              " 'var_samp',\n",
              " 'variance',\n",
              " 'warnings',\n",
              " 'weekofyear',\n",
              " 'when',\n",
              " 'window',\n",
              " 'xxhash64',\n",
              " 'year']"
            ]
          },
          "metadata": {
            "tags": []
          },
          "execution_count": 6
        }
      ]
    },
    {
      "cell_type": "code",
      "metadata": {
        "id": "lK9kplfOziHN",
        "outputId": "bc028ee1-8d68-4110-da88-1a5746b79c4f",
        "colab": {
          "base_uri": "https://localhost:8080/"
        }
      },
      "source": [
        "spark = SparkSession.builder \\\n",
        "    .appName('ConhecendoCliente') \\\n",
        "    .getOrCreate()\n",
        "\n",
        "type(spark)"
      ],
      "execution_count": 7,
      "outputs": [
        {
          "output_type": "execute_result",
          "data": {
            "text/plain": [
              "pyspark.sql.session.SparkSession"
            ]
          },
          "metadata": {
            "tags": []
          },
          "execution_count": 7
        }
      ]
    },
    {
      "cell_type": "markdown",
      "metadata": {
        "id": "kAVbcF48ziHW"
      },
      "source": [
        "#### Dataset de cliente"
      ]
    },
    {
      "cell_type": "code",
      "metadata": {
        "id": "U6X8ZxtCziHX",
        "outputId": "fc4f0e9c-937a-4994-f14d-0366de0cf03d",
        "colab": {
          "base_uri": "https://localhost:8080/"
        }
      },
      "source": [
        "df_cliente = spark.read \\\n",
        "    .option(\"delimiter\", \"|\") \\\n",
        "    .csv('cliente_fake.csv', header=True)\n",
        "\n",
        "df_cliente.show(50)"
      ],
      "execution_count": 8,
      "outputs": [
        {
          "output_type": "stream",
          "text": [
            "+--------------+----------+-------------+\n",
            "|          nome|cliente_id|dt_nascimento|\n",
            "+--------------+----------+-------------+\n",
            "|Cliente 100013|    100013|   1964-06-21|\n",
            "|Cliente 100014|    100014|   1964-05-24|\n",
            "|Cliente 100015|    100015|   1946-10-18|\n",
            "|Cliente 100016|    100016|   1972-03-24|\n",
            "|Cliente 100017|    100017|   1982-01-19|\n",
            "|Cliente 100018|    100018|   1983-04-26|\n",
            "|Cliente 100019|    100019|   1971-09-09|\n",
            "|Cliente 100020|    100020|   1989-06-18|\n",
            "|Cliente 100007|    100007|   1976-11-04|\n",
            "|Cliente 100008|    100008|   1980-12-01|\n",
            "|Cliente 100009|    100009|   1981-03-05|\n",
            "|Cliente 100010|    100010|   1984-03-20|\n",
            "|Cliente 100011|    100011|   1977-11-22|\n",
            "|Cliente 100012|    100012|   1974-02-04|\n",
            "|Cliente 100001|    100001|   2009-04-16|\n",
            "|Cliente 100002|    100002|   1974-08-29|\n",
            "|Cliente 100003|    100003|   1981-12-05|\n",
            "|Cliente 100004|    100004|   1968-08-08|\n",
            "|Cliente 100005|    100005|   1982-11-29|\n",
            "|Cliente 100006|    100006|   1948-04-01|\n",
            "+--------------+----------+-------------+\n",
            "\n"
          ],
          "name": "stdout"
        }
      ]
    },
    {
      "cell_type": "code",
      "metadata": {
        "id": "qLCh5yqKCTIe",
        "outputId": "2e05e88e-07b5-46d5-c212-9a9744dabfe3",
        "colab": {
          "base_uri": "https://localhost:8080/"
        }
      },
      "source": [
        "df_cliente.printSchema()"
      ],
      "execution_count": 9,
      "outputs": [
        {
          "output_type": "stream",
          "text": [
            "root\n",
            " |-- nome: string (nullable = true)\n",
            " |-- cliente_id: string (nullable = true)\n",
            " |-- dt_nascimento: string (nullable = true)\n",
            "\n"
          ],
          "name": "stdout"
        }
      ]
    },
    {
      "cell_type": "markdown",
      "metadata": {
        "id": "IpCox8BQziHa"
      },
      "source": [
        "#### Dataset de pedido"
      ]
    },
    {
      "cell_type": "code",
      "metadata": {
        "id": "I0RhbmRNziHb",
        "outputId": "6f993c9d-d200-4e45-c6d0-bb0bc9232f63",
        "colab": {
          "base_uri": "https://localhost:8080/"
        }
      },
      "source": [
        "df_venda = spark.read \\\n",
        "    .option(\"delimiter\", \"|\") \\\n",
        "    .csv('venda_fake.csv', header=True)\n",
        "\n",
        "df_venda.show(50)"
      ],
      "execution_count": 10,
      "outputs": [
        {
          "output_type": "stream",
          "text": [
            "+--------------+----------+--------------------+----------+-----------+--------------+------------+-------+--------+\n",
            "|     pedido_id|cliente_id|           dt_pedido|produto_id|qt_parcelas|   forma_pagto|vr_unit_item|qt_item|tp_canal|\n",
            "+--------------+----------+--------------------+----------+-----------+--------------+------------+-------+--------+\n",
            "|10000720200217|    100007|2020-02-17T00:00:...|   6253644|         20|cartao credito|         478|      1|    loja|\n",
            "|10000720200217|    100007|2020-02-17T00:00:...|   5313408|         20|cartao credito|      1357.2|      1|    loja|\n",
            "|10000720200217|    100007|2020-02-17T00:00:...|   6253140|         20|cartao credito|         372|      1|    loja|\n",
            "|10000720200625|    100007|2020-06-25T00:00:...|   6858780|          7|cartao credito|       317.8|      1|    site|\n",
            "|10000120200626|    100001|2020-06-26T00:00:...|   7560984|         16|cartao credito|     1399.04|      1|    loja|\n",
            "|10000920200614|    100009|2020-06-14T00:00:...|   7571280|         20|cartao credito|         990|      1|    loja|\n",
            "|10000920191209|    100009|2019-12-09T00:00:...|   7318728|         15|cartao credito|         999|      1|    loja|\n",
            "|10000920200614|    100009|2020-06-14T00:00:...|   7571436|         20|cartao credito|        1190|      1|    loja|\n",
            "|10000920200612|    100009|2020-06-12T00:00:...|   7571508|         20|cartao credito|        1299|      1|    loja|\n",
            "|10000520200214|    100005|2020-02-14T00:00:...|   7589448|         13|         carne|     1242.28|      1|    loja|\n",
            "|10000520200121|    100005|2020-01-21T00:00:...|   7197636|         15|         carne|        1965|      1|    loja|\n",
            "|10001720200103|    100017|2020-01-03T00:00:...|   3682128|         17|cartao credito|     2892.18|      1|    loja|\n",
            "|10001720200103|    100017|2020-01-03T00:00:...|   7537476|         17|cartao credito|      1284.7|      1|    loja|\n",
            "|10002020200731|    100020|2020-07-31T00:00:...|   7079940|         11|        outros|        5.69|      1|    loja|\n",
            "|10002020200731|    100020|2020-07-31T00:00:...|   7571232|         11|        outros|      749.97|      1|    loja|\n",
            "|10001920200604|    100019|2020-06-04T00:00:...|   6117516|         13|cartao credito|     2598.96|      1|    loja|\n",
            "|10001920200424|    100019|2020-04-24T00:00:...|   7692780|         10|cartao credito|        2099|      1|    loja|\n",
            "|10001920200309|    100019|2020-03-09T00:00:...|   7507788|          1|        outros|        1417|      1|    loja|\n",
            "|10000620200810|    100006|2020-08-10T00:00:...|   2320992|          9|         carne|       49.93|      2|    loja|\n",
            "|10000620200810|    100006|2020-08-10T00:00:...|   7502256|          9|         carne|      795.54|      1|    loja|\n",
            "|10000620200810|    100006|2020-08-10T00:00:...|   7498680|          9|         carne|     2275.32|      1|    loja|\n",
            "|10000220200221|    100002|2020-02-21T00:00:...|   7637880|          9|         carne|     1280.07|      1|    loja|\n",
            "|10000820200712|    100008|2020-07-12T00:00:...|   7677504|         14|cartao credito|     1399.86|      1|    loja|\n",
            "|10001420200618|    100014|2020-06-18T00:00:...|   7571508|         11|        outros|     1560.38|      1|    loja|\n",
            "|10001420200618|    100014|2020-06-18T00:00:...|   7079940|         11|        outros|        6.51|      1|    loja|\n",
            "|10001420200312|    100014|2020-03-12T00:00:...|   7151448|          6|        outros|      179.12|      1|    loja|\n",
            "|10000420200109|    100004|2020-01-09T00:00:...|   7213236|         20|cartao credito|        2294|      1|    loja|\n",
            "|10000420200107|    100004|2020-01-07T00:00:...|   6879168|         24|cartao credito|   2272.0801|      1|    site|\n",
            "|10000420200109|    100004|2020-01-09T00:00:...|   7213236|          1|        debito|        2294|      1|    loja|\n",
            "|10001520200831|    100015|2020-08-31T00:00:...|   7808820|          1|      dinheiro|        1494|      1|    loja|\n",
            "|10001520200618|    100015|2020-06-18T00:00:...|   6906072|          9|cartao credito|        4.97|      1|    loja|\n",
            "|10001520200618|    100015|2020-06-18T00:00:...|   7571328|          9|cartao credito|     1094.02|      1|    loja|\n",
            "|10000320200730|    100003|2020-07-30T00:00:...|   7642944|         10|        outros|      998.96|      1|    loja|\n",
            "|10000320200810|    100003|2020-08-10T00:00:...|   7642956|          9|        outros|         899|      1|    loja|\n",
            "|10000320200810|    100003|2020-08-10T00:00:...|   6906072|          9|        outros|        6.99|      1|    loja|\n",
            "|10001620200210|    100016|2020-02-10T00:00:...|   7560456|          9|cartao credito|       91.08|      1|    loja|\n",
            "|10001620200210|    100016|2020-02-10T00:00:...|   7085712|          1|cartao credito|          90|      1|    loja|\n",
            "|10001020200129|    100010|2020-01-29T00:00:...|   7317012|          9|cartao credito|      898.97|      1|    loja|\n",
            "|10001220200314|    100012|2020-03-14T00:00:...|   7571460|         14|cartao credito|     1099.98|      1|    loja|\n",
            "|10001320200103|    100013|2020-01-03T00:00:...|   7566492|         14|cartao credito|     1611.88|      1|    loja|\n",
            "|10001320200221|    100013|2020-02-21T00:00:...|   6047628|         14|cartao credito|       830.2|      1|    loja|\n",
            "|10001320200810|    100013|2020-08-10T00:00:...|   7825440|         15|cartao credito|        2799|      1|    site|\n",
            "|10001320200221|    100013|2020-02-21T00:00:...|   6745524|         14|cartao credito|       58.94|      1|    loja|\n",
            "|10001320200103|    100013|2020-01-03T00:00:...|   7590024|         14|cartao credito|      796.96|      1|    loja|\n",
            "|10001320200103|    100013|2020-01-03T00:00:...|   7167792|         10|cartao credito|         597|      1|    loja|\n",
            "|10001320200627|    100013|2020-06-27T00:00:...|   6526332|          4|cartao credito|       179.8|      2|    site|\n",
            "|10001820191228|    100018|2019-12-28T00:00:...|   6735348|         13|cartao credito|      238.94|      1|    loja|\n",
            "|10001820191228|    100018|2019-12-28T00:00:...|   7524732|         13|cartao credito|      800.14|      1|    loja|\n",
            "|10001820191228|    100018|2019-12-28T00:00:...|   7524744|         13|cartao credito|      398.88|      1|    loja|\n",
            "|10001120200219|    100011|2020-02-19T00:00:...|   6906072|          9|         carne|        4.43|      1|    loja|\n",
            "+--------------+----------+--------------------+----------+-----------+--------------+------------+-------+--------+\n",
            "only showing top 50 rows\n",
            "\n"
          ],
          "name": "stdout"
        }
      ]
    },
    {
      "cell_type": "code",
      "metadata": {
        "id": "wGJUOKUGCze2",
        "outputId": "14a0f2e4-3663-4b87-8a27-988973b980f6",
        "colab": {
          "base_uri": "https://localhost:8080/"
        }
      },
      "source": [
        "df_venda.printSchema()"
      ],
      "execution_count": 11,
      "outputs": [
        {
          "output_type": "stream",
          "text": [
            "root\n",
            " |-- pedido_id: string (nullable = true)\n",
            " |-- cliente_id: string (nullable = true)\n",
            " |-- dt_pedido: string (nullable = true)\n",
            " |-- produto_id: string (nullable = true)\n",
            " |-- qt_parcelas: string (nullable = true)\n",
            " |-- forma_pagto: string (nullable = true)\n",
            " |-- vr_unit_item: string (nullable = true)\n",
            " |-- qt_item: string (nullable = true)\n",
            " |-- tp_canal: string (nullable = true)\n",
            "\n"
          ],
          "name": "stdout"
        }
      ]
    },
    {
      "cell_type": "code",
      "metadata": {
        "id": "gqlwXlkwziHe"
      },
      "source": [
        "# Criando a view de Cliente\n",
        "df_cliente.createOrReplaceTempView(\"v_cliente\")"
      ],
      "execution_count": 13,
      "outputs": []
    },
    {
      "cell_type": "code",
      "metadata": {
        "id": "lnmVpMkK_mgU"
      },
      "source": [
        "# Criando a view de do Df Vendas p/ visualizar pedidos\n",
        "df_venda.createOrReplaceTempView(\"v_pedido\")"
      ],
      "execution_count": 15,
      "outputs": []
    },
    {
      "cell_type": "markdown",
      "metadata": {
        "id": "LxKjRVI_toVN"
      },
      "source": [
        "# **Dataframe utilizando apenas sparkSQL**"
      ]
    },
    {
      "cell_type": "code",
      "metadata": {
        "id": "hk2IZiCDHJGA",
        "outputId": "a9bc0736-d19a-4600-bc6c-ec4d61dd819b",
        "colab": {
          "base_uri": "https://localhost:8080/"
        }
      },
      "source": [
        "df_cliente_perfil = spark.sql(\n",
        "    \"\"\"\n",
        "    select v_cliente.cliente_id, \n",
        "           cast((datediff(current_date(), v_cliente.dt_nascimento) / 365) as int) as idade,\n",
        "           cast((datediff(current_date(), max(v_pedido.dt_pedido)) / 30) as int) as recencia,\n",
        "           count(distinct v_pedido.pedido_id) as qt_total_compras,\n",
        "           round(sum(v_pedido.vr_unit_item * v_pedido.qt_item ),2) as vr_total_compras,\n",
        "           count(distinct v_pedido.produto_id) as qt_total_itens,\n",
        "           max(v_pedido.qt_parcelas) as qt_max_parcelas,\n",
        "           case count(distinct v_pedido.tp_canal)\n",
        "            when 1 then min(v_pedido.tp_canal)\n",
        "            else \"multicanal\"\n",
        "           end as perfil_cliente\n",
        "           /*max(v_pedido.dt_pedido) as ultima_compra, count(distinct v_pedido.tp_canal) as qt_canal,*/\n",
        "      from v_pedido\n",
        "        inner join v_cliente on v_pedido.cliente_id = v_cliente.cliente_id\n",
        "      group by v_cliente.cliente_id,\n",
        "        cast((datediff(current_date(), v_cliente.dt_nascimento) / 365) as int)\n",
        "      order by cast(v_cliente.cliente_id as int)\n",
        "    \"\"\")\n",
        "\n",
        "df_cliente_perfil.show(100)"
      ],
      "execution_count": 19,
      "outputs": [
        {
          "output_type": "stream",
          "text": [
            "+----------+-----+--------+----------------+----------------+--------------+---------------+--------------+\n",
            "|cliente_id|idade|recencia|qt_total_compras|vr_total_compras|qt_total_itens|qt_max_parcelas|perfil_cliente|\n",
            "+----------+-----+--------+----------------+----------------+--------------+---------------+--------------+\n",
            "|    100001|   11|       4|               1|         1399.04|             1|             16|          loja|\n",
            "|    100002|   46|       8|               1|         1280.07|             1|              9|          loja|\n",
            "|    100003|   38|       2|               2|         1904.95|             3|              9|          loja|\n",
            "|    100004|   52|      10|               2|         6860.08|             2|             24|    multicanal|\n",
            "|    100005|   37|       8|               2|         3207.28|             2|             15|          loja|\n",
            "|    100006|   72|       2|               1|         3170.72|             3|              9|          loja|\n",
            "|    100007|   44|       4|               2|          2525.0|             4|              7|    multicanal|\n",
            "|    100008|   39|       3|               1|         1399.86|             1|             14|          loja|\n",
            "|    100009|   39|       4|               3|          4478.0|             4|             20|          loja|\n",
            "|    100010|   36|       9|               1|          898.97|             1|              9|          loja|\n",
            "|    100011|   42|       8|               1|          1324.8|             2|              9|          loja|\n",
            "|    100012|   46|       7|               1|         1099.98|             1|             14|          loja|\n",
            "|    100013|   56|       2|               4|         7053.58|             7|              4|    multicanal|\n",
            "|    100014|   56|       4|               2|         1746.01|             3|              6|          loja|\n",
            "|    100015|   74|       2|               2|         2592.99|             3|              9|          loja|\n",
            "|    100016|   48|       8|               1|          181.08|             2|              9|          loja|\n",
            "|    100017|   38|      10|               1|         4176.88|             2|             17|          loja|\n",
            "|    100018|   37|      10|               1|         1437.96|             3|             13|          loja|\n",
            "|    100019|   49|       5|               3|         6114.96|             3|             13|          loja|\n",
            "|    100020|   31|       3|               1|          755.66|             2|             11|          loja|\n",
            "+----------+-----+--------+----------------+----------------+--------------+---------------+--------------+\n",
            "\n"
          ],
          "name": "stdout"
        }
      ]
    },
    {
      "cell_type": "markdown",
      "metadata": {
        "id": "gj04La90xtBX"
      },
      "source": [
        "# **Resultado da junção de clientes e vendas**"
      ]
    },
    {
      "cell_type": "code",
      "metadata": {
        "id": "_0pzfYB-x9kk",
        "outputId": "34ba863f-10ca-49c0-8f0a-b86357e935dd",
        "colab": {
          "base_uri": "https://localhost:8080/"
        }
      },
      "source": [
        "df_resultado = df_venda.join(df_cliente,'cliente_id','inner') \\\n",
        "             .withColumn(\"multiplica\", sf.col(\"vr_unit_item\") * sf.col(\"qt_item\")) \\\n",
        "             .withColumn(\"dt_pedido\", sf.col(\"dt_pedido\").cast(\"date\")) \\\n",
        "             .withColumn(\"qt_parcelas\", sf.col(\"qt_parcelas\").cast(\"int\"))\n",
        "\n",
        "df_resultado.show()  "
      ],
      "execution_count": 20,
      "outputs": [
        {
          "output_type": "stream",
          "text": [
            "+----------+--------------+----------+----------+-----------+--------------+------------+-------+--------+--------------+-------------+----------+\n",
            "|cliente_id|     pedido_id| dt_pedido|produto_id|qt_parcelas|   forma_pagto|vr_unit_item|qt_item|tp_canal|          nome|dt_nascimento|multiplica|\n",
            "+----------+--------------+----------+----------+-----------+--------------+------------+-------+--------+--------------+-------------+----------+\n",
            "|    100007|10000720200217|2020-02-17|   6253644|         20|cartao credito|         478|      1|    loja|Cliente 100007|   1976-11-04|     478.0|\n",
            "|    100007|10000720200217|2020-02-17|   5313408|         20|cartao credito|      1357.2|      1|    loja|Cliente 100007|   1976-11-04|    1357.2|\n",
            "|    100007|10000720200217|2020-02-17|   6253140|         20|cartao credito|         372|      1|    loja|Cliente 100007|   1976-11-04|     372.0|\n",
            "|    100007|10000720200625|2020-06-25|   6858780|          7|cartao credito|       317.8|      1|    site|Cliente 100007|   1976-11-04|     317.8|\n",
            "|    100001|10000120200626|2020-06-26|   7560984|         16|cartao credito|     1399.04|      1|    loja|Cliente 100001|   2009-04-16|   1399.04|\n",
            "|    100009|10000920200614|2020-06-14|   7571280|         20|cartao credito|         990|      1|    loja|Cliente 100009|   1981-03-05|     990.0|\n",
            "|    100009|10000920191209|2019-12-09|   7318728|         15|cartao credito|         999|      1|    loja|Cliente 100009|   1981-03-05|     999.0|\n",
            "|    100009|10000920200614|2020-06-14|   7571436|         20|cartao credito|        1190|      1|    loja|Cliente 100009|   1981-03-05|    1190.0|\n",
            "|    100009|10000920200612|2020-06-12|   7571508|         20|cartao credito|        1299|      1|    loja|Cliente 100009|   1981-03-05|    1299.0|\n",
            "|    100005|10000520200214|2020-02-14|   7589448|         13|         carne|     1242.28|      1|    loja|Cliente 100005|   1982-11-29|   1242.28|\n",
            "|    100005|10000520200121|2020-01-21|   7197636|         15|         carne|        1965|      1|    loja|Cliente 100005|   1982-11-29|    1965.0|\n",
            "|    100017|10001720200103|2020-01-03|   3682128|         17|cartao credito|     2892.18|      1|    loja|Cliente 100017|   1982-01-19|   2892.18|\n",
            "|    100017|10001720200103|2020-01-03|   7537476|         17|cartao credito|      1284.7|      1|    loja|Cliente 100017|   1982-01-19|    1284.7|\n",
            "|    100020|10002020200731|2020-07-31|   7079940|         11|        outros|        5.69|      1|    loja|Cliente 100020|   1989-06-18|      5.69|\n",
            "|    100020|10002020200731|2020-07-31|   7571232|         11|        outros|      749.97|      1|    loja|Cliente 100020|   1989-06-18|    749.97|\n",
            "|    100019|10001920200604|2020-06-04|   6117516|         13|cartao credito|     2598.96|      1|    loja|Cliente 100019|   1971-09-09|   2598.96|\n",
            "|    100019|10001920200424|2020-04-24|   7692780|         10|cartao credito|        2099|      1|    loja|Cliente 100019|   1971-09-09|    2099.0|\n",
            "|    100019|10001920200309|2020-03-09|   7507788|          1|        outros|        1417|      1|    loja|Cliente 100019|   1971-09-09|    1417.0|\n",
            "|    100006|10000620200810|2020-08-10|   2320992|          9|         carne|       49.93|      2|    loja|Cliente 100006|   1948-04-01|     99.86|\n",
            "|    100006|10000620200810|2020-08-10|   7502256|          9|         carne|      795.54|      1|    loja|Cliente 100006|   1948-04-01|    795.54|\n",
            "+----------+--------------+----------+----------+-----------+--------------+------------+-------+--------+--------------+-------------+----------+\n",
            "only showing top 20 rows\n",
            "\n"
          ],
          "name": "stdout"
        }
      ]
    },
    {
      "cell_type": "markdown",
      "metadata": {
        "id": "wTAGPuIryTaz"
      },
      "source": [
        "# **Com o perfil do CLiente e Vendas  agrego cliente, sumarizando suas informações**"
      ]
    },
    {
      "cell_type": "code",
      "metadata": {
        "id": "NF6ReM1Jyg_l",
        "outputId": "5d58cb4f-4582-4975-ef8d-15034bd8aa38",
        "colab": {
          "base_uri": "https://localhost:8080/"
        }
      },
      "source": [
        "df_agrega_cliente = df_resultado.groupBy(\"cliente_id\")\\\n",
        "                 .agg(sf.max(\"dt_pedido\").alias(\"max_dt_pedido\"),\n",
        "                      sf.countDistinct(\"pedido_id\").alias(\"qt_total_compras\"),\n",
        "                      sf.countDistinct(\"tp_canal\").alias(\"qt_canal\"),\n",
        "                      sf.countDistinct(\"produto_id\").alias(\"qt_total_itens\"),\n",
        "                      sf.max(\"dt_nascimento\").alias(\"dt_nascimento\"),\n",
        "                      sf.min(\"tp_canal\").alias(\"min_tp_canal\"),\n",
        "                      sf.max(\"qt_parcelas\").alias(\"qt_max_parcelas\"))\\\n",
        ".withColumn(\"recencia\",(sf.months_between(sf.current_date(),sf.col(\"max_dt_pedido\").cast(\"date\"))))\\\n",
        ".withColumn(\"recencia\", sf.col(\"recencia\").cast(\"int\")) \\\n",
        ".withColumn(\"idade\",(sf.datediff(sf.current_date(),sf.col(\"dt_nascimento\").cast(\"date\")))/365.0)\\\n",
        ".withColumn(\"idade\",sf.col(\"idade\").cast(\"int\"))\\\n",
        ".withColumn(\"perfil_cliente\", sf.when(sf.col(\"qt_canal\") == 1, sf.col(\"min_tp_canal\"))\n",
        "            .otherwise(\"multicanal\"))\n",
        "               \n",
        "df_agrega_cliente.show()"
      ],
      "execution_count": 25,
      "outputs": [
        {
          "output_type": "stream",
          "text": [
            "+----------+-------------+----------------+--------+--------------+-------------+------------+---------------+--------+-----+--------------+\n",
            "|cliente_id|max_dt_pedido|qt_total_compras|qt_canal|qt_total_itens|dt_nascimento|min_tp_canal|qt_max_parcelas|recencia|idade|perfil_cliente|\n",
            "+----------+-------------+----------------+--------+--------------+-------------+------------+---------------+--------+-----+--------------+\n",
            "|    100010|   2020-01-29|               1|       1|             1|   1984-03-20|        loja|              9|       9|   36|          loja|\n",
            "|    100014|   2020-06-18|               2|       1|             3|   1964-05-24|        loja|             11|       4|   56|          loja|\n",
            "|    100008|   2020-07-12|               1|       1|             1|   1980-12-01|        loja|             14|       3|   39|          loja|\n",
            "|    100006|   2020-08-10|               1|       1|             3|   1948-04-01|        loja|              9|       2|   72|          loja|\n",
            "|    100005|   2020-02-14|               2|       1|             2|   1982-11-29|        loja|             15|       8|   37|          loja|\n",
            "|    100007|   2020-06-25|               2|       2|             4|   1976-11-04|        loja|             20|       4|   44|    multicanal|\n",
            "|    100020|   2020-07-31|               1|       1|             2|   1989-06-18|        loja|             11|       3|   31|          loja|\n",
            "|    100009|   2020-06-14|               3|       1|             4|   1981-03-05|        loja|             20|       4|   39|          loja|\n",
            "|    100004|   2020-01-09|               2|       2|             2|   1968-08-08|        loja|             24|       9|   52|    multicanal|\n",
            "|    100015|   2020-08-31|               2|       1|             3|   1946-10-18|        loja|              9|       2|   74|          loja|\n",
            "|    100016|   2020-02-10|               1|       1|             2|   1972-03-24|        loja|              9|       8|   48|          loja|\n",
            "|    100003|   2020-08-10|               2|       1|             3|   1981-12-05|        loja|             10|       2|   38|          loja|\n",
            "|    100011|   2020-02-19|               1|       1|             2|   1977-11-22|        loja|              9|       8|   42|          loja|\n",
            "|    100019|   2020-06-04|               3|       1|             3|   1971-09-09|        loja|             13|       5|   49|          loja|\n",
            "|    100012|   2020-03-14|               1|       1|             1|   1974-02-04|        loja|             14|       7|   46|          loja|\n",
            "|    100013|   2020-08-10|               4|       2|             7|   1964-06-21|        loja|             15|       2|   56|    multicanal|\n",
            "|    100017|   2020-01-03|               1|       1|             2|   1982-01-19|        loja|             17|      10|   38|          loja|\n",
            "|    100002|   2020-02-21|               1|       1|             1|   1974-08-29|        loja|              9|       8|   46|          loja|\n",
            "|    100018|   2019-12-28|               1|       1|             3|   1983-04-26|        loja|             13|      10|   37|          loja|\n",
            "|    100001|   2020-06-26|               1|       1|             1|   2009-04-16|        loja|             16|       4|   11|          loja|\n",
            "+----------+-------------+----------------+--------+--------------+-------------+------------+---------------+--------+-----+--------------+\n",
            "\n"
          ],
          "name": "stdout"
        }
      ]
    },
    {
      "cell_type": "markdown",
      "metadata": {
        "id": "UXyq2Zizy_CH"
      },
      "source": [
        "# **Do mesmo modo, a agregação de pedido totalizando cliente/pedido**"
      ]
    },
    {
      "cell_type": "code",
      "metadata": {
        "id": "pokzD4gJzKCW",
        "outputId": "6be1fd7c-6042-429e-9664-afd08293ccae",
        "colab": {
          "base_uri": "https://localhost:8080/"
        }
      },
      "source": [
        "df_agrega_pedido  = df_resultado.groupBy(\"cliente_id\") \\\n",
        "               .agg({\"multiplica\": \"sum\"}) \\\n",
        "               .withColumnRenamed(\"sum(multiplica)\", \"vr_total_compras\") \\\n",
        "               .withColumn(\"vr_total_compras\", sf.round(\"vr_total_compras\", 2))\n",
        "               \n",
        "   \n",
        "df_agrega_pedido.show() "
      ],
      "execution_count": 26,
      "outputs": [
        {
          "output_type": "stream",
          "text": [
            "+----------+----------------+\n",
            "|cliente_id|vr_total_compras|\n",
            "+----------+----------------+\n",
            "|    100010|          898.97|\n",
            "|    100014|         1746.01|\n",
            "|    100008|         1399.86|\n",
            "|    100006|         3170.72|\n",
            "|    100005|         3207.28|\n",
            "|    100007|          2525.0|\n",
            "|    100020|          755.66|\n",
            "|    100009|          4478.0|\n",
            "|    100004|         6860.08|\n",
            "|    100015|         2592.99|\n",
            "|    100016|          181.08|\n",
            "|    100003|         1904.95|\n",
            "|    100019|         6114.96|\n",
            "|    100011|          1324.8|\n",
            "|    100012|         1099.98|\n",
            "|    100013|         7053.58|\n",
            "|    100017|         4176.88|\n",
            "|    100002|         1280.07|\n",
            "|    100018|         1437.96|\n",
            "|    100001|         1399.04|\n",
            "+----------+----------------+\n",
            "\n"
          ],
          "name": "stdout"
        }
      ]
    },
    {
      "cell_type": "code",
      "metadata": {
        "id": "xTK88239zlw-"
      },
      "source": [
        "df_agrega_cliente.createOrReplaceTempView(\"v_agrega_cliente\")"
      ],
      "execution_count": 27,
      "outputs": []
    },
    {
      "cell_type": "code",
      "metadata": {
        "id": "Tn3X6keOz0Et"
      },
      "source": [
        "df_agrega_pedido.createOrReplaceTempView(\"v_agrega_pedido\")"
      ],
      "execution_count": 28,
      "outputs": []
    },
    {
      "cell_type": "markdown",
      "metadata": {
        "id": "XY15rkmk0G9N"
      },
      "source": [
        "# **Resultado agregando DataFrames e SparkSQL**\n"
      ]
    },
    {
      "cell_type": "code",
      "metadata": {
        "id": "RUWbTHqo0akG",
        "outputId": "89a02d6f-e312-4be2-e9f7-34e7f2fe7a01",
        "colab": {
          "base_uri": "https://localhost:8080/"
        }
      },
      "source": [
        "df_final = spark.sql(\n",
        "    \"\"\"\n",
        "    select v_agrega_cliente.cliente_id,\n",
        "           idade, \n",
        "           recencia,\n",
        "           qt_total_compras,           \n",
        "           v_agrega_pedido.vr_total_compras,\n",
        "           qt_total_itens,\n",
        "           qt_max_parcelas,\n",
        "           perfil_cliente\n",
        "      from v_agrega_pedido\n",
        "        inner join v_agrega_cliente on v_agrega_pedido.cliente_id = v_agrega_cliente.cliente_id\n",
        "      order by cast(v_agrega_cliente.cliente_id as int)\n",
        "    \"\"\")\n",
        "\n",
        "\n",
        "df_final.show()"
      ],
      "execution_count": 29,
      "outputs": [
        {
          "output_type": "stream",
          "text": [
            "+----------+-----+--------+----------------+----------------+--------------+---------------+--------------+\n",
            "|cliente_id|idade|recencia|qt_total_compras|vr_total_compras|qt_total_itens|qt_max_parcelas|perfil_cliente|\n",
            "+----------+-----+--------+----------------+----------------+--------------+---------------+--------------+\n",
            "|    100001|   11|       4|               1|         1399.04|             1|             16|          loja|\n",
            "|    100002|   46|       8|               1|         1280.07|             1|              9|          loja|\n",
            "|    100003|   38|       2|               2|         1904.95|             3|             10|          loja|\n",
            "|    100004|   52|       9|               2|         6860.08|             2|             24|    multicanal|\n",
            "|    100005|   37|       8|               2|         3207.28|             2|             15|          loja|\n",
            "|    100006|   72|       2|               1|         3170.72|             3|              9|          loja|\n",
            "|    100007|   44|       4|               2|          2525.0|             4|             20|    multicanal|\n",
            "|    100008|   39|       3|               1|         1399.86|             1|             14|          loja|\n",
            "|    100009|   39|       4|               3|          4478.0|             4|             20|          loja|\n",
            "|    100010|   36|       9|               1|          898.97|             1|              9|          loja|\n",
            "|    100011|   42|       8|               1|          1324.8|             2|              9|          loja|\n",
            "|    100012|   46|       7|               1|         1099.98|             1|             14|          loja|\n",
            "|    100013|   56|       2|               4|         7053.58|             7|             15|    multicanal|\n",
            "|    100014|   56|       4|               2|         1746.01|             3|             11|          loja|\n",
            "|    100015|   74|       2|               2|         2592.99|             3|              9|          loja|\n",
            "|    100016|   48|       8|               1|          181.08|             2|              9|          loja|\n",
            "|    100017|   38|      10|               1|         4176.88|             2|             17|          loja|\n",
            "|    100018|   37|      10|               1|         1437.96|             3|             13|          loja|\n",
            "|    100019|   49|       5|               3|         6114.96|             3|             13|          loja|\n",
            "|    100020|   31|       3|               1|          755.66|             2|             11|          loja|\n",
            "+----------+-----+--------+----------------+----------------+--------------+---------------+--------------+\n",
            "\n"
          ],
          "name": "stdout"
        }
      ]
    },
    {
      "cell_type": "markdown",
      "metadata": {
        "id": "9iPtAQKU03JN"
      },
      "source": [
        "Missão cumprida! Até a próxima."
      ]
    }
  ]
}